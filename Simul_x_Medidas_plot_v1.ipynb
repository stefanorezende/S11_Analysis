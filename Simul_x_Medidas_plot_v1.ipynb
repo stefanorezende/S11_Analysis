{
 "cells": [
  {
   "cell_type": "code",
   "execution_count": 17,
   "metadata": {},
   "outputs": [],
   "source": [
    "import matplotlib.pyplot as plt\n",
    "from matplotlib.pyplot import figure\n",
    "import pandas as pd\n",
    "import numpy as np\n",
    "from scipy import interpolate"
   ]
  },
  {
   "cell_type": "code",
   "execution_count": 3,
   "metadata": {},
   "outputs": [
    {
     "data": {
      "text/plain": [
       "freq         float64\n",
       "S11_Meas1    float64\n",
       "dtype: object"
      ]
     },
     "execution_count": 3,
     "metadata": {},
     "output_type": "execute_result"
    }
   ],
   "source": [
    "\n",
    "df_medida1 = pd.read_excel('Simul X Medidas\\Koch_Bowtie.xlsx', 'Koch_Bowtie_1_Medida_SKY', decimal=',')\n",
    "df_medida1.dtypes\n",
    "df_medida1.rename(columns = {'Frequency': 'freq', ' Formatted Data':'S11_Meas1'}, inplace = True)\n",
    "\n",
    "df_medida1['freq'] = df_medida1['freq'].astype(float)\n",
    "\n",
    "\n",
    "df_medida1.dtypes"
   ]
  },
  {
   "cell_type": "code",
   "execution_count": 4,
   "metadata": {},
   "outputs": [
    {
     "data": {
      "text/plain": [
       "freq         float64\n",
       "S11_Meas2    float64\n",
       "dtype: object"
      ]
     },
     "execution_count": 4,
     "metadata": {},
     "output_type": "execute_result"
    }
   ],
   "source": [
    "df_medida2 = pd.read_excel('Simul X Medidas\\Koch_Bowtie.xlsx', 'Koch_Bowtie_2_Medida_SKY', decimal=',')\n",
    "df_medida2.dtypes\n",
    "df_medida2.rename(columns = {'Frequency': 'freq', ' Formatted Data':'S11_Meas2'}, inplace = True)\n",
    "\n",
    "df_medida2['freq'] = df_medida2['freq'].astype(float)\n",
    "\n",
    "\n",
    "df_medida2.dtypes"
   ]
  },
  {
   "cell_type": "code",
   "execution_count": 5,
   "metadata": {},
   "outputs": [
    {
     "data": {
      "text/plain": [
       "freq       float64\n",
       "S11_ADS    float64\n",
       "dtype: object"
      ]
     },
     "execution_count": 5,
     "metadata": {},
     "output_type": "execute_result"
    }
   ],
   "source": [
    "df_ads = pd.read_excel('Simul X Medidas\\Koch_Bowtie.xlsx', 'Koch_Bowtie_ADS', decimal=',')\n",
    "df_ads.dtypes\n",
    "df_ads.rename(columns = {'Frequency / GHz':'freq', 'dB(S11_fitted)':'S11_ADS'}, inplace = True)\n",
    "\n",
    "# df_ads['freq'] = round(df_cst['freq'],2)*10**9\n",
    "df_ads.dtypes\n",
    "# df_ads['S11_ADS']"
   ]
  },
  {
   "cell_type": "code",
   "execution_count": 6,
   "metadata": {},
   "outputs": [
    {
     "data": {
      "text/plain": [
       "0       1.000000e+08\n",
       "1       1.100000e+08\n",
       "2       1.300000e+08\n",
       "3       1.400000e+08\n",
       "4       1.600000e+08\n",
       "            ...     \n",
       "996     1.494000e+10\n",
       "997     1.496000e+10\n",
       "998     1.497000e+10\n",
       "999     1.499000e+10\n",
       "1000    1.500000e+10\n",
       "Name: freq, Length: 1001, dtype: float64"
      ]
     },
     "execution_count": 6,
     "metadata": {},
     "output_type": "execute_result"
    }
   ],
   "source": [
    "df_cst = pd.read_excel('Simul X Medidas\\Koch_Bowtie.xlsx', 'S11 - Koch_simetric_CST', decimal=',')\n",
    "df_cst.dtypes\n",
    "df_cst.rename(columns = {'Frequency / GHz':'freq', 'S1,1/abs,dB':'S11_CST'}, inplace = True)\n",
    "\n",
    "df_cst['freq'] = round(df_cst['freq'],2)*10**9\n",
    "\n",
    "df_cst['freq']"
   ]
  },
  {
   "cell_type": "code",
   "execution_count": 10,
   "metadata": {},
   "outputs": [
    {
     "data": {
      "text/html": [
       "<div>\n",
       "<style scoped>\n",
       "    .dataframe tbody tr th:only-of-type {\n",
       "        vertical-align: middle;\n",
       "    }\n",
       "\n",
       "    .dataframe tbody tr th {\n",
       "        vertical-align: top;\n",
       "    }\n",
       "\n",
       "    .dataframe thead th {\n",
       "        text-align: right;\n",
       "    }\n",
       "</style>\n",
       "<table border=\"1\" class=\"dataframe\">\n",
       "  <thead>\n",
       "    <tr style=\"text-align: right;\">\n",
       "      <th></th>\n",
       "      <th>freq</th>\n",
       "      <th>S11_ADS</th>\n",
       "      <th>S11_CST</th>\n",
       "      <th>S11_Meas2</th>\n",
       "      <th>S11_Meas1</th>\n",
       "    </tr>\n",
       "  </thead>\n",
       "  <tbody>\n",
       "    <tr>\n",
       "      <th>0</th>\n",
       "      <td>0.000000e+00</td>\n",
       "      <td>-4.532339e-14</td>\n",
       "      <td>NaN</td>\n",
       "      <td>NaN</td>\n",
       "      <td>NaN</td>\n",
       "    </tr>\n",
       "    <tr>\n",
       "      <th>1</th>\n",
       "      <td>9.286484e+00</td>\n",
       "      <td>-4.339474e-14</td>\n",
       "      <td>NaN</td>\n",
       "      <td>NaN</td>\n",
       "      <td>NaN</td>\n",
       "    </tr>\n",
       "    <tr>\n",
       "      <th>2</th>\n",
       "      <td>9.286484e+01</td>\n",
       "      <td>-6.075263e-14</td>\n",
       "      <td>NaN</td>\n",
       "      <td>NaN</td>\n",
       "      <td>NaN</td>\n",
       "    </tr>\n",
       "    <tr>\n",
       "      <th>3</th>\n",
       "      <td>9.286484e+02</td>\n",
       "      <td>-5.371304e-13</td>\n",
       "      <td>NaN</td>\n",
       "      <td>NaN</td>\n",
       "      <td>NaN</td>\n",
       "    </tr>\n",
       "    <tr>\n",
       "      <th>4</th>\n",
       "      <td>9.286484e+03</td>\n",
       "      <td>-4.878533e-11</td>\n",
       "      <td>NaN</td>\n",
       "      <td>NaN</td>\n",
       "      <td>NaN</td>\n",
       "    </tr>\n",
       "    <tr>\n",
       "      <th>...</th>\n",
       "      <td>...</td>\n",
       "      <td>...</td>\n",
       "      <td>...</td>\n",
       "      <td>...</td>\n",
       "      <td>...</td>\n",
       "    </tr>\n",
       "    <tr>\n",
       "      <th>1519</th>\n",
       "      <td>1.496000e+10</td>\n",
       "      <td>NaN</td>\n",
       "      <td>-6.898647</td>\n",
       "      <td>NaN</td>\n",
       "      <td>NaN</td>\n",
       "    </tr>\n",
       "    <tr>\n",
       "      <th>525</th>\n",
       "      <td>1.496142e+10</td>\n",
       "      <td>-5.160090e+00</td>\n",
       "      <td>NaN</td>\n",
       "      <td>NaN</td>\n",
       "      <td>NaN</td>\n",
       "    </tr>\n",
       "    <tr>\n",
       "      <th>1520</th>\n",
       "      <td>1.497000e+10</td>\n",
       "      <td>NaN</td>\n",
       "      <td>-6.922719</td>\n",
       "      <td>NaN</td>\n",
       "      <td>NaN</td>\n",
       "    </tr>\n",
       "    <tr>\n",
       "      <th>1521</th>\n",
       "      <td>1.499000e+10</td>\n",
       "      <td>NaN</td>\n",
       "      <td>-6.950142</td>\n",
       "      <td>NaN</td>\n",
       "      <td>NaN</td>\n",
       "    </tr>\n",
       "    <tr>\n",
       "      <th>526</th>\n",
       "      <td>1.500000e+10</td>\n",
       "      <td>-5.159893e+00</td>\n",
       "      <td>-6.980726</td>\n",
       "      <td>NaN</td>\n",
       "      <td>NaN</td>\n",
       "    </tr>\n",
       "  </tbody>\n",
       "</table>\n",
       "<p>1689 rows × 5 columns</p>\n",
       "</div>"
      ],
      "text/plain": [
       "              freq       S11_ADS   S11_CST  S11_Meas2  S11_Meas1\n",
       "0     0.000000e+00 -4.532339e-14       NaN        NaN        NaN\n",
       "1     9.286484e+00 -4.339474e-14       NaN        NaN        NaN\n",
       "2     9.286484e+01 -6.075263e-14       NaN        NaN        NaN\n",
       "3     9.286484e+02 -5.371304e-13       NaN        NaN        NaN\n",
       "4     9.286484e+03 -4.878533e-11       NaN        NaN        NaN\n",
       "...            ...           ...       ...        ...        ...\n",
       "1519  1.496000e+10           NaN -6.898647        NaN        NaN\n",
       "525   1.496142e+10 -5.160090e+00       NaN        NaN        NaN\n",
       "1520  1.497000e+10           NaN -6.922719        NaN        NaN\n",
       "1521  1.499000e+10           NaN -6.950142        NaN        NaN\n",
       "526   1.500000e+10 -5.159893e+00 -6.980726        NaN        NaN\n",
       "\n",
       "[1689 rows x 5 columns]"
      ]
     },
     "execution_count": 10,
     "metadata": {},
     "output_type": "execute_result"
    }
   ],
   "source": [
    "# df = pd.merge_ordered(df_cst, df_ads, on='freq')\n",
    "\n",
    "df1 = df_ads.merge(df_cst, how= 'outer', on='freq')\n",
    "df2 = df_medida2.merge(df_medida1, how= 'outer', on='freq')\n",
    "df = df1.merge(df2, how= 'outer', on='freq')\n",
    "df.sort_values(by='freq', inplace=True)\n",
    "\n",
    "df= df.loc[df['freq']<=15e9]\n",
    "\n",
    "df"
   ]
  },
  {
   "cell_type": "code",
   "execution_count": 62,
   "metadata": {},
   "outputs": [
    {
     "data": {
      "text/plain": [
       "array([-4.72929797e-03, -5.52937896e-03, -6.33872789e-03, ...,\n",
       "       -5.16004606e+00, -5.15999494e+00, -5.15994382e+00])"
      ]
     },
     "execution_count": 62,
     "metadata": {},
     "output_type": "execute_result"
    }
   ],
   "source": [
    "nfreq = np.arange(100E6, 15E9, 10E6) # % desejada\n",
    "\n",
    "f= interpolate.interp1d(df_ads['freq'], df_ads['S11_ADS'])\n",
    "\n",
    "y_ads = f(nfreq)\n",
    "\n",
    "y_ads"
   ]
  },
  {
   "cell_type": "code",
   "execution_count": 63,
   "metadata": {},
   "outputs": [
    {
     "data": {
      "text/plain": [
       "array([-0.23582556, -0.24406439, -0.24829796, ..., -6.9227192 ,\n",
       "       -6.93643075, -6.9501423 ])"
      ]
     },
     "execution_count": 63,
     "metadata": {},
     "output_type": "execute_result"
    }
   ],
   "source": [
    "f= interpolate.interp1d(df_cst['freq'], df_cst['S11_CST'])\n",
    "\n",
    "y_cst = f(nfreq)\n",
    "\n",
    "y_cst"
   ]
  },
  {
   "cell_type": "code",
   "execution_count": 64,
   "metadata": {},
   "outputs": [
    {
     "data": {
      "text/plain": [
       "array([-0.25320431, -0.26851069, -0.28381708, ..., -8.10770684,\n",
       "       -8.12001756, -8.13232827])"
      ]
     },
     "execution_count": 64,
     "metadata": {},
     "output_type": "execute_result"
    }
   ],
   "source": [
    "f= interpolate.interp1d(df_medida1['freq'], df_medida1['S11_Meas1'])\n",
    "\n",
    "y_med1 = f(nfreq)\n",
    "\n",
    "y_med1"
   ]
  },
  {
   "cell_type": "code",
   "execution_count": 65,
   "metadata": {},
   "outputs": [
    {
     "data": {
      "text/plain": [
       "array([-0.25174396, -0.26772687, -0.28370978, ..., -8.1661981 ,\n",
       "       -8.17045242, -8.17470674])"
      ]
     },
     "execution_count": 65,
     "metadata": {},
     "output_type": "execute_result"
    }
   ],
   "source": [
    "f= interpolate.interp1d(df_medida2['freq'], df_medida2['S11_Meas2'])\n",
    "\n",
    "y_med2 = f(nfreq)\n",
    "\n",
    "y_med2"
   ]
  },
  {
   "cell_type": "code",
   "execution_count": 66,
   "metadata": {},
   "outputs": [
    {
     "data": {
      "text/html": [
       "<div>\n",
       "<style scoped>\n",
       "    .dataframe tbody tr th:only-of-type {\n",
       "        vertical-align: middle;\n",
       "    }\n",
       "\n",
       "    .dataframe tbody tr th {\n",
       "        vertical-align: top;\n",
       "    }\n",
       "\n",
       "    .dataframe thead th {\n",
       "        text-align: right;\n",
       "    }\n",
       "</style>\n",
       "<table border=\"1\" class=\"dataframe\">\n",
       "  <thead>\n",
       "    <tr style=\"text-align: right;\">\n",
       "      <th></th>\n",
       "      <th>freq</th>\n",
       "      <th>S11_ADS</th>\n",
       "      <th>S11_CST</th>\n",
       "      <th>S11_Meas1</th>\n",
       "      <th>S11_Meas2</th>\n",
       "    </tr>\n",
       "  </thead>\n",
       "  <tbody>\n",
       "    <tr>\n",
       "      <th>freq</th>\n",
       "      <td>1.000000</td>\n",
       "      <td>0.126849</td>\n",
       "      <td>-0.094215</td>\n",
       "      <td>-0.229431</td>\n",
       "      <td>-0.240307</td>\n",
       "    </tr>\n",
       "    <tr>\n",
       "      <th>S11_ADS</th>\n",
       "      <td>0.126849</td>\n",
       "      <td>1.000000</td>\n",
       "      <td>0.847549</td>\n",
       "      <td>0.594295</td>\n",
       "      <td>0.596070</td>\n",
       "    </tr>\n",
       "    <tr>\n",
       "      <th>S11_CST</th>\n",
       "      <td>-0.094215</td>\n",
       "      <td>0.847549</td>\n",
       "      <td>1.000000</td>\n",
       "      <td>0.757115</td>\n",
       "      <td>0.762894</td>\n",
       "    </tr>\n",
       "    <tr>\n",
       "      <th>S11_Meas1</th>\n",
       "      <td>-0.229431</td>\n",
       "      <td>0.594295</td>\n",
       "      <td>0.757115</td>\n",
       "      <td>1.000000</td>\n",
       "      <td>0.986491</td>\n",
       "    </tr>\n",
       "    <tr>\n",
       "      <th>S11_Meas2</th>\n",
       "      <td>-0.240307</td>\n",
       "      <td>0.596070</td>\n",
       "      <td>0.762894</td>\n",
       "      <td>0.986491</td>\n",
       "      <td>1.000000</td>\n",
       "    </tr>\n",
       "  </tbody>\n",
       "</table>\n",
       "</div>"
      ],
      "text/plain": [
       "               freq   S11_ADS   S11_CST  S11_Meas1  S11_Meas2\n",
       "freq       1.000000  0.126849 -0.094215  -0.229431  -0.240307\n",
       "S11_ADS    0.126849  1.000000  0.847549   0.594295   0.596070\n",
       "S11_CST   -0.094215  0.847549  1.000000   0.757115   0.762894\n",
       "S11_Meas1 -0.229431  0.594295  0.757115   1.000000   0.986491\n",
       "S11_Meas2 -0.240307  0.596070  0.762894   0.986491   1.000000"
      ]
     },
     "execution_count": 66,
     "metadata": {},
     "output_type": "execute_result"
    }
   ],
   "source": [
    "d= {'freq': nfreq, 'S11_ADS':y_ads,'S11_CST':y_cst, 'S11_Meas1':y_med1, 'S11_Meas2':y_med2}\n",
    "\n",
    "df = pd.DataFrame(d)\n",
    "corr_pearson = df.corr(method='pearson')\n",
    "corr_kendall = df.corr(method='kendall')\n",
    "corr_spearman = df.corr(method='spearman')\n",
    "\n",
    "corr_pearson"
   ]
  },
  {
   "cell_type": "code",
   "execution_count": 42,
   "metadata": {},
   "outputs": [
    {
     "data": {
      "text/plain": [
       "<matplotlib.legend.Legend at 0x1f671c2f580>"
      ]
     },
     "execution_count": 42,
     "metadata": {},
     "output_type": "execute_result"
    },
    {
     "data": {
      "text/plain": [
       "<Figure size 3000x2400 with 0 Axes>"
      ]
     },
     "metadata": {},
     "output_type": "display_data"
    },
    {
     "data": {
      "image/png": "[encoded data removed]",
      "text/plain": [
       "<Figure size 432x288 with 1 Axes>"
      ]
     },
     "metadata": {
      "needs_background": "light"
     },
     "output_type": "display_data"
    }
   ],
   "source": [
    "highest_freq = max([max(df_cst['freq']),max(df_ads['freq'])])\n",
    "\n",
    "\n",
    "figure(figsize=(15, 12), dpi=200)\n",
    "fig, ax = plt.subplots( layout = 'constrained')\n",
    "ax.plot(df_ads['freq'], df_ads['S11_ADS'], label ='ADS')\n",
    "ax.plot(df_cst['freq'], df_cst['S11_CST'], label ='CST')\n",
    "ax.plot(nfreq, y, label ='Med1_inter')\n",
    "ax.plot(df_medida1['freq'], df_medida1['S11_Meas1'], '--',label ='Medida 1',)\n",
    "# ax.plot(df_medida2['freq'], df_medida2['S11_Meas2'], label ='Medida 2')\n",
    "\n",
    "\n",
    "ax.set_xlabel('Frequency')  # Add an x-label to the axes.\n",
    "ax.set_ylabel('S(1,1) [dB]')  # Add a y-label to the axes.\n",
    "ax.set_title('S11_Analysis')  # Add a title to the axes.\n",
    "ax.set(xlim=(0, highest_freq), ylim=(-40, 0))\n",
    "ax.grid()\n",
    "ax.legend()"
   ]
  },
  {
   "cell_type": "code",
   "execution_count": 91,
   "metadata": {},
   "outputs": [
    {
     "data": {
      "text/plain": [
       "<matplotlib.legend.Legend at 0x1f601789160>"
      ]
     },
     "execution_count": 91,
     "metadata": {},
     "output_type": "execute_result"
    },
    {
     "data": {
      "text/plain": [
       "<Figure size 3000x2400 with 0 Axes>"
      ]
     },
     "metadata": {},
     "output_type": "display_data"
    },
    {
     "data": {
      "image/png": "[encoded data removed]",
      "text/plain": [
       "<Figure size 432x288 with 1 Axes>"
      ]
     },
     "metadata": {
      "needs_background": "light"
     },
     "output_type": "display_data"
    }
   ],
   "source": [
    "highest_freq = max([max(df_cst['freq']),max(df_ads['freq'])])\n",
    "\n",
    "\n",
    "figure(figsize=(15, 12), dpi=200)\n",
    "fig, ax = plt.subplots( layout = 'constrained')\n",
    "ax.plot(df['freq'], df['S11_ADS'], label ='ADS')\n",
    "ax.plot(df['freq'], df['S11_CST'], label ='CST')\n",
    "ax.plot(df['freq'], df['S11_Meas1'], '--',label ='Measured',)\n",
    "ax.axhline(y=-10, ls=':', color = 'r')\n",
    "\n",
    "\n",
    "\n",
    "ax.set_xlabel('Frequency')  # Add an x-label to the axes.\n",
    "ax.set_ylabel('S(1,1) [dB]')  # Add a y-label to the axes.\n",
    "ax.set_title('S11_Analysis')  # Add a title to the axes.\n",
    "ax.set(xlim=(0, highest_freq), ylim=(-40, 0))\n",
    "ax.grid()\n",
    "ax.legend()"
   ]
  },
  {
   "cell_type": "code",
   "execution_count": null,
   "metadata": {},
   "outputs": [
    {
     "name": "stdout",
     "output_type": "stream",
     "text": [
      "Sierpinski_simetric\n",
      "Sierp_Patch_3rd\n",
      "Sierp_Patch_2rd\n",
      "MLIN_Slot_Circular_MoM\n",
      "MLIN_Disc_Monopole_MoM\n",
      "MLIN_Disc_Monopole_FEM\n",
      "MLIN_Cardioid_Monopole_MoM\n",
      "Log_P_Koch_Param_1\n",
      "Koch_simetric\n",
      "fit_67\n",
      "CPW_Disc_Monopole_MoM\n",
      "CPW_Disc_Monopole_FEM\n",
      "CPW_Cardioid_Monopole_MoM\n",
      "Bowtie_import\n",
      "Planilha1\n"
     ]
    }
   ],
   "source": [
    "xl = pd.ExcelFile('S11_ADS.xlsx')\n",
    "sh_names = xl.sheet_names\n",
    "\n",
    "for name in sh_names:\n",
    "    print (name)"
   ]
  }
 ],
 "metadata": {
  "kernelspec": {
   "display_name": "Python 3.9.12",
   "language": "python",
   "name": "python3"
  },
  "language_info": {
   "codemirror_mode": {
    "name": "ipython",
    "version": 3
   },
   "file_extension": ".py",
   "mimetype": "text/x-python",
   "name": "python",
   "nbconvert_exporter": "python",
   "pygments_lexer": "ipython3",
   "version": "3.9.12"
  },
  "orig_nbformat": 4,
  "vscode": {
   "interpreter": {
    "hash": "ad2bdc8ecc057115af97d19610ffacc2b4e99fae6737bb82f5d7fb13d2f2c186"
   }
  }
 },
 "nbformat": 4,
 "nbformat_minor": 2
}
