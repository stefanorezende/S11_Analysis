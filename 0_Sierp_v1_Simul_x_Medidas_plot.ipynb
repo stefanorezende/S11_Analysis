{
 "cells": [
  {
   "cell_type": "code",
   "execution_count": 1,
   "metadata": {},
   "outputs": [],
   "source": [
    "import matplotlib.pyplot as plt\n",
    "from matplotlib.pyplot import figure\n",
    "import pandas as pd\n",
    "import numpy as np\n",
    "from scipy import interpolate"
   ]
  },
  {
   "cell_type": "code",
   "execution_count": 2,
   "metadata": {},
   "outputs": [
    {
     "data": {
      "text/plain": [
       "freq           float64\n",
       "S11_MeasSKY    float64\n",
       "dtype: object"
      ]
     },
     "execution_count": 2,
     "metadata": {},
     "output_type": "execute_result"
    }
   ],
   "source": [
    "\n",
    "df_medida = pd.read_excel('Simul X Medidas\\Sierpinski_Half_v1\\Sierpinski_v1.xlsx', 'Medida', decimal=',')\n",
    "df_medida.dtypes\n",
    "df_medida.rename(columns = {'Frequency': 'freq', ' Formatted Data':'S11_MeasSKY'}, inplace = True)\n",
    "\n",
    "df_medida['freq'] = df_medida['freq'].astype(float)\n",
    "\n",
    "\n",
    "df_medida.dtypes"
   ]
  },
  {
   "cell_type": "code",
   "execution_count": 3,
   "metadata": {},
   "outputs": [
    {
     "data": {
      "text/plain": [
       "freq              int64\n",
       "S11_MeasINPE    float64\n",
       "dtype: object"
      ]
     },
     "execution_count": 3,
     "metadata": {},
     "output_type": "execute_result"
    }
   ],
   "source": [
    "\n",
    "df_medida = pd.read_excel('Simul X Medidas\\Sierpinski_Half_v1\\Sierpinski_v1.xlsx', 'INPE', decimal=',')\n",
    "df_medida.dtypes\n",
    "df_medida.rename(columns = {'Frequency (Hz)': 'freq', 'dB':'S11_MeasINPE'}, inplace = True)\n",
    "\n",
    "# df_medida['freq'] = df_medida['freq'].astype(float)\n",
    "\n",
    "\n",
    "df_medida.dtypes"
   ]
  },
  {
   "cell_type": "code",
   "execution_count": 4,
   "metadata": {},
   "outputs": [
    {
     "data": {
      "text/plain": [
       "freq       float64\n",
       "S11_ADS    float64\n",
       "dtype: object"
      ]
     },
     "execution_count": 4,
     "metadata": {},
     "output_type": "execute_result"
    }
   ],
   "source": [
    "df_ads = pd.read_excel('Simul X Medidas\\Sierpinski_Half_v1\\Sierpinski_v1.xlsx', 'ADS', decimal=',')\n",
    "df_ads.dtypes\n",
    "df_ads.rename(columns = {'Frequency / GHz':'freq', 'dB(S11_fitted)':'S11_ADS'}, inplace = True)\n",
    "\n",
    "# df_ads['freq'] = round(df_cst['freq'],2)*10**9\n",
    "df_ads.dtypes\n",
    "# df_ads['S11_ADS']"
   ]
  },
  {
   "cell_type": "code",
   "execution_count": 5,
   "metadata": {},
   "outputs": [
    {
     "data": {
      "text/plain": [
       "0       1.000000e+08\n",
       "1       1.200000e+08\n",
       "2       1.400000e+08\n",
       "3       1.500000e+08\n",
       "4       1.700000e+08\n",
       "            ...     \n",
       "996     1.793000e+10\n",
       "997     1.795000e+10\n",
       "998     1.796000e+10\n",
       "999     1.798000e+10\n",
       "1000    1.800000e+10\n",
       "Name: freq, Length: 1001, dtype: float64"
      ]
     },
     "execution_count": 5,
     "metadata": {},
     "output_type": "execute_result"
    }
   ],
   "source": [
    "df_cst = pd.read_excel('Simul X Medidas\\Sierpinski_Half_v1\\Sierpinski_v1.xlsx', 'CST', decimal=',')\n",
    "df_cst.dtypes\n",
    "df_cst.rename(columns = {'Frequency':'freq', 'S1;1':'S11_CST'}, inplace = True)\n",
    "\n",
    "df_cst['freq'] = round(df_cst['freq'],2)*10**9\n",
    "\n",
    "df_cst['freq']"
   ]
  },
  {
   "cell_type": "code",
   "execution_count": 6,
   "metadata": {},
   "outputs": [
    {
     "data": {
      "text/plain": [
       "freq            float64\n",
       "S11_MeasUSP1    float64\n",
       "dtype: object"
      ]
     },
     "execution_count": 6,
     "metadata": {},
     "output_type": "execute_result"
    }
   ],
   "source": [
    "df_medida2 = pd.read_excel('Simul X Medidas\\Sierpinski_Half_v1\\Sierpinski_v1.xlsx', 'USP1', decimal=',')\n",
    "df_medida2.dtypes\n",
    "df_medida2.rename(columns = {'Hz': 'freq', 'S':'S11_MeasUSP1'}, inplace = True)\n",
    "df_medida2 = df_medida2.drop(['R'], axis= 1)\n",
    "\n",
    "df_medida2['freq'] = df_medida2['freq'].astype(float)\n",
    "\n",
    "\n",
    "df_medida2.dtypes"
   ]
  },
  {
   "cell_type": "code",
   "execution_count": 7,
   "metadata": {},
   "outputs": [
    {
     "data": {
      "text/plain": [
       "freq            float64\n",
       "S11_MeasUSP2    float64\n",
       "dtype: object"
      ]
     },
     "execution_count": 7,
     "metadata": {},
     "output_type": "execute_result"
    }
   ],
   "source": [
    "df_medida3 = pd.read_excel('Simul X Medidas\\Sierpinski_Half_v1\\Sierpinski_v1.xlsx', 'USP2.1', decimal=',')\n",
    "df_medida3.dtypes\n",
    "df_medida3.rename(columns = {'Hz': 'freq', 'S':'S11_MeasUSP2'}, inplace = True)\n",
    "df_medida3 = df_medida3.drop(['R'], axis= 1)\n",
    "\n",
    "df_medida3['freq'] = df_medida3['freq'].astype(float)\n",
    "\n",
    "\n",
    "df_medida3.dtypes"
   ]
  },
  {
   "cell_type": "code",
   "execution_count": 8,
   "metadata": {},
   "outputs": [
    {
     "data": {
      "text/plain": [
       "freq            float64\n",
       "S11_MeasUSP3    float64\n",
       "dtype: object"
      ]
     },
     "execution_count": 8,
     "metadata": {},
     "output_type": "execute_result"
    }
   ],
   "source": [
    "df_medida4 = pd.read_excel('Simul X Medidas\\Sierpinski_Half_v1\\Sierpinski_v1.xlsx', 'USP3', decimal=',')\n",
    "df_medida4.dtypes\n",
    "df_medida4.rename(columns = {'Hz': 'freq', 'S':'S11_MeasUSP3'}, inplace = True)\n",
    "df_medida4 = df_medida4.drop(['R'], axis= 1)\n",
    "\n",
    "df_medida4['freq'] = df_medida4['freq'].astype(float)\n",
    "\n",
    "\n",
    "df_medida4.dtypes"
   ]
  },
  {
   "cell_type": "code",
   "execution_count": 9,
   "metadata": {},
   "outputs": [
    {
     "name": "stderr",
     "output_type": "stream",
     "text": [
      "c:\\ProgramData\\Anaconda3\\lib\\site-packages\\pandas\\core\\reshape\\merge.py:1205: UserWarning: You are merging on int and float columns where the float values are not equal to their int representation.\n",
      "  warnings.warn(\n"
     ]
    },
    {
     "data": {
      "text/html": [
       "<div>\n",
       "<style scoped>\n",
       "    .dataframe tbody tr th:only-of-type {\n",
       "        vertical-align: middle;\n",
       "    }\n",
       "\n",
       "    .dataframe tbody tr th {\n",
       "        vertical-align: top;\n",
       "    }\n",
       "\n",
       "    .dataframe thead th {\n",
       "        text-align: right;\n",
       "    }\n",
       "</style>\n",
       "<table border=\"1\" class=\"dataframe\">\n",
       "  <thead>\n",
       "    <tr style=\"text-align: right;\">\n",
       "      <th></th>\n",
       "      <th>freq</th>\n",
       "      <th>S11_ADS</th>\n",
       "      <th>S11_CST</th>\n",
       "      <th>S11_MeasINPE</th>\n",
       "    </tr>\n",
       "  </thead>\n",
       "  <tbody>\n",
       "    <tr>\n",
       "      <th>0</th>\n",
       "      <td>0.000000e+00</td>\n",
       "      <td>-4.243041e-14</td>\n",
       "      <td>NaN</td>\n",
       "      <td>NaN</td>\n",
       "    </tr>\n",
       "    <tr>\n",
       "      <th>1</th>\n",
       "      <td>9.330637e+00</td>\n",
       "      <td>-1.350058e-14</td>\n",
       "      <td>NaN</td>\n",
       "      <td>NaN</td>\n",
       "    </tr>\n",
       "    <tr>\n",
       "      <th>2</th>\n",
       "      <td>9.330637e+01</td>\n",
       "      <td>-1.832222e-14</td>\n",
       "      <td>NaN</td>\n",
       "      <td>NaN</td>\n",
       "    </tr>\n",
       "    <tr>\n",
       "      <th>3</th>\n",
       "      <td>9.330637e+02</td>\n",
       "      <td>-6.682789e-13</td>\n",
       "      <td>NaN</td>\n",
       "      <td>NaN</td>\n",
       "    </tr>\n",
       "    <tr>\n",
       "      <th>4</th>\n",
       "      <td>9.330637e+03</td>\n",
       "      <td>-6.472952e-11</td>\n",
       "      <td>NaN</td>\n",
       "      <td>NaN</td>\n",
       "    </tr>\n",
       "    <tr>\n",
       "      <th>...</th>\n",
       "      <td>...</td>\n",
       "      <td>...</td>\n",
       "      <td>...</td>\n",
       "      <td>...</td>\n",
       "    </tr>\n",
       "    <tr>\n",
       "      <th>15628</th>\n",
       "      <td>1.799600e+10</td>\n",
       "      <td>NaN</td>\n",
       "      <td>NaN</td>\n",
       "      <td>-7.914797</td>\n",
       "    </tr>\n",
       "    <tr>\n",
       "      <th>15629</th>\n",
       "      <td>1.799700e+10</td>\n",
       "      <td>NaN</td>\n",
       "      <td>NaN</td>\n",
       "      <td>-7.898809</td>\n",
       "    </tr>\n",
       "    <tr>\n",
       "      <th>15630</th>\n",
       "      <td>1.799800e+10</td>\n",
       "      <td>NaN</td>\n",
       "      <td>NaN</td>\n",
       "      <td>-7.936086</td>\n",
       "    </tr>\n",
       "    <tr>\n",
       "      <th>15631</th>\n",
       "      <td>1.799900e+10</td>\n",
       "      <td>NaN</td>\n",
       "      <td>NaN</td>\n",
       "      <td>-7.911622</td>\n",
       "    </tr>\n",
       "    <tr>\n",
       "      <th>454</th>\n",
       "      <td>1.800000e+10</td>\n",
       "      <td>-5.148911e+00</td>\n",
       "      <td>-15.272643</td>\n",
       "      <td>-7.915668</td>\n",
       "    </tr>\n",
       "  </tbody>\n",
       "</table>\n",
       "<p>15632 rows × 4 columns</p>\n",
       "</div>"
      ],
      "text/plain": [
       "               freq       S11_ADS    S11_CST  S11_MeasINPE\n",
       "0      0.000000e+00 -4.243041e-14        NaN           NaN\n",
       "1      9.330637e+00 -1.350058e-14        NaN           NaN\n",
       "2      9.330637e+01 -1.832222e-14        NaN           NaN\n",
       "3      9.330637e+02 -6.682789e-13        NaN           NaN\n",
       "4      9.330637e+03 -6.472952e-11        NaN           NaN\n",
       "...             ...           ...        ...           ...\n",
       "15628  1.799600e+10           NaN        NaN     -7.914797\n",
       "15629  1.799700e+10           NaN        NaN     -7.898809\n",
       "15630  1.799800e+10           NaN        NaN     -7.936086\n",
       "15631  1.799900e+10           NaN        NaN     -7.911622\n",
       "454    1.800000e+10 -5.148911e+00 -15.272643     -7.915668\n",
       "\n",
       "[15632 rows x 4 columns]"
      ]
     },
     "execution_count": 9,
     "metadata": {},
     "output_type": "execute_result"
    }
   ],
   "source": [
    "# df = pd.merge_ordered(df_cst, df_ads, on='freq')\n",
    "\n",
    "df1 = df_ads.merge(df_cst, how= 'outer', on='freq')\n",
    "df = df1.merge(df_medida, how= 'outer', on='freq')\n",
    "df.sort_values(by='freq', inplace=True)\n",
    "\n",
    "# df= df.loc[df['freq']<=15e9]\n",
    "\n",
    "df"
   ]
  },
  {
   "cell_type": "code",
   "execution_count": 10,
   "metadata": {},
   "outputs": [
    {
     "data": {
      "text/plain": [
       "array([-4.62080356, -4.68162335, -4.74175533, ..., -5.3737837 ,\n",
       "       -5.29882605, -5.22386839])"
      ]
     },
     "execution_count": 10,
     "metadata": {},
     "output_type": "execute_result"
    }
   ],
   "source": [
    "nfreq = np.arange(3E9, 18E9, 10E6) # % desejada\n",
    "\n",
    "f= interpolate.interp1d(df_ads['freq'], df_ads['S11_ADS'])\n",
    "\n",
    "y_ads = f(nfreq)\n",
    "\n",
    "y_ads"
   ]
  },
  {
   "cell_type": "code",
   "execution_count": 11,
   "metadata": {},
   "outputs": [
    {
     "data": {
      "text/plain": [
       "array([ -1.662641  ,  -1.68532225,  -1.7080035 , ..., -14.9978855 ,\n",
       "       -15.090116  , -15.1813795 ])"
      ]
     },
     "execution_count": 11,
     "metadata": {},
     "output_type": "execute_result"
    }
   ],
   "source": [
    "f= interpolate.interp1d(df_cst['freq'], df_cst['S11_CST'])\n",
    "\n",
    "y_cst = f(nfreq)\n",
    "\n",
    "y_cst"
   ]
  },
  {
   "cell_type": "code",
   "execution_count": 12,
   "metadata": {},
   "outputs": [
    {
     "data": {
      "text/plain": [
       "array([-0.7520183, -0.7560909, -0.7490751, ..., -7.818168 , -7.86913  ,\n",
       "       -7.916314 ])"
      ]
     },
     "execution_count": 12,
     "metadata": {},
     "output_type": "execute_result"
    }
   ],
   "source": [
    "f= interpolate.interp1d(df_medida['freq'], df_medida['S11_MeasINPE'])\n",
    "\n",
    "y_med1 = f(nfreq)\n",
    "\n",
    "y_med1"
   ]
  },
  {
   "cell_type": "code",
   "execution_count": 13,
   "metadata": {},
   "outputs": [
    {
     "data": {
      "text/plain": [
       "array([-0.72103686, -0.71918137, -0.72406168, ..., -7.80443576,\n",
       "       -7.85755003, -7.90586179])"
      ]
     },
     "execution_count": 13,
     "metadata": {},
     "output_type": "execute_result"
    }
   ],
   "source": [
    "f= interpolate.interp1d(df_medida2['freq'], df_medida2['S11_MeasUSP1'])\n",
    "\n",
    "y_med2 = f(nfreq)\n",
    "\n",
    "y_med2"
   ]
  },
  {
   "cell_type": "code",
   "execution_count": 14,
   "metadata": {},
   "outputs": [
    {
     "data": {
      "text/plain": [
       "array([-0.98067217, -1.00593978, -1.02983515, ..., -7.55467009,\n",
       "       -7.57574922, -7.59494763])"
      ]
     },
     "execution_count": 14,
     "metadata": {},
     "output_type": "execute_result"
    }
   ],
   "source": [
    "f= interpolate.interp1d(df_medida3['freq'], df_medida3['S11_MeasUSP2'])\n",
    "\n",
    "y_med3 = f(nfreq)\n",
    "\n",
    "y_med3"
   ]
  },
  {
   "cell_type": "code",
   "execution_count": 15,
   "metadata": {},
   "outputs": [
    {
     "data": {
      "text/plain": [
       "array([-1.00942523, -1.07262026, -1.14088119, ..., -7.66080881,\n",
       "       -7.70060319, -7.74144134])"
      ]
     },
     "execution_count": 15,
     "metadata": {},
     "output_type": "execute_result"
    }
   ],
   "source": [
    "f= interpolate.interp1d(df_medida4['freq'], df_medida4['S11_MeasUSP3'])\n",
    "\n",
    "y_med4 = f(nfreq)\n",
    "\n",
    "y_med4"
   ]
  },
  {
   "cell_type": "code",
   "execution_count": 16,
   "metadata": {},
   "outputs": [
    {
     "data": {
      "text/html": [
       "<div>\n",
       "<style scoped>\n",
       "    .dataframe tbody tr th:only-of-type {\n",
       "        vertical-align: middle;\n",
       "    }\n",
       "\n",
       "    .dataframe tbody tr th {\n",
       "        vertical-align: top;\n",
       "    }\n",
       "\n",
       "    .dataframe thead th {\n",
       "        text-align: right;\n",
       "    }\n",
       "</style>\n",
       "<table border=\"1\" class=\"dataframe\">\n",
       "  <thead>\n",
       "    <tr style=\"text-align: right;\">\n",
       "      <th></th>\n",
       "      <th>S11_ADS</th>\n",
       "      <th>S11_CST</th>\n",
       "      <th>S11_MeasINPE</th>\n",
       "      <th>S11_MeasUSP3</th>\n",
       "    </tr>\n",
       "  </thead>\n",
       "  <tbody>\n",
       "    <tr>\n",
       "      <th>S11_ADS</th>\n",
       "      <td>1.000000</td>\n",
       "      <td>0.243465</td>\n",
       "      <td>0.069139</td>\n",
       "      <td>0.081860</td>\n",
       "    </tr>\n",
       "    <tr>\n",
       "      <th>S11_CST</th>\n",
       "      <td>0.243465</td>\n",
       "      <td>1.000000</td>\n",
       "      <td>0.761119</td>\n",
       "      <td>0.807831</td>\n",
       "    </tr>\n",
       "    <tr>\n",
       "      <th>S11_MeasINPE</th>\n",
       "      <td>0.069139</td>\n",
       "      <td>0.761119</td>\n",
       "      <td>1.000000</td>\n",
       "      <td>0.953417</td>\n",
       "    </tr>\n",
       "    <tr>\n",
       "      <th>S11_MeasUSP3</th>\n",
       "      <td>0.081860</td>\n",
       "      <td>0.807831</td>\n",
       "      <td>0.953417</td>\n",
       "      <td>1.000000</td>\n",
       "    </tr>\n",
       "  </tbody>\n",
       "</table>\n",
       "</div>"
      ],
      "text/plain": [
       "               S11_ADS   S11_CST  S11_MeasINPE  S11_MeasUSP3\n",
       "S11_ADS       1.000000  0.243465      0.069139      0.081860\n",
       "S11_CST       0.243465  1.000000      0.761119      0.807831\n",
       "S11_MeasINPE  0.069139  0.761119      1.000000      0.953417\n",
       "S11_MeasUSP3  0.081860  0.807831      0.953417      1.000000"
      ]
     },
     "execution_count": 16,
     "metadata": {},
     "output_type": "execute_result"
    }
   ],
   "source": [
    "# d= {'freq': nfreq, 'S11_ADS':y_ads,'S11_CST':y_cst, 'S11_MeasSKY':y_med1,'S11_MeasUSP1':y_med2, 'S11_MeasUSP2':y_med3, 'S11_MeasUSP3':y_med4}\n",
    "\n",
    "d= { 'S11_ADS':y_ads,'S11_CST':y_cst, 'S11_MeasINPE':y_med1, 'S11_MeasUSP3':y_med4}\n",
    "\n",
    "df = pd.DataFrame(d)\n",
    "corr_pearson = df.corr(method='pearson')\n",
    "corr_kendall = df.corr(method='kendall')\n",
    "corr_spearman = df.corr(method='spearman')\n",
    "\n",
    "corr_pearson"
   ]
  },
  {
   "cell_type": "code",
   "execution_count": 17,
   "metadata": {},
   "outputs": [
    {
     "data": {
      "text/plain": [
       "<matplotlib.legend.Legend at 0x21f75f7a9a0>"
      ]
     },
     "execution_count": 17,
     "metadata": {},
     "output_type": "execute_result"
    },
    {
     "data": {
      "text/plain": [
       "<Figure size 4500x3600 with 0 Axes>"
      ]
     },
     "metadata": {},
     "output_type": "display_data"
    },
    {
     "data": {
      "image/png": "[encoded data removed]",
      "text/plain": [
       "<Figure size 432x288 with 1 Axes>"
      ]
     },
     "metadata": {
      "needs_background": "light"
     },
     "output_type": "display_data"
    }
   ],
   "source": [
    "highest_freq = max([max(df_cst['freq']),max(df_ads['freq'])])\n",
    "\n",
    "\n",
    "figure(figsize=(15, 12), dpi=300)\n",
    "fig, ax = plt.subplots( layout = 'constrained')\n",
    "# ax.plot(df_ads['freq'], df_ads['S11_ADS'], label ='ADS')\n",
    "ax.plot(df_cst['freq'], df_cst['S11_CST'], label ='CST')\n",
    "ax.plot(df_medida['freq'], df_medida['S11_MeasINPE'], '--',label ='INPE',)\n",
    "# ax.plot(df_medida2['freq'], df_medida2['S11_Meas2'], label ='Medida 2')\n",
    "ax.plot(df_medida4['freq'], df_medida4['S11_MeasUSP3'],'--', label ='USP')\n",
    "\n",
    "plt.axhline(y=-10, ls=':', c='r') #Horizontal Line\n",
    "plt.xticks(range(0, 19*10**9, 1*10**9)) #x scale\n",
    "ax.set_xlabel('Frequency')  # Add an x-label to the axes.\n",
    "ax.set_ylabel('S(1,1) [dB]')  # Add a y-label to the axes.\n",
    "ax.set_title('S11_Analysis')  # Add a title to the axes.\n",
    "ax.set(xlim=(0, highest_freq), ylim=(-40, 0))\n",
    "ax.grid()\n",
    "\n",
    "ax.legend()"
   ]
  },
  {
   "cell_type": "code",
   "execution_count": 16,
   "metadata": {},
   "outputs": [
    {
     "data": {
      "text/html": [
       "<div>\n",
       "<style scoped>\n",
       "    .dataframe tbody tr th:only-of-type {\n",
       "        vertical-align: middle;\n",
       "    }\n",
       "\n",
       "    .dataframe tbody tr th {\n",
       "        vertical-align: top;\n",
       "    }\n",
       "\n",
       "    .dataframe thead th {\n",
       "        text-align: right;\n",
       "    }\n",
       "</style>\n",
       "<table border=\"1\" class=\"dataframe\">\n",
       "  <thead>\n",
       "    <tr style=\"text-align: right;\">\n",
       "      <th></th>\n",
       "      <th>freq</th>\n",
       "      <th>S11_CST</th>\n",
       "    </tr>\n",
       "  </thead>\n",
       "  <tbody>\n",
       "    <tr>\n",
       "      <th>0</th>\n",
       "      <td>1.000000e+08</td>\n",
       "      <td>1.077345e-07</td>\n",
       "    </tr>\n",
       "    <tr>\n",
       "      <th>1</th>\n",
       "      <td>1.400000e+08</td>\n",
       "      <td>-3.650453e-03</td>\n",
       "    </tr>\n",
       "    <tr>\n",
       "      <th>2</th>\n",
       "      <td>1.800000e+08</td>\n",
       "      <td>-8.423286e-03</td>\n",
       "    </tr>\n",
       "    <tr>\n",
       "      <th>3</th>\n",
       "      <td>2.200000e+08</td>\n",
       "      <td>-1.424536e-02</td>\n",
       "    </tr>\n",
       "    <tr>\n",
       "      <th>4</th>\n",
       "      <td>2.600000e+08</td>\n",
       "      <td>-2.102056e-02</td>\n",
       "    </tr>\n",
       "    <tr>\n",
       "      <th>...</th>\n",
       "      <td>...</td>\n",
       "      <td>...</td>\n",
       "    </tr>\n",
       "    <tr>\n",
       "      <th>996</th>\n",
       "      <td>3.984000e+10</td>\n",
       "      <td>-1.213467e+01</td>\n",
       "    </tr>\n",
       "    <tr>\n",
       "      <th>997</th>\n",
       "      <td>3.988000e+10</td>\n",
       "      <td>-1.197428e+01</td>\n",
       "    </tr>\n",
       "    <tr>\n",
       "      <th>998</th>\n",
       "      <td>3.992000e+10</td>\n",
       "      <td>-1.182304e+01</td>\n",
       "    </tr>\n",
       "    <tr>\n",
       "      <th>999</th>\n",
       "      <td>3.996000e+10</td>\n",
       "      <td>-1.168102e+01</td>\n",
       "    </tr>\n",
       "    <tr>\n",
       "      <th>1000</th>\n",
       "      <td>4.000000e+10</td>\n",
       "      <td>-1.154835e+01</td>\n",
       "    </tr>\n",
       "  </tbody>\n",
       "</table>\n",
       "<p>1001 rows × 2 columns</p>\n",
       "</div>"
      ],
      "text/plain": [
       "              freq       S11_CST\n",
       "0     1.000000e+08  1.077345e-07\n",
       "1     1.400000e+08 -3.650453e-03\n",
       "2     1.800000e+08 -8.423286e-03\n",
       "3     2.200000e+08 -1.424536e-02\n",
       "4     2.600000e+08 -2.102056e-02\n",
       "...            ...           ...\n",
       "996   3.984000e+10 -1.213467e+01\n",
       "997   3.988000e+10 -1.197428e+01\n",
       "998   3.992000e+10 -1.182304e+01\n",
       "999   3.996000e+10 -1.168102e+01\n",
       "1000  4.000000e+10 -1.154835e+01\n",
       "\n",
       "[1001 rows x 2 columns]"
      ]
     },
     "execution_count": 16,
     "metadata": {},
     "output_type": "execute_result"
    }
   ],
   "source": [
    "import pandas as pd\n",
    "df_cst = pd.read_excel('Simul X Medidas\\\\Sierpinski_Half_v1\\\\Sierpinski_v1.xlsx', 'CST_40', decimal=',')\n",
    "df_cst.dtypes\n",
    "df_cst.rename(columns = {'Frequency / GHz':'freq', 'S1,1/abs,dB':'S11_CST'}, inplace = True)\n",
    "\n",
    "df_cst['freq'] = round(df_cst['freq'],2)*10**9\n",
    "\n",
    "df_cst"
   ]
  },
  {
   "cell_type": "code",
   "execution_count": 17,
   "metadata": {},
   "outputs": [
    {
     "data": {
      "text/html": [
       "<div>\n",
       "<style scoped>\n",
       "    .dataframe tbody tr th:only-of-type {\n",
       "        vertical-align: middle;\n",
       "    }\n",
       "\n",
       "    .dataframe tbody tr th {\n",
       "        vertical-align: top;\n",
       "    }\n",
       "\n",
       "    .dataframe thead th {\n",
       "        text-align: right;\n",
       "    }\n",
       "</style>\n",
       "<table border=\"1\" class=\"dataframe\">\n",
       "  <thead>\n",
       "    <tr style=\"text-align: right;\">\n",
       "      <th></th>\n",
       "      <th>freq</th>\n",
       "      <th>S11_MeasUSP1</th>\n",
       "    </tr>\n",
       "  </thead>\n",
       "  <tbody>\n",
       "    <tr>\n",
       "      <th>0</th>\n",
       "      <td>1.000000e+08</td>\n",
       "      <td>0.002223</td>\n",
       "    </tr>\n",
       "    <tr>\n",
       "      <th>1</th>\n",
       "      <td>1.082500e+08</td>\n",
       "      <td>0.001829</td>\n",
       "    </tr>\n",
       "    <tr>\n",
       "      <th>2</th>\n",
       "      <td>1.165000e+08</td>\n",
       "      <td>0.004212</td>\n",
       "    </tr>\n",
       "    <tr>\n",
       "      <th>3</th>\n",
       "      <td>1.247500e+08</td>\n",
       "      <td>0.003478</td>\n",
       "    </tr>\n",
       "    <tr>\n",
       "      <th>4</th>\n",
       "      <td>1.330000e+08</td>\n",
       "      <td>0.001299</td>\n",
       "    </tr>\n",
       "    <tr>\n",
       "      <th>...</th>\n",
       "      <td>...</td>\n",
       "      <td>...</td>\n",
       "    </tr>\n",
       "    <tr>\n",
       "      <th>3196</th>\n",
       "      <td>2.646700e+10</td>\n",
       "      <td>-8.091692</td>\n",
       "    </tr>\n",
       "    <tr>\n",
       "      <th>3197</th>\n",
       "      <td>2.647525e+10</td>\n",
       "      <td>-8.084148</td>\n",
       "    </tr>\n",
       "    <tr>\n",
       "      <th>3198</th>\n",
       "      <td>2.648350e+10</td>\n",
       "      <td>-8.087072</td>\n",
       "    </tr>\n",
       "    <tr>\n",
       "      <th>3199</th>\n",
       "      <td>2.649175e+10</td>\n",
       "      <td>-8.096384</td>\n",
       "    </tr>\n",
       "    <tr>\n",
       "      <th>3200</th>\n",
       "      <td>2.650000e+10</td>\n",
       "      <td>-8.102105</td>\n",
       "    </tr>\n",
       "  </tbody>\n",
       "</table>\n",
       "<p>3201 rows × 2 columns</p>\n",
       "</div>"
      ],
      "text/plain": [
       "              freq  S11_MeasUSP1\n",
       "0     1.000000e+08      0.002223\n",
       "1     1.082500e+08      0.001829\n",
       "2     1.165000e+08      0.004212\n",
       "3     1.247500e+08      0.003478\n",
       "4     1.330000e+08      0.001299\n",
       "...            ...           ...\n",
       "3196  2.646700e+10     -8.091692\n",
       "3197  2.647525e+10     -8.084148\n",
       "3198  2.648350e+10     -8.087072\n",
       "3199  2.649175e+10     -8.096384\n",
       "3200  2.650000e+10     -8.102105\n",
       "\n",
       "[3201 rows x 2 columns]"
      ]
     },
     "execution_count": 17,
     "metadata": {},
     "output_type": "execute_result"
    }
   ],
   "source": [
    "df_medida2 = pd.read_excel('Simul X Medidas\\\\Sierpinski_Half_v1\\\\Sierpinski_v1.xlsx', 'USP_26G5', decimal=',')\n",
    "df_medida2.dtypes\n",
    "df_medida2.rename(columns = {'Hz': 'freq', 'S':'S11_MeasUSP1'}, inplace = True)\n",
    "\n",
    "\n",
    "df_medida2['freq'] = df_medida2['freq'].astype(float)\n",
    "\n",
    "\n",
    "df_medida2"
   ]
  },
  {
   "cell_type": "code",
   "execution_count": 18,
   "metadata": {},
   "outputs": [
    {
     "data": {
      "text/plain": [
       "<matplotlib.legend.Legend at 0x2280733c100>"
      ]
     },
     "execution_count": 18,
     "metadata": {},
     "output_type": "execute_result"
    },
    {
     "data": {
      "image/png": "[encoded data removed]",
      "text/plain": [
       "<Figure size 1280x960 with 1 Axes>"
      ]
     },
     "metadata": {},
     "output_type": "display_data"
    }
   ],
   "source": [
    "import matplotlib.pyplot as plt\n",
    "\n",
    "fig, ax = plt.subplots( layout = 'constrained', figsize=(6.4*2,4.8*2))\n",
    "# ax.plot(df_ads['freq'], df_ads['S11_ADS'], label ='ADS')\n",
    "ax.plot(df_cst['freq'], df_cst['S11_CST'], label ='Simulated')\n",
    "# ax.plot(nfreq, y, label ='Med1_inter')\n",
    "ax.plot(df_medida2['freq'], df_medida2['S11_MeasUSP1'], '--',label ='Measured', color = 'red')\n",
    "# ax.plot(df_medida2['freq'], df_medida2['S11_MeasSKY2'], label ='SKY 2')\n",
    "# ax.plot(df_medida3['freq'], df_medida3['S11_MeasUSP1'], '--',label ='USP 1',)\n",
    "# ax.plot(df_medida4['freq'], df_medida4['S11_MeasUSP2'],'--', label ='USP')\n",
    "\n",
    "\n",
    "plt.axhline(y=-10, ls=':', c='#000000') #Horizontal Line\n",
    "plt.ticklabel_format(axis='x', style='sci', scilimits=(9,9))\n",
    "plt.xticks(range(0, 27*10**9, 1*10**9)) #x scale\n",
    "ax.set_xlabel('Frequency')  # Add an x-label to the axes.\n",
    "ax.set_ylabel('S(1,1) [dB]')  # Add a y-label to the axes.\n",
    "# ax.set_title('S11_Analysis')  # Add a title to the axes.\n",
    "ax.set(xlim=(0, 26.5*10**9), ylim=(-40, 0))\n",
    "ax.grid()\n",
    "ax.legend()"
   ]
  }
 ],
 "metadata": {
  "kernelspec": {
   "display_name": "Python 3",
   "language": "python",
   "name": "python3"
  },
  "language_info": {
   "codemirror_mode": {
    "name": "ipython",
    "version": 3
   },
   "file_extension": ".py",
   "mimetype": "text/x-python",
   "name": "python",
   "nbconvert_exporter": "python",
   "pygments_lexer": "ipython3",
   "version": "3.10.1"
  },
  "orig_nbformat": 4
 },
 "nbformat": 4,
 "nbformat_minor": 2
}
