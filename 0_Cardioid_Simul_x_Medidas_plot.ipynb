{
 "cells": [
  {
   "cell_type": "code",
   "execution_count": 2,
   "metadata": {},
   "outputs": [],
   "source": [
    "import matplotlib.pyplot as plt\n",
    "from matplotlib.pyplot import figure\n",
    "import pandas as pd\n",
    "import numpy as np\n",
    "from scipy import interpolate"
   ]
  },
  {
   "cell_type": "code",
   "execution_count": 9,
   "metadata": {},
   "outputs": [
    {
     "data": {
      "text/plain": [
       "freq           float64\n",
       "S11_MeasSKY    float64\n",
       "dtype: object"
      ]
     },
     "execution_count": 9,
     "metadata": {},
     "output_type": "execute_result"
    }
   ],
   "source": [
    "\n",
    "df_medida = pd.read_excel('Simul X Medidas\\Cardioid\\Cardioid.xlsx', 'Medida', decimal=',')\n",
    "df_medida.dtypes\n",
    "df_medida.rename(columns = {'Frequency': 'freq', ' Formatted Data':'S11_MeasSKY'}, inplace = True)\n",
    "\n",
    "df_medida['freq'] = df_medida['freq'].astype(float)\n",
    "\n",
    "\n",
    "df_medida.dtypes"
   ]
  },
  {
   "cell_type": "code",
   "execution_count": 14,
   "metadata": {},
   "outputs": [
    {
     "data": {
      "text/plain": [
       "freq              int64\n",
       "S11_MeasINPE    float64\n",
       "dtype: object"
      ]
     },
     "execution_count": 14,
     "metadata": {},
     "output_type": "execute_result"
    }
   ],
   "source": [
    "\n",
    "df_medida = pd.read_excel('Simul X Medidas\\Cardioid\\Cardioid.xlsx', 'INPE', decimal=',')\n",
    "df_medida.dtypes\n",
    "df_medida.rename(columns = {'Frequency (Hz)': 'freq', 'dB':'S11_MeasINPE'}, inplace = True)\n",
    "\n",
    "# df_medida['freq'] = df_medida['freq'].astype(float)\n",
    "\n",
    "\n",
    "df_medida.dtypes"
   ]
  },
  {
   "cell_type": "code",
   "execution_count": 6,
   "metadata": {},
   "outputs": [
    {
     "data": {
      "text/plain": [
       "freq            float64\n",
       "S11_MeasUSP1    float64\n",
       "dtype: object"
      ]
     },
     "execution_count": 6,
     "metadata": {},
     "output_type": "execute_result"
    }
   ],
   "source": [
    "\n",
    "df_medida2 = pd.read_excel('Simul X Medidas\\Cardioid\\Cardioid.xlsx', 'USP1', decimal=',')\n",
    "df_medida2.dtypes\n",
    "df_medida2.rename(columns = {'Hz': 'freq', 'S':'S11_MeasUSP1'}, inplace = True)\n",
    "df_medida2 = df_medida2.drop(['R'], axis= 1)\n",
    "\n",
    "df_medida2['freq'] = df_medida2['freq'].astype(float)\n",
    "\n",
    "\n",
    "df_medida2.dtypes"
   ]
  },
  {
   "cell_type": "code",
   "execution_count": 7,
   "metadata": {},
   "outputs": [
    {
     "data": {
      "text/plain": [
       "freq            float64\n",
       "S11_MeasUSP2    float64\n",
       "dtype: object"
      ]
     },
     "execution_count": 7,
     "metadata": {},
     "output_type": "execute_result"
    }
   ],
   "source": [
    "df_medida3 = pd.read_excel('Simul X Medidas\\Cardioid\\Cardioid.xlsx', 'USP2', decimal=',')\n",
    "df_medida3.dtypes\n",
    "df_medida3.rename(columns = {'Hz': 'freq', 'S':'S11_MeasUSP2'}, inplace = True)\n",
    "df_medida3 = df_medida3.drop(['R'], axis= 1)\n",
    "\n",
    "df_medida3['freq'] = df_medida3['freq'].astype(float)\n",
    "\n",
    "\n",
    "df_medida3.dtypes"
   ]
  },
  {
   "cell_type": "code",
   "execution_count": 11,
   "metadata": {},
   "outputs": [
    {
     "data": {
      "text/plain": [
       "freq       float64\n",
       "S11_ADS    float64\n",
       "dtype: object"
      ]
     },
     "execution_count": 11,
     "metadata": {},
     "output_type": "execute_result"
    }
   ],
   "source": [
    "df_ads = pd.read_excel('Simul X Medidas\\Cardioid\\Cardioid.xlsx', 'ADS', decimal=',')\n",
    "df_ads.dtypes\n",
    "df_ads.rename(columns = {'Frequency / GHz':'freq', 'dB(S11_fitted)':'S11_ADS'}, inplace = True)\n",
    "\n",
    "# df_ads['freq'] = round(df_cst['freq'],2)*10**9\n",
    "df_ads.dtypes\n",
    "# df_ads['S11_ADS']"
   ]
  },
  {
   "cell_type": "code",
   "execution_count": 12,
   "metadata": {},
   "outputs": [
    {
     "data": {
      "text/plain": [
       "0       1.000000e+08\n",
       "1       1.200000e+08\n",
       "2       1.400000e+08\n",
       "3       1.500000e+08\n",
       "4       1.700000e+08\n",
       "            ...     \n",
       "996     1.793000e+10\n",
       "997     1.795000e+10\n",
       "998     1.796000e+10\n",
       "999     1.798000e+10\n",
       "1000    1.800000e+10\n",
       "Name: freq, Length: 1001, dtype: float64"
      ]
     },
     "execution_count": 12,
     "metadata": {},
     "output_type": "execute_result"
    }
   ],
   "source": [
    "df_cst = pd.read_excel('Simul X Medidas\\Cardioid\\Cardioid.xlsx', 'CST', decimal=',')\n",
    "df_cst.dtypes\n",
    "df_cst.rename(columns = {'Frequency':'freq', 'S1,1':'S11_CST'}, inplace = True)\n",
    "\n",
    "df_cst['freq'] = round(df_cst['freq'],2)*10**9\n",
    "\n",
    "df_cst['freq']"
   ]
  },
  {
   "cell_type": "code",
   "execution_count": 15,
   "metadata": {},
   "outputs": [
    {
     "name": "stderr",
     "output_type": "stream",
     "text": [
      "c:\\ProgramData\\Anaconda3\\lib\\site-packages\\pandas\\core\\reshape\\merge.py:1205: UserWarning: You are merging on int and float columns where the float values are not equal to their int representation.\n",
      "  warnings.warn(\n"
     ]
    },
    {
     "data": {
      "text/html": [
       "<div>\n",
       "<style scoped>\n",
       "    .dataframe tbody tr th:only-of-type {\n",
       "        vertical-align: middle;\n",
       "    }\n",
       "\n",
       "    .dataframe tbody tr th {\n",
       "        vertical-align: top;\n",
       "    }\n",
       "\n",
       "    .dataframe thead th {\n",
       "        text-align: right;\n",
       "    }\n",
       "</style>\n",
       "<table border=\"1\" class=\"dataframe\">\n",
       "  <thead>\n",
       "    <tr style=\"text-align: right;\">\n",
       "      <th></th>\n",
       "      <th>freq</th>\n",
       "      <th>S11_ADS</th>\n",
       "      <th>S11_CST</th>\n",
       "      <th>S11_MeasINPE</th>\n",
       "      <th>S11_MeasUSP1</th>\n",
       "      <th>S11_MeasUSP2</th>\n",
       "    </tr>\n",
       "  </thead>\n",
       "  <tbody>\n",
       "    <tr>\n",
       "      <th>0</th>\n",
       "      <td>0.000000e+00</td>\n",
       "      <td>-4.532339e-14</td>\n",
       "      <td>NaN</td>\n",
       "      <td>NaN</td>\n",
       "      <td>NaN</td>\n",
       "      <td>NaN</td>\n",
       "    </tr>\n",
       "    <tr>\n",
       "      <th>1</th>\n",
       "      <td>8.949772e+00</td>\n",
       "      <td>-5.014503e-14</td>\n",
       "      <td>NaN</td>\n",
       "      <td>NaN</td>\n",
       "      <td>NaN</td>\n",
       "      <td>NaN</td>\n",
       "    </tr>\n",
       "    <tr>\n",
       "      <th>2</th>\n",
       "      <td>8.949772e+01</td>\n",
       "      <td>-5.978830e-14</td>\n",
       "      <td>NaN</td>\n",
       "      <td>NaN</td>\n",
       "      <td>NaN</td>\n",
       "      <td>NaN</td>\n",
       "    </tr>\n",
       "    <tr>\n",
       "      <th>3</th>\n",
       "      <td>8.949772e+02</td>\n",
       "      <td>-8.756093e-13</td>\n",
       "      <td>NaN</td>\n",
       "      <td>NaN</td>\n",
       "      <td>NaN</td>\n",
       "      <td>NaN</td>\n",
       "    </tr>\n",
       "    <tr>\n",
       "      <th>4</th>\n",
       "      <td>8.949772e+03</td>\n",
       "      <td>-8.264672e-11</td>\n",
       "      <td>NaN</td>\n",
       "      <td>NaN</td>\n",
       "      <td>NaN</td>\n",
       "      <td>NaN</td>\n",
       "    </tr>\n",
       "    <tr>\n",
       "      <th>...</th>\n",
       "      <td>...</td>\n",
       "      <td>...</td>\n",
       "      <td>...</td>\n",
       "      <td>...</td>\n",
       "      <td>...</td>\n",
       "      <td>...</td>\n",
       "    </tr>\n",
       "    <tr>\n",
       "      <th>15793</th>\n",
       "      <td>1.799600e+10</td>\n",
       "      <td>NaN</td>\n",
       "      <td>NaN</td>\n",
       "      <td>-18.83384</td>\n",
       "      <td>NaN</td>\n",
       "      <td>NaN</td>\n",
       "    </tr>\n",
       "    <tr>\n",
       "      <th>15794</th>\n",
       "      <td>1.799700e+10</td>\n",
       "      <td>NaN</td>\n",
       "      <td>NaN</td>\n",
       "      <td>-18.84838</td>\n",
       "      <td>NaN</td>\n",
       "      <td>NaN</td>\n",
       "    </tr>\n",
       "    <tr>\n",
       "      <th>15795</th>\n",
       "      <td>1.799800e+10</td>\n",
       "      <td>NaN</td>\n",
       "      <td>NaN</td>\n",
       "      <td>-18.81624</td>\n",
       "      <td>NaN</td>\n",
       "      <td>NaN</td>\n",
       "    </tr>\n",
       "    <tr>\n",
       "      <th>15796</th>\n",
       "      <td>1.799900e+10</td>\n",
       "      <td>NaN</td>\n",
       "      <td>NaN</td>\n",
       "      <td>-18.79529</td>\n",
       "      <td>NaN</td>\n",
       "      <td>NaN</td>\n",
       "    </tr>\n",
       "    <tr>\n",
       "      <th>589</th>\n",
       "      <td>1.800000e+10</td>\n",
       "      <td>-1.115736e+01</td>\n",
       "      <td>-13.978696</td>\n",
       "      <td>-18.78701</td>\n",
       "      <td>-18.62212</td>\n",
       "      <td>-21.181976</td>\n",
       "    </tr>\n",
       "  </tbody>\n",
       "</table>\n",
       "<p>17312 rows × 6 columns</p>\n",
       "</div>"
      ],
      "text/plain": [
       "               freq       S11_ADS    S11_CST  S11_MeasINPE  S11_MeasUSP1  \\\n",
       "0      0.000000e+00 -4.532339e-14        NaN           NaN           NaN   \n",
       "1      8.949772e+00 -5.014503e-14        NaN           NaN           NaN   \n",
       "2      8.949772e+01 -5.978830e-14        NaN           NaN           NaN   \n",
       "3      8.949772e+02 -8.756093e-13        NaN           NaN           NaN   \n",
       "4      8.949772e+03 -8.264672e-11        NaN           NaN           NaN   \n",
       "...             ...           ...        ...           ...           ...   \n",
       "15793  1.799600e+10           NaN        NaN     -18.83384           NaN   \n",
       "15794  1.799700e+10           NaN        NaN     -18.84838           NaN   \n",
       "15795  1.799800e+10           NaN        NaN     -18.81624           NaN   \n",
       "15796  1.799900e+10           NaN        NaN     -18.79529           NaN   \n",
       "589    1.800000e+10 -1.115736e+01 -13.978696     -18.78701     -18.62212   \n",
       "\n",
       "       S11_MeasUSP2  \n",
       "0               NaN  \n",
       "1               NaN  \n",
       "2               NaN  \n",
       "3               NaN  \n",
       "4               NaN  \n",
       "...             ...  \n",
       "15793           NaN  \n",
       "15794           NaN  \n",
       "15795           NaN  \n",
       "15796           NaN  \n",
       "589      -21.181976  \n",
       "\n",
       "[17312 rows x 6 columns]"
      ]
     },
     "execution_count": 15,
     "metadata": {},
     "output_type": "execute_result"
    }
   ],
   "source": [
    "# df = pd.merge_ordered(df_cst, df_ads, on='freq')\n",
    "\n",
    "df1 = df_ads.merge(df_cst, how= 'outer', on='freq')\n",
    "df2 = df_medida2.merge(df_medida3, how= 'outer', on='freq')\n",
    "df = df1.merge(df_medida, how= 'outer', on='freq')\n",
    "df = df.merge(df2, how= 'outer', on='freq')\n",
    "df.sort_values(by='freq', inplace=True)\n",
    "\n",
    "# df= df.loc[df['freq']<=15e9]\n",
    "\n",
    "df"
   ]
  },
  {
   "cell_type": "code",
   "execution_count": 20,
   "metadata": {},
   "outputs": [
    {
     "data": {
      "text/plain": [
       "array([-19.86073769, -19.84906538, -19.81174331, ...,  -8.98657486,\n",
       "        -8.99080873,  -8.99504259])"
      ]
     },
     "execution_count": 20,
     "metadata": {},
     "output_type": "execute_result"
    }
   ],
   "source": [
    "nfreq = np.arange(3E9, 15E9, 10E6) # % desejada\n",
    "\n",
    "f= interpolate.interp1d(df_ads['freq'], df_ads['S11_ADS'])\n",
    "\n",
    "y_ads = f(nfreq)\n",
    "\n",
    "y_ads"
   ]
  },
  {
   "cell_type": "code",
   "execution_count": 21,
   "metadata": {},
   "outputs": [
    {
     "data": {
      "text/plain": [
       "array([-17.917936 , -17.9503905, -17.982845 , ..., -14.304529 ,\n",
       "       -14.328565 , -14.352601 ])"
      ]
     },
     "execution_count": 21,
     "metadata": {},
     "output_type": "execute_result"
    }
   ],
   "source": [
    "f= interpolate.interp1d(df_cst['freq'], df_cst['S11_CST'])\n",
    "\n",
    "y_cst = f(nfreq)\n",
    "\n",
    "y_cst"
   ]
  },
  {
   "cell_type": "code",
   "execution_count": 22,
   "metadata": {},
   "outputs": [
    {
     "data": {
      "text/plain": [
       "array([-11.13956 , -11.23066 , -11.21657 , ...,  -9.936101,  -9.936661,\n",
       "        -9.891594])"
      ]
     },
     "execution_count": 22,
     "metadata": {},
     "output_type": "execute_result"
    }
   ],
   "source": [
    "f= interpolate.interp1d(df_medida['freq'], df_medida['S11_MeasINPE'])\n",
    "\n",
    "y_med1 = f(nfreq)\n",
    "\n",
    "y_med1"
   ]
  },
  {
   "cell_type": "code",
   "execution_count": 23,
   "metadata": {},
   "outputs": [
    {
     "ename": "KeyError",
     "evalue": "'S11_MeasUSP'",
     "output_type": "error",
     "traceback": [
      "\u001b[1;31m---------------------------------------------------------------------------\u001b[0m",
      "\u001b[1;31mKeyError\u001b[0m                                  Traceback (most recent call last)",
      "File \u001b[1;32mc:\\ProgramData\\Anaconda3\\lib\\site-packages\\pandas\\core\\indexes\\base.py:3621\u001b[0m, in \u001b[0;36mIndex.get_loc\u001b[1;34m(self, key, method, tolerance)\u001b[0m\n\u001b[0;32m   3620\u001b[0m \u001b[39mtry\u001b[39;00m:\n\u001b[1;32m-> 3621\u001b[0m     \u001b[39mreturn\u001b[39;00m \u001b[39mself\u001b[39;49m\u001b[39m.\u001b[39;49m_engine\u001b[39m.\u001b[39;49mget_loc(casted_key)\n\u001b[0;32m   3622\u001b[0m \u001b[39mexcept\u001b[39;00m \u001b[39mKeyError\u001b[39;00m \u001b[39mas\u001b[39;00m err:\n",
      "File \u001b[1;32mc:\\ProgramData\\Anaconda3\\lib\\site-packages\\pandas\\_libs\\index.pyx:136\u001b[0m, in \u001b[0;36mpandas._libs.index.IndexEngine.get_loc\u001b[1;34m()\u001b[0m\n",
      "File \u001b[1;32mc:\\ProgramData\\Anaconda3\\lib\\site-packages\\pandas\\_libs\\index.pyx:163\u001b[0m, in \u001b[0;36mpandas._libs.index.IndexEngine.get_loc\u001b[1;34m()\u001b[0m\n",
      "File \u001b[1;32mpandas\\_libs\\hashtable_class_helper.pxi:5198\u001b[0m, in \u001b[0;36mpandas._libs.hashtable.PyObjectHashTable.get_item\u001b[1;34m()\u001b[0m\n",
      "File \u001b[1;32mpandas\\_libs\\hashtable_class_helper.pxi:5206\u001b[0m, in \u001b[0;36mpandas._libs.hashtable.PyObjectHashTable.get_item\u001b[1;34m()\u001b[0m\n",
      "\u001b[1;31mKeyError\u001b[0m: 'S11_MeasUSP'",
      "\nThe above exception was the direct cause of the following exception:\n",
      "\u001b[1;31mKeyError\u001b[0m                                  Traceback (most recent call last)",
      "\u001b[1;32md:\\Coding and Programing\\S11_Analysis\\0_Cardioid_Simul_x_Medidas_plot.ipynb Cell 12\u001b[0m line \u001b[0;36m<cell line: 1>\u001b[1;34m()\u001b[0m\n\u001b[1;32m----> <a href='vscode-notebook-cell:/d%3A/Coding%20and%20Programing/S11_Analysis/0_Cardioid_Simul_x_Medidas_plot.ipynb#X13sZmlsZQ%3D%3D?line=0'>1</a>\u001b[0m f\u001b[39m=\u001b[39m interpolate\u001b[39m.\u001b[39minterp1d(df_medida2[\u001b[39m'\u001b[39m\u001b[39mfreq\u001b[39m\u001b[39m'\u001b[39m], df_medida2[\u001b[39m'\u001b[39;49m\u001b[39mS11_MeasUSP\u001b[39;49m\u001b[39m'\u001b[39;49m])\n\u001b[0;32m      <a href='vscode-notebook-cell:/d%3A/Coding%20and%20Programing/S11_Analysis/0_Cardioid_Simul_x_Medidas_plot.ipynb#X13sZmlsZQ%3D%3D?line=2'>3</a>\u001b[0m y_med2 \u001b[39m=\u001b[39m f(nfreq)\n\u001b[0;32m      <a href='vscode-notebook-cell:/d%3A/Coding%20and%20Programing/S11_Analysis/0_Cardioid_Simul_x_Medidas_plot.ipynb#X13sZmlsZQ%3D%3D?line=4'>5</a>\u001b[0m y_med2\n",
      "File \u001b[1;32mc:\\ProgramData\\Anaconda3\\lib\\site-packages\\pandas\\core\\frame.py:3505\u001b[0m, in \u001b[0;36mDataFrame.__getitem__\u001b[1;34m(self, key)\u001b[0m\n\u001b[0;32m   3503\u001b[0m \u001b[39mif\u001b[39;00m \u001b[39mself\u001b[39m\u001b[39m.\u001b[39mcolumns\u001b[39m.\u001b[39mnlevels \u001b[39m>\u001b[39m \u001b[39m1\u001b[39m:\n\u001b[0;32m   3504\u001b[0m     \u001b[39mreturn\u001b[39;00m \u001b[39mself\u001b[39m\u001b[39m.\u001b[39m_getitem_multilevel(key)\n\u001b[1;32m-> 3505\u001b[0m indexer \u001b[39m=\u001b[39m \u001b[39mself\u001b[39;49m\u001b[39m.\u001b[39;49mcolumns\u001b[39m.\u001b[39;49mget_loc(key)\n\u001b[0;32m   3506\u001b[0m \u001b[39mif\u001b[39;00m is_integer(indexer):\n\u001b[0;32m   3507\u001b[0m     indexer \u001b[39m=\u001b[39m [indexer]\n",
      "File \u001b[1;32mc:\\ProgramData\\Anaconda3\\lib\\site-packages\\pandas\\core\\indexes\\base.py:3623\u001b[0m, in \u001b[0;36mIndex.get_loc\u001b[1;34m(self, key, method, tolerance)\u001b[0m\n\u001b[0;32m   3621\u001b[0m     \u001b[39mreturn\u001b[39;00m \u001b[39mself\u001b[39m\u001b[39m.\u001b[39m_engine\u001b[39m.\u001b[39mget_loc(casted_key)\n\u001b[0;32m   3622\u001b[0m \u001b[39mexcept\u001b[39;00m \u001b[39mKeyError\u001b[39;00m \u001b[39mas\u001b[39;00m err:\n\u001b[1;32m-> 3623\u001b[0m     \u001b[39mraise\u001b[39;00m \u001b[39mKeyError\u001b[39;00m(key) \u001b[39mfrom\u001b[39;00m \u001b[39merr\u001b[39;00m\n\u001b[0;32m   3624\u001b[0m \u001b[39mexcept\u001b[39;00m \u001b[39mTypeError\u001b[39;00m:\n\u001b[0;32m   3625\u001b[0m     \u001b[39m# If we have a listlike key, _check_indexing_error will raise\u001b[39;00m\n\u001b[0;32m   3626\u001b[0m     \u001b[39m#  InvalidIndexError. Otherwise we fall through and re-raise\u001b[39;00m\n\u001b[0;32m   3627\u001b[0m     \u001b[39m#  the TypeError.\u001b[39;00m\n\u001b[0;32m   3628\u001b[0m     \u001b[39mself\u001b[39m\u001b[39m.\u001b[39m_check_indexing_error(key)\n",
      "\u001b[1;31mKeyError\u001b[0m: 'S11_MeasUSP'"
     ]
    }
   ],
   "source": [
    "f= interpolate.interp1d(df_medida2['freq'], df_medida2['S11_MeasUSP'])\n",
    "\n",
    "y_med2 = f(nfreq)\n",
    "\n",
    "y_med2"
   ]
  },
  {
   "cell_type": "code",
   "execution_count": 24,
   "metadata": {},
   "outputs": [
    {
     "data": {
      "text/plain": [
       "array([-13.3627703 , -13.76714326, -13.94952269, ..., -10.59992041,\n",
       "       -10.56782348, -10.55608717])"
      ]
     },
     "execution_count": 24,
     "metadata": {},
     "output_type": "execute_result"
    }
   ],
   "source": [
    "f= interpolate.interp1d(df_medida3['freq'], df_medida3['S11_MeasUSP2'])\n",
    "\n",
    "y_med3 = f(nfreq)\n",
    "\n",
    "y_med3"
   ]
  },
  {
   "cell_type": "code",
   "execution_count": 25,
   "metadata": {},
   "outputs": [
    {
     "data": {
      "text/html": [
       "<div>\n",
       "<style scoped>\n",
       "    .dataframe tbody tr th:only-of-type {\n",
       "        vertical-align: middle;\n",
       "    }\n",
       "\n",
       "    .dataframe tbody tr th {\n",
       "        vertical-align: top;\n",
       "    }\n",
       "\n",
       "    .dataframe thead th {\n",
       "        text-align: right;\n",
       "    }\n",
       "</style>\n",
       "<table border=\"1\" class=\"dataframe\">\n",
       "  <thead>\n",
       "    <tr style=\"text-align: right;\">\n",
       "      <th></th>\n",
       "      <th>S11_ADS</th>\n",
       "      <th>S11_CST</th>\n",
       "      <th>S11_MeasINPE</th>\n",
       "      <th>S11_MeasUSP2</th>\n",
       "    </tr>\n",
       "  </thead>\n",
       "  <tbody>\n",
       "    <tr>\n",
       "      <th>S11_ADS</th>\n",
       "      <td>1.000000</td>\n",
       "      <td>0.255605</td>\n",
       "      <td>0.126082</td>\n",
       "      <td>0.209169</td>\n",
       "    </tr>\n",
       "    <tr>\n",
       "      <th>S11_CST</th>\n",
       "      <td>0.255605</td>\n",
       "      <td>1.000000</td>\n",
       "      <td>0.735730</td>\n",
       "      <td>0.804497</td>\n",
       "    </tr>\n",
       "    <tr>\n",
       "      <th>S11_MeasINPE</th>\n",
       "      <td>0.126082</td>\n",
       "      <td>0.735730</td>\n",
       "      <td>1.000000</td>\n",
       "      <td>0.968797</td>\n",
       "    </tr>\n",
       "    <tr>\n",
       "      <th>S11_MeasUSP2</th>\n",
       "      <td>0.209169</td>\n",
       "      <td>0.804497</td>\n",
       "      <td>0.968797</td>\n",
       "      <td>1.000000</td>\n",
       "    </tr>\n",
       "  </tbody>\n",
       "</table>\n",
       "</div>"
      ],
      "text/plain": [
       "               S11_ADS   S11_CST  S11_MeasINPE  S11_MeasUSP2\n",
       "S11_ADS       1.000000  0.255605      0.126082      0.209169\n",
       "S11_CST       0.255605  1.000000      0.735730      0.804497\n",
       "S11_MeasINPE  0.126082  0.735730      1.000000      0.968797\n",
       "S11_MeasUSP2  0.209169  0.804497      0.968797      1.000000"
      ]
     },
     "execution_count": 25,
     "metadata": {},
     "output_type": "execute_result"
    }
   ],
   "source": [
    "# d= {'freq': nfreq, 'S11_ADS':y_ads,'S11_CST':y_cst, 'S11_MeasSKY':y_med1, 'S11_MeasUSP1':y_med2, 'S11_MeasUSP2':y_med3}\n",
    "d= { 'S11_ADS':y_ads,'S11_CST':y_cst, 'S11_MeasINPE':y_med1, 'S11_MeasUSP2':y_med3}\n",
    "\n",
    "df = pd.DataFrame(d)\n",
    "corr_pearson = df.corr(method='pearson')\n",
    "corr_kendall = df.corr(method='kendall')\n",
    "corr_spearman = df.corr(method='spearman')\n",
    "\n",
    "corr_pearson"
   ]
  },
  {
   "cell_type": "code",
   "execution_count": 26,
   "metadata": {},
   "outputs": [
    {
     "data": {
      "text/plain": [
       "<matplotlib.legend.Legend at 0x2099a7e51f0>"
      ]
     },
     "execution_count": 26,
     "metadata": {},
     "output_type": "execute_result"
    },
    {
     "data": {
      "text/plain": [
       "<Figure size 4500x3600 with 0 Axes>"
      ]
     },
     "metadata": {},
     "output_type": "display_data"
    },
    {
     "data": {
      "image/png": "[encoded data removed]",
      "text/plain": [
       "<Figure size 432x288 with 1 Axes>"
      ]
     },
     "metadata": {
      "needs_background": "light"
     },
     "output_type": "display_data"
    }
   ],
   "source": [
    "highest_freq = max([max(df_cst['freq']),max(df_ads['freq'])])\n",
    "\n",
    "\n",
    "figure(figsize=(15, 12), dpi=300)\n",
    "fig, ax = plt.subplots( layout = 'constrained')\n",
    "# ax.plot(df_ads['freq'], df_ads['S11_ADS'], label ='ADS')\n",
    "ax.plot(df_cst['freq'], df_cst['S11_CST'], label ='CST')\n",
    "ax.plot(df_medida['freq'], df_medida['S11_MeasINPE'], '--',label ='INPE',)\n",
    "# ax.plot(df_medida2['freq'], df_medida2['S11_Meas2'], label ='Medida 2')\n",
    "# ax.plot(df_medida2['freq'], df_medida2['S11_MeasUSP'], '--',label ='USP 1',)\n",
    "ax.plot(df_medida3['freq'], df_medida3['S11_MeasUSP2'],'--', label ='USP')\n",
    "\n",
    "plt.axhline(y=-10, ls=':', c='r') #Horizontal Line\n",
    "plt.xticks(range(0, 19*10**9, 1*10**9)) #x scale\n",
    "ax.set_xlabel('Frequency')  # Add an x-label to the axes.\n",
    "ax.set_ylabel('S(1,1) [dB]')  # Add a y-label to the axes.\n",
    "ax.set_title('S11_Analysis')  # Add a title to the axes.\n",
    "ax.set(xlim=(0, highest_freq), ylim=(-40, 0))\n",
    "ax.grid()\n",
    "ax.legend()"
   ]
  },
  {
   "cell_type": "code",
   "execution_count": 12,
   "metadata": {},
   "outputs": [
    {
     "data": {
      "text/plain": [
       "<matplotlib.legend.Legend at 0x2614513fdf0>"
      ]
     },
     "execution_count": 12,
     "metadata": {},
     "output_type": "execute_result"
    },
    {
     "data": {
      "text/plain": [
       "<Figure size 3000x2400 with 0 Axes>"
      ]
     },
     "metadata": {},
     "output_type": "display_data"
    },
    {
     "data": {
      "image/png": "[encoded data removed]",
      "text/plain": [
       "<Figure size 432x288 with 1 Axes>"
      ]
     },
     "metadata": {
      "needs_background": "light"
     },
     "output_type": "display_data"
    }
   ],
   "source": [
    "highest_freq = max([max(df_cst['freq']),max(df_ads['freq'])])\n",
    "\n",
    "\n",
    "figure(figsize=(15, 12), dpi=200)\n",
    "fig, ax = plt.subplots( layout = 'constrained')\n",
    "ax.plot(df['freq'], df['S11_ADS'], label ='ADS')\n",
    "ax.plot(df['freq'], df['S11_CST'], label ='CST')\n",
    "ax.plot(df['freq'], df['S11_Meas1'], '--',label ='Measured',)\n",
    "ax.axhline(y=-10, ls=':', color = 'r')\n",
    "\n",
    "\n",
    "plt.axhline(y=-10, ls=':', c='r') #Horizontal Line\n",
    "plt.xticks(range(0, 19*10**9, 1*10**9)) #x scale\n",
    "ax.set_xlabel('Frequency')  # Add an x-label to the axes.\n",
    "ax.set_ylabel('S(1,1) [dB]')  # Add a y-label to the axes.\n",
    "ax.set_title('S11_Analysis')  # Add a title to the axes.\n",
    "ax.set(xlim=(0, highest_freq), ylim=(-40, 0))\n",
    "ax.grid()\n",
    "ax.legend()"
   ]
  },
  {
   "cell_type": "code",
   "execution_count": 13,
   "metadata": {},
   "outputs": [
    {
     "name": "stdout",
     "output_type": "stream",
     "text": [
      "Sierpinski_simetric\n",
      "Sierp_Patch_3rd\n",
      "Sierp_Patch_2rd\n",
      "MLIN_Slot_Circular\n",
      "MLIN_Disc_Monopole\n",
      "MLIN_Disc_Monopole_FEM\n",
      "MLIN_Cardioid_Monopole\n",
      "Log_P_Koch_Param_1\n",
      "Koch_simetric\n",
      "fit_67\n",
      "CPW_Disc_Monopole\n",
      "CPW_Disc_Monopole_FEM\n",
      "CPW_Cardioid_Monopole\n",
      "Bowtie_import\n",
      "Planilha1\n"
     ]
    }
   ],
   "source": [
    "xl = pd.ExcelFile('S11_ADS.xlsx')\n",
    "sh_names = xl.sheet_names\n",
    "\n",
    "for name in sh_names:\n",
    "    print (name)"
   ]
  }
 ],
 "metadata": {
  "kernelspec": {
   "display_name": "Python 3.9.12",
   "language": "python",
   "name": "python3"
  },
  "language_info": {
   "codemirror_mode": {
    "name": "ipython",
    "version": 3
   },
   "file_extension": ".py",
   "mimetype": "text/x-python",
   "name": "python",
   "nbconvert_exporter": "python",
   "pygments_lexer": "ipython3",
   "version": "3.9.12"
  },
  "orig_nbformat": 4,
  "vscode": {
   "interpreter": {
    "hash": "ad2bdc8ecc057115af97d19610ffacc2b4e99fae6737bb82f5d7fb13d2f2c186"
   }
  }
 },
 "nbformat": 4,
 "nbformat_minor": 2
}
