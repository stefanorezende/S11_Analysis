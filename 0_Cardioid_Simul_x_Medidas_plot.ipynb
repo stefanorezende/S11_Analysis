{
 "cells": [
  {
   "cell_type": "code",
   "execution_count": 1,
   "metadata": {},
   "outputs": [],
   "source": [
    "import matplotlib.pyplot as plt\n",
    "from matplotlib.pyplot import figure\n",
    "import pandas as pd\n",
    "import numpy as np\n",
    "from scipy import interpolate"
   ]
  },
  {
   "cell_type": "code",
   "execution_count": 2,
   "metadata": {},
   "outputs": [
    {
     "data": {
      "text/plain": [
       "freq           float64\n",
       "S11_MeasSKY    float64\n",
       "dtype: object"
      ]
     },
     "execution_count": 2,
     "metadata": {},
     "output_type": "execute_result"
    }
   ],
   "source": [
    "\n",
    "df_medida = pd.read_excel('Simul X Medidas\\Cardioid\\Cardioid.xlsx', 'Medida', decimal=',')\n",
    "df_medida.dtypes\n",
    "df_medida.rename(columns = {'Frequency': 'freq', ' Formatted Data':'S11_MeasSKY'}, inplace = True)\n",
    "\n",
    "df_medida['freq'] = df_medida['freq'].astype(float)\n",
    "\n",
    "\n",
    "df_medida.dtypes"
   ]
  },
  {
   "cell_type": "code",
   "execution_count": 58,
   "metadata": {},
   "outputs": [
    {
     "data": {
      "text/plain": [
       "freq              int64\n",
       "S11_MeasINPE    float64\n",
       "dtype: object"
      ]
     },
     "execution_count": 58,
     "metadata": {},
     "output_type": "execute_result"
    }
   ],
   "source": [
    "\n",
    "df_medida = pd.read_excel('Simul X Medidas\\Cardioid\\Cardioid.xlsx', 'INPE', decimal=',')\n",
    "df_medida.dtypes\n",
    "df_medida.rename(columns = {'Frequency (Hz)': 'freq', 'dB':'S11_MeasINPE'}, inplace = True)\n",
    "\n",
    "# df_medida['freq'] = df_medida['freq'].astype(float)\n",
    "\n",
    "\n",
    "df_medida.dtypes"
   ]
  },
  {
   "cell_type": "code",
   "execution_count": 59,
   "metadata": {},
   "outputs": [
    {
     "data": {
      "text/plain": [
       "freq            float64\n",
       "S11_MeasUSP1    float64\n",
       "dtype: object"
      ]
     },
     "execution_count": 59,
     "metadata": {},
     "output_type": "execute_result"
    }
   ],
   "source": [
    "\n",
    "df_medida2 = pd.read_excel('Simul X Medidas\\Cardioid\\Cardioid.xlsx', 'USP1', decimal=',')\n",
    "df_medida2.dtypes\n",
    "df_medida2.rename(columns = {'Hz': 'freq', 'S':'S11_MeasUSP1'}, inplace = True)\n",
    "df_medida2 = df_medida2.drop(['R'], axis= 1)\n",
    "\n",
    "df_medida2['freq'] = df_medida2['freq'].astype(float)\n",
    "\n",
    "\n",
    "df_medida2.dtypes"
   ]
  },
  {
   "cell_type": "code",
   "execution_count": 60,
   "metadata": {},
   "outputs": [
    {
     "data": {
      "text/plain": [
       "freq            float64\n",
       "S11_MeasUSP2    float64\n",
       "dtype: object"
      ]
     },
     "execution_count": 60,
     "metadata": {},
     "output_type": "execute_result"
    }
   ],
   "source": [
    "df_medida3 = pd.read_excel('Simul X Medidas\\Cardioid\\Cardioid.xlsx', 'USP2', decimal=',')\n",
    "df_medida3.dtypes\n",
    "df_medida3.rename(columns = {'Hz': 'freq', 'S':'S11_MeasUSP2'}, inplace = True)\n",
    "df_medida3 = df_medida3.drop(['R'], axis= 1)\n",
    "\n",
    "df_medida3['freq'] = df_medida3['freq'].astype(float)\n",
    "\n",
    "\n",
    "df_medida3.dtypes"
   ]
  },
  {
   "cell_type": "code",
   "execution_count": null,
   "metadata": {},
   "outputs": [],
   "source": [
    "df_medida3 = pd.read_excel('Simul X Medidas\\Cardioid\\Cardioid.xlsx', 'USP_26.5', decimal=',')\n",
    "df_medida3.dtypes\n",
    "df_medida3.rename(columns = {'Hz': 'freq', 'S':'S11_MeasUSP26.5'}, inplace = True)\n",
    "df_medida3 = df_medida3.drop(['R'], axis= 1)\n",
    "\n",
    "df_medida3['freq'] = df_medida3['freq'].astype(float)\n",
    "\n",
    "\n",
    "df_medida3"
   ]
  },
  {
   "cell_type": "code",
   "execution_count": 2,
   "metadata": {},
   "outputs": [
    {
     "data": {
      "text/html": [
       "<div>\n",
       "<style scoped>\n",
       "    .dataframe tbody tr th:only-of-type {\n",
       "        vertical-align: middle;\n",
       "    }\n",
       "\n",
       "    .dataframe tbody tr th {\n",
       "        vertical-align: top;\n",
       "    }\n",
       "\n",
       "    .dataframe thead th {\n",
       "        text-align: right;\n",
       "    }\n",
       "</style>\n",
       "<table border=\"1\" class=\"dataframe\">\n",
       "  <thead>\n",
       "    <tr style=\"text-align: right;\">\n",
       "      <th></th>\n",
       "      <th>freq</th>\n",
       "      <th>S11_MeasUSP18+26</th>\n",
       "    </tr>\n",
       "  </thead>\n",
       "  <tbody>\n",
       "    <tr>\n",
       "      <th>0</th>\n",
       "      <td>1.000000e+08</td>\n",
       "      <td>-0.032205</td>\n",
       "    </tr>\n",
       "    <tr>\n",
       "      <th>1</th>\n",
       "      <td>1.111875e+08</td>\n",
       "      <td>-0.023529</td>\n",
       "    </tr>\n",
       "    <tr>\n",
       "      <th>2</th>\n",
       "      <td>1.223750e+08</td>\n",
       "      <td>-0.019315</td>\n",
       "    </tr>\n",
       "    <tr>\n",
       "      <th>3</th>\n",
       "      <td>1.335625e+08</td>\n",
       "      <td>-0.018001</td>\n",
       "    </tr>\n",
       "    <tr>\n",
       "      <th>4</th>\n",
       "      <td>1.447500e+08</td>\n",
       "      <td>-0.014291</td>\n",
       "    </tr>\n",
       "    <tr>\n",
       "      <th>...</th>\n",
       "      <td>...</td>\n",
       "      <td>...</td>\n",
       "    </tr>\n",
       "    <tr>\n",
       "      <th>3197</th>\n",
       "      <td>2.647875e+10</td>\n",
       "      <td>-18.252590</td>\n",
       "    </tr>\n",
       "    <tr>\n",
       "      <th>3198</th>\n",
       "      <td>2.648406e+10</td>\n",
       "      <td>-18.211218</td>\n",
       "    </tr>\n",
       "    <tr>\n",
       "      <th>3199</th>\n",
       "      <td>2.648938e+10</td>\n",
       "      <td>-18.129034</td>\n",
       "    </tr>\n",
       "    <tr>\n",
       "      <th>3200</th>\n",
       "      <td>2.649469e+10</td>\n",
       "      <td>-18.016817</td>\n",
       "    </tr>\n",
       "    <tr>\n",
       "      <th>3201</th>\n",
       "      <td>2.650000e+10</td>\n",
       "      <td>-17.954821</td>\n",
       "    </tr>\n",
       "  </tbody>\n",
       "</table>\n",
       "<p>3202 rows × 2 columns</p>\n",
       "</div>"
      ],
      "text/plain": [
       "              freq  S11_MeasUSP18+26\n",
       "0     1.000000e+08         -0.032205\n",
       "1     1.111875e+08         -0.023529\n",
       "2     1.223750e+08         -0.019315\n",
       "3     1.335625e+08         -0.018001\n",
       "4     1.447500e+08         -0.014291\n",
       "...            ...               ...\n",
       "3197  2.647875e+10        -18.252590\n",
       "3198  2.648406e+10        -18.211218\n",
       "3199  2.648938e+10        -18.129034\n",
       "3200  2.649469e+10        -18.016817\n",
       "3201  2.650000e+10        -17.954821\n",
       "\n",
       "[3202 rows x 2 columns]"
      ]
     },
     "execution_count": 2,
     "metadata": {},
     "output_type": "execute_result"
    }
   ],
   "source": [
    "df_USP18_26 = pd.read_excel('Simul X Medidas\\Cardioid\\Cardioid.xlsx', 'USP18+26', decimal=',')\n",
    "df_USP18_26.dtypes\n",
    "df_USP18_26.rename(columns = {'Hz': 'freq', 'S':'S11_MeasUSP18+26'}, inplace = True)\n",
    "df_USP18_26 = df_USP18_26.drop(['R'], axis= 1)\n",
    "\n",
    "df_USP18_26['freq'] = df_USP18_26['freq'].astype(float)\n",
    "\n",
    "\n",
    "df_USP18_26\n"
   ]
  },
  {
   "cell_type": "code",
   "execution_count": 61,
   "metadata": {},
   "outputs": [
    {
     "data": {
      "text/plain": [
       "freq       float64\n",
       "S11_ADS    float64\n",
       "dtype: object"
      ]
     },
     "execution_count": 61,
     "metadata": {},
     "output_type": "execute_result"
    }
   ],
   "source": [
    "df_ads = pd.read_excel('Simul X Medidas\\Cardioid\\Cardioid.xlsx', 'ADS', decimal=',')\n",
    "df_ads.dtypes\n",
    "df_ads.rename(columns = {'Frequency / GHz':'freq', 'dB(S11_fitted)':'S11_ADS'}, inplace = True)\n",
    "\n",
    "# df_ads['freq'] = round(df_cst['freq'],2)*10**9\n",
    "df_ads.dtypes\n",
    "# df_ads['S11_ADS']"
   ]
  },
  {
   "cell_type": "code",
   "execution_count": 3,
   "metadata": {},
   "outputs": [
    {
     "data": {
      "text/plain": [
       "0       1.000000e+08\n",
       "1       1.200000e+08\n",
       "2       1.400000e+08\n",
       "3       1.500000e+08\n",
       "4       1.700000e+08\n",
       "            ...     \n",
       "996     1.793000e+10\n",
       "997     1.795000e+10\n",
       "998     1.796000e+10\n",
       "999     1.798000e+10\n",
       "1000    1.800000e+10\n",
       "Name: freq, Length: 1001, dtype: float64"
      ]
     },
     "execution_count": 3,
     "metadata": {},
     "output_type": "execute_result"
    }
   ],
   "source": [
    "df_cst = pd.read_excel('Simul X Medidas\\Cardioid\\Cardioid.xlsx', 'CST', decimal=',')\n",
    "df_cst.dtypes\n",
    "df_cst.rename(columns = {'Frequency':'freq', 'S1,1':'S11_CST'}, inplace = True)\n",
    "\n",
    "df_cst['freq'] = round(df_cst['freq'],2)*10**9\n",
    "\n",
    "df_cst['freq']"
   ]
  },
  {
   "cell_type": "code",
   "execution_count": 4,
   "metadata": {},
   "outputs": [
    {
     "data": {
      "text/plain": [
       "0      1.000000e+08\n",
       "1      1.400000e+08\n",
       "2      1.800000e+08\n",
       "3      2.200000e+08\n",
       "4      2.600000e+08\n",
       "           ...     \n",
       "657    2.631000e+10\n",
       "658    2.635000e+10\n",
       "659    2.639000e+10\n",
       "660    2.643000e+10\n",
       "661    2.647000e+10\n",
       "Name: freq, Length: 662, dtype: float64"
      ]
     },
     "execution_count": 4,
     "metadata": {},
     "output_type": "execute_result"
    }
   ],
   "source": [
    "df_cst = pd.read_excel('Simul X Medidas\\Cardioid\\Cardioid.xlsx', 'CST_26.5', decimal=',')\n",
    "df_cst.dtypes\n",
    "df_cst.rename(columns = {'Frequency':'freq', 'S1,1':'S11_CST'}, inplace = True)\n",
    "\n",
    "df_cst['freq'] = round(df_cst['freq'],2)*10**9\n",
    "\n",
    "df_cst['freq']"
   ]
  },
  {
   "cell_type": "code",
   "execution_count": 79,
   "metadata": {},
   "outputs": [
    {
     "data": {
      "text/html": [
       "<div>\n",
       "<style scoped>\n",
       "    .dataframe tbody tr th:only-of-type {\n",
       "        vertical-align: middle;\n",
       "    }\n",
       "\n",
       "    .dataframe tbody tr th {\n",
       "        vertical-align: top;\n",
       "    }\n",
       "\n",
       "    .dataframe thead th {\n",
       "        text-align: right;\n",
       "    }\n",
       "</style>\n",
       "<table border=\"1\" class=\"dataframe\">\n",
       "  <thead>\n",
       "    <tr style=\"text-align: right;\">\n",
       "      <th></th>\n",
       "      <th>freq</th>\n",
       "      <th>S11_CSTKAPPA</th>\n",
       "    </tr>\n",
       "  </thead>\n",
       "  <tbody>\n",
       "    <tr>\n",
       "      <th>0</th>\n",
       "      <td>1.000000e+08</td>\n",
       "      <td>-0.758865</td>\n",
       "    </tr>\n",
       "    <tr>\n",
       "      <th>1</th>\n",
       "      <td>1.200000e+08</td>\n",
       "      <td>-0.740553</td>\n",
       "    </tr>\n",
       "    <tr>\n",
       "      <th>2</th>\n",
       "      <td>1.400000e+08</td>\n",
       "      <td>-0.719565</td>\n",
       "    </tr>\n",
       "    <tr>\n",
       "      <th>3</th>\n",
       "      <td>1.500000e+08</td>\n",
       "      <td>-0.696045</td>\n",
       "    </tr>\n",
       "    <tr>\n",
       "      <th>4</th>\n",
       "      <td>1.700000e+08</td>\n",
       "      <td>-0.670149</td>\n",
       "    </tr>\n",
       "    <tr>\n",
       "      <th>...</th>\n",
       "      <td>...</td>\n",
       "      <td>...</td>\n",
       "    </tr>\n",
       "    <tr>\n",
       "      <th>996</th>\n",
       "      <td>1.793000e+10</td>\n",
       "      <td>-18.249355</td>\n",
       "    </tr>\n",
       "    <tr>\n",
       "      <th>997</th>\n",
       "      <td>1.795000e+10</td>\n",
       "      <td>-17.938303</td>\n",
       "    </tr>\n",
       "    <tr>\n",
       "      <th>998</th>\n",
       "      <td>1.796000e+10</td>\n",
       "      <td>-17.642796</td>\n",
       "    </tr>\n",
       "    <tr>\n",
       "      <th>999</th>\n",
       "      <td>1.798000e+10</td>\n",
       "      <td>-17.362286</td>\n",
       "    </tr>\n",
       "    <tr>\n",
       "      <th>1000</th>\n",
       "      <td>1.800000e+10</td>\n",
       "      <td>-17.096209</td>\n",
       "    </tr>\n",
       "  </tbody>\n",
       "</table>\n",
       "<p>1001 rows × 2 columns</p>\n",
       "</div>"
      ],
      "text/plain": [
       "              freq  S11_CSTKAPPA\n",
       "0     1.000000e+08     -0.758865\n",
       "1     1.200000e+08     -0.740553\n",
       "2     1.400000e+08     -0.719565\n",
       "3     1.500000e+08     -0.696045\n",
       "4     1.700000e+08     -0.670149\n",
       "...            ...           ...\n",
       "996   1.793000e+10    -18.249355\n",
       "997   1.795000e+10    -17.938303\n",
       "998   1.796000e+10    -17.642796\n",
       "999   1.798000e+10    -17.362286\n",
       "1000  1.800000e+10    -17.096209\n",
       "\n",
       "[1001 rows x 2 columns]"
      ]
     },
     "execution_count": 79,
     "metadata": {},
     "output_type": "execute_result"
    }
   ],
   "source": [
    "df_cst41 = pd.read_excel('Simul X Medidas\\Cardioid\\Cardioid.xlsx', 'CST KAPPA', decimal=',')\n",
    "df_cst41.dtypes\n",
    "df_cst41.rename(columns = {'Frequency':'freq', 'S1,1':'S11_CSTKAPPA'}, inplace = True)\n",
    "\n",
    "df_cst41['freq'] = round(df_cst['freq'],2)\n",
    "\n",
    "df_cst41"
   ]
  },
  {
   "cell_type": "code",
   "execution_count": 6,
   "metadata": {},
   "outputs": [
    {
     "data": {
      "text/html": [
       "<div>\n",
       "<style scoped>\n",
       "    .dataframe tbody tr th:only-of-type {\n",
       "        vertical-align: middle;\n",
       "    }\n",
       "\n",
       "    .dataframe tbody tr th {\n",
       "        vertical-align: top;\n",
       "    }\n",
       "\n",
       "    .dataframe thead th {\n",
       "        text-align: right;\n",
       "    }\n",
       "</style>\n",
       "<table border=\"1\" class=\"dataframe\">\n",
       "  <thead>\n",
       "    <tr style=\"text-align: right;\">\n",
       "      <th></th>\n",
       "      <th>freq</th>\n",
       "      <th>S11_CST</th>\n",
       "      <th>S11_MeasUSP26.5</th>\n",
       "    </tr>\n",
       "  </thead>\n",
       "  <tbody>\n",
       "    <tr>\n",
       "      <th>0</th>\n",
       "      <td>1.000000e+08</td>\n",
       "      <td>-0.007166</td>\n",
       "      <td>-0.006813</td>\n",
       "    </tr>\n",
       "    <tr>\n",
       "      <th>662</th>\n",
       "      <td>1.082500e+08</td>\n",
       "      <td>NaN</td>\n",
       "      <td>-0.011447</td>\n",
       "    </tr>\n",
       "    <tr>\n",
       "      <th>663</th>\n",
       "      <td>1.165000e+08</td>\n",
       "      <td>NaN</td>\n",
       "      <td>-0.010473</td>\n",
       "    </tr>\n",
       "    <tr>\n",
       "      <th>664</th>\n",
       "      <td>1.247500e+08</td>\n",
       "      <td>NaN</td>\n",
       "      <td>-0.012600</td>\n",
       "    </tr>\n",
       "    <tr>\n",
       "      <th>665</th>\n",
       "      <td>1.330000e+08</td>\n",
       "      <td>NaN</td>\n",
       "      <td>-0.015773</td>\n",
       "    </tr>\n",
       "    <tr>\n",
       "      <th>...</th>\n",
       "      <td>...</td>\n",
       "      <td>...</td>\n",
       "      <td>...</td>\n",
       "    </tr>\n",
       "    <tr>\n",
       "      <th>661</th>\n",
       "      <td>2.647000e+10</td>\n",
       "      <td>-14.765462</td>\n",
       "      <td>NaN</td>\n",
       "    </tr>\n",
       "    <tr>\n",
       "      <th>3839</th>\n",
       "      <td>2.647525e+10</td>\n",
       "      <td>NaN</td>\n",
       "      <td>-17.387630</td>\n",
       "    </tr>\n",
       "    <tr>\n",
       "      <th>3840</th>\n",
       "      <td>2.648350e+10</td>\n",
       "      <td>NaN</td>\n",
       "      <td>-17.298191</td>\n",
       "    </tr>\n",
       "    <tr>\n",
       "      <th>3841</th>\n",
       "      <td>2.649175e+10</td>\n",
       "      <td>NaN</td>\n",
       "      <td>-17.240219</td>\n",
       "    </tr>\n",
       "    <tr>\n",
       "      <th>3842</th>\n",
       "      <td>2.650000e+10</td>\n",
       "      <td>NaN</td>\n",
       "      <td>-17.182594</td>\n",
       "    </tr>\n",
       "  </tbody>\n",
       "</table>\n",
       "<p>3843 rows × 3 columns</p>\n",
       "</div>"
      ],
      "text/plain": [
       "              freq    S11_CST  S11_MeasUSP26.5\n",
       "0     1.000000e+08  -0.007166        -0.006813\n",
       "662   1.082500e+08        NaN        -0.011447\n",
       "663   1.165000e+08        NaN        -0.010473\n",
       "664   1.247500e+08        NaN        -0.012600\n",
       "665   1.330000e+08        NaN        -0.015773\n",
       "...            ...        ...              ...\n",
       "661   2.647000e+10 -14.765462              NaN\n",
       "3839  2.647525e+10        NaN       -17.387630\n",
       "3840  2.648350e+10        NaN       -17.298191\n",
       "3841  2.649175e+10        NaN       -17.240219\n",
       "3842  2.650000e+10        NaN       -17.182594\n",
       "\n",
       "[3843 rows x 3 columns]"
      ]
     },
     "execution_count": 6,
     "metadata": {},
     "output_type": "execute_result"
    }
   ],
   "source": [
    "# df = pd.merge_ordered(df_cst, df_ads, on='freq')\n",
    "\n",
    "df = df_cst.merge(df_medida3, how= 'outer', on='freq')\n",
    "# df2 = df_medida2.merge(df_medida, how= 'outer', on='freq')\n",
    "# df = df1.merge(df_medida, how= 'outer', on='freq')\n",
    "# df = df.merge(df2, how= 'outer', on='freq')\n",
    "# df = df.merge(df_cst41, how='outer', on='freq')\n",
    "df.sort_values(by='freq', inplace=True)\n",
    "\n",
    "# df= df.loc[df['freq']<=15e9]\n",
    "\n",
    "df"
   ]
  },
  {
   "cell_type": "code",
   "execution_count": 7,
   "metadata": {},
   "outputs": [
    {
     "data": {
      "text/plain": [
       "array([       nan, -17.608884,        nan, ..., -14.765462,        nan,\n",
       "              nan])"
      ]
     },
     "execution_count": 7,
     "metadata": {},
     "output_type": "execute_result"
    }
   ],
   "source": [
    "nfreq = np.arange(3E9, 15E9, 10E6) # % desejada\n",
    "\n",
    "f= interpolate.interp1d(df_ads['freq'], df_ads['S11_ADS'])\n",
    "\n",
    "y_ads = f(nfreq)\n",
    "\n",
    "y_ads"
   ]
  },
  {
   "cell_type": "code",
   "execution_count": 66,
   "metadata": {},
   "outputs": [
    {
     "data": {
      "text/plain": [
       "array([-17.917936 , -17.9503905, -17.982845 , ..., -14.304529 ,\n",
       "       -14.328565 , -14.352601 ])"
      ]
     },
     "execution_count": 66,
     "metadata": {},
     "output_type": "execute_result"
    }
   ],
   "source": [
    "f= interpolate.interp1d(df_cst['freq'], df['S11_CST'])\n",
    "nfreq = np.arange(3E9, 15E9, 10E6) # % desejada\n",
    "y_cst = f(nfreq)\n",
    "\n",
    "y_cst"
   ]
  },
  {
   "cell_type": "code",
   "execution_count": 80,
   "metadata": {},
   "outputs": [
    {
     "data": {
      "text/plain": [
       "array([-16.509982 , -16.56066  , -16.611338 , ..., -12.387044 ,\n",
       "       -12.4336315, -12.480219 ])"
      ]
     },
     "execution_count": 80,
     "metadata": {},
     "output_type": "execute_result"
    }
   ],
   "source": [
    "f= interpolate.interp1d(df_cst41['freq'], df_cst41['S11_CSTKAPPA'])\n",
    "\n",
    "y_cst41 = f(nfreq)\n",
    "\n",
    "y_cst41"
   ]
  },
  {
   "cell_type": "code",
   "execution_count": 81,
   "metadata": {},
   "outputs": [
    {
     "data": {
      "text/plain": [
       "array([-11.13956 , -11.23066 , -11.21657 , ...,  -9.936101,  -9.936661,\n",
       "        -9.891594])"
      ]
     },
     "execution_count": 81,
     "metadata": {},
     "output_type": "execute_result"
    }
   ],
   "source": [
    "f= interpolate.interp1d(df_medida['freq'], df_medida['S11_MeasINPE'])\n",
    "\n",
    "y_med1 = f(nfreq)\n",
    "\n",
    "y_med1"
   ]
  },
  {
   "cell_type": "code",
   "execution_count": 82,
   "metadata": {},
   "outputs": [
    {
     "data": {
      "text/plain": [
       "array([-11.33181239, -11.50659842, -11.59057049, ...,  -9.94950588,\n",
       "        -9.90682052,  -9.89786732])"
      ]
     },
     "execution_count": 82,
     "metadata": {},
     "output_type": "execute_result"
    }
   ],
   "source": [
    "f= interpolate.interp1d(df_medida2['freq'], df_medida2['S11_MeasUSP1'])\n",
    "\n",
    "y_med2 = f(nfreq)\n",
    "\n",
    "y_med2"
   ]
  },
  {
   "cell_type": "code",
   "execution_count": null,
   "metadata": {},
   "outputs": [],
   "source": [
    "f= interpolate.interp1d(df_medida['freq'], df_medida['S11_MeasUSP2'])\n",
    "\n",
    "y_med3 = f(nfreq)\n",
    "\n",
    "y_med3"
   ]
  },
  {
   "cell_type": "code",
   "execution_count": 84,
   "metadata": {},
   "outputs": [
    {
     "data": {
      "text/html": [
       "<div>\n",
       "<style scoped>\n",
       "    .dataframe tbody tr th:only-of-type {\n",
       "        vertical-align: middle;\n",
       "    }\n",
       "\n",
       "    .dataframe tbody tr th {\n",
       "        vertical-align: top;\n",
       "    }\n",
       "\n",
       "    .dataframe thead th {\n",
       "        text-align: right;\n",
       "    }\n",
       "</style>\n",
       "<table border=\"1\" class=\"dataframe\">\n",
       "  <thead>\n",
       "    <tr style=\"text-align: right;\">\n",
       "      <th></th>\n",
       "      <th>S11_CST41</th>\n",
       "      <th>S11_CST</th>\n",
       "      <th>S11_MeasINPE</th>\n",
       "      <th>S11_MeasUSP2</th>\n",
       "    </tr>\n",
       "  </thead>\n",
       "  <tbody>\n",
       "    <tr>\n",
       "      <th>S11_CST41</th>\n",
       "      <td>1.000000</td>\n",
       "      <td>0.879106</td>\n",
       "      <td>0.617562</td>\n",
       "      <td>0.649102</td>\n",
       "    </tr>\n",
       "    <tr>\n",
       "      <th>S11_CST</th>\n",
       "      <td>0.879106</td>\n",
       "      <td>1.000000</td>\n",
       "      <td>0.735730</td>\n",
       "      <td>0.771359</td>\n",
       "    </tr>\n",
       "    <tr>\n",
       "      <th>S11_MeasINPE</th>\n",
       "      <td>0.617562</td>\n",
       "      <td>0.735730</td>\n",
       "      <td>1.000000</td>\n",
       "      <td>0.968613</td>\n",
       "    </tr>\n",
       "    <tr>\n",
       "      <th>S11_MeasUSP2</th>\n",
       "      <td>0.649102</td>\n",
       "      <td>0.771359</td>\n",
       "      <td>0.968613</td>\n",
       "      <td>1.000000</td>\n",
       "    </tr>\n",
       "  </tbody>\n",
       "</table>\n",
       "</div>"
      ],
      "text/plain": [
       "              S11_CST41   S11_CST  S11_MeasINPE  S11_MeasUSP2\n",
       "S11_CST41      1.000000  0.879106      0.617562      0.649102\n",
       "S11_CST        0.879106  1.000000      0.735730      0.771359\n",
       "S11_MeasINPE   0.617562  0.735730      1.000000      0.968613\n",
       "S11_MeasUSP2   0.649102  0.771359      0.968613      1.000000"
      ]
     },
     "execution_count": 84,
     "metadata": {},
     "output_type": "execute_result"
    }
   ],
   "source": [
    "# d= {'freq': nfreq, 'S11_ADS':y_ads,'S11_CST':y_cst, 'S11_MeasSKY':y_med1, 'S11_MeasUSP1':y_med2, 'S11_MeasUSP2':y_med3}\n",
    "d= { 'S11_CST41':y_cst41,'S11_CST':y_cst, 'S11_MeasINPE':y_med1, 'S11_MeasUSP2':y_med2}\n",
    "\n",
    "df = pd.DataFrame(d)\n",
    "corr_pearson = df.corr(method='pearson')\n",
    "corr_kendall = df.corr(method='kendall')\n",
    "corr_spearman = df.corr(method='spearman')\n",
    "\n",
    "corr_pearson"
   ]
  },
  {
   "cell_type": "code",
   "execution_count": 9,
   "metadata": {},
   "outputs": [
    {
     "data": {
      "text/plain": [
       "0       -0.007166\n",
       "662           NaN\n",
       "663           NaN\n",
       "664           NaN\n",
       "665           NaN\n",
       "          ...    \n",
       "661    -14.765462\n",
       "3839          NaN\n",
       "3840          NaN\n",
       "3841          NaN\n",
       "3842          NaN\n",
       "Name: S11_CST, Length: 3843, dtype: float64"
      ]
     },
     "execution_count": 9,
     "metadata": {},
     "output_type": "execute_result"
    }
   ],
   "source": [
    "df['S11_CST']"
   ]
  },
  {
   "cell_type": "code",
   "execution_count": 11,
   "metadata": {},
   "outputs": [
    {
     "data": {
      "text/plain": [
       "[<matplotlib.lines.Line2D at 0x1339864ac10>]"
      ]
     },
     "execution_count": 11,
     "metadata": {},
     "output_type": "execute_result"
    },
    {
     "data": {
      "text/plain": [
       "<Figure size 4500x3600 with 0 Axes>"
      ]
     },
     "metadata": {},
     "output_type": "display_data"
    },
    {
     "data": {
      "image/png": "[encoded data removed]",
      "text/plain": [
       "<Figure size 432x288 with 1 Axes>"
      ]
     },
     "metadata": {
      "needs_background": "light"
     },
     "output_type": "display_data"
    }
   ],
   "source": [
    "figure(figsize=(15, 12), dpi=300)\n",
    "fig, ax = plt.subplots( layout = 'constrained')\n",
    "ax.plot(df_cst['freq'], df_cst['S11_CST'], label ='CST')"
   ]
  },
  {
   "cell_type": "code",
   "execution_count": 5,
   "metadata": {},
   "outputs": [
    {
     "data": {
      "text/plain": [
       "<matplotlib.legend.Legend at 0x2234100f790>"
      ]
     },
     "execution_count": 5,
     "metadata": {},
     "output_type": "execute_result"
    },
    {
     "data": {
      "image/png": "[encoded data removed]",
      "text/plain": [
       "<Figure size 921.6x691.2 with 1 Axes>"
      ]
     },
     "metadata": {
      "needs_background": "light"
     },
     "output_type": "display_data"
    }
   ],
   "source": [
    "highest_freq = max([max(df_cst['freq']),max(df_cst['freq'])])\n",
    "\n",
    "\n",
    "# figure(figsize=(30, 24), dpi=300)\n",
    "fig, ax = plt.subplots(layout = 'constrained', figsize=(6.4*2,4.8*2))\n",
    "# ax.plot(df_ads['freq'], df_ads['S11_ADS'], label ='ADS')\n",
    "# ax.plot(df['freq'], df['S11_CST'], label ='CST')\n",
    "ax.plot(df_cst['freq'], df_cst['S11_CST'],label ='Simulated')\n",
    "# ax.plot(df['freq'], df['S11_MeasUSP26.5'], label ='USP - 100M - 26.5 GHz')\n",
    "ax.plot(df_USP18_26['freq'], df_USP18_26['S11_MeasUSP18+26'], '--', label ='Measured', color = 'red')\n",
    "# ax.plot(df_medida['freq'], df_medida['S11_MeasINPE'], '--',label ='INPE',)\n",
    "# ax.plot(df_medida2['freq'], df_medida2['S11_Meas2'], label ='Medida 2')\n",
    "# ax.plot(df_medida2['freq'], df_medida2['S11_MeasUSP'], '--',label ='USP 1',)\n",
    "# ax.plot(df_medida2['freq'], df_medida2['S11_MeasUSP1'],'--', label ='USP')\n",
    "\n",
    "plt.axhline(y=-10, ls=':', c='r') #Horizontal Line\n",
    "plt.ticklabel_format(axis='x', style='sci', scilimits=(9,9))\n",
    "plt.xticks(range(0, 28*10**9, 2*10**9)) #x scale\n",
    "ax.set_xlabel('Frequency [GHz]')  # Add an x-label to the axes.\n",
    "ax.set_ylabel('S(1,1) [dB]')  # Add a y-label to the axes.\n",
    "# ax.set_title('S11_Analysis')  # Add a title to the axes.\n",
    "ax.set(xlim=(0, highest_freq), ylim=(-40, 0))\n",
    "ax.grid()\n",
    "ax.legend()"
   ]
  },
  {
   "cell_type": "code",
   "execution_count": null,
   "metadata": {},
   "outputs": [
    {
     "data": {
      "text/plain": [
       "<matplotlib.legend.Legend at 0x2614513fdf0>"
      ]
     },
     "execution_count": 12,
     "metadata": {},
     "output_type": "execute_result"
    },
    {
     "data": {
      "text/plain": [
       "<Figure size 3000x2400 with 0 Axes>"
      ]
     },
     "metadata": {},
     "output_type": "display_data"
    },
    {
     "data": {
      "image/png": "[encoded data removed]",
      "text/plain": [
       "<Figure size 432x288 with 1 Axes>"
      ]
     },
     "metadata": {
      "needs_background": "light"
     },
     "output_type": "display_data"
    }
   ],
   "source": [
    "highest_freq = max([max(df_cst['freq']),max(df_ads['freq'])])\n",
    "\n",
    "\n",
    "figure(figsize=(15, 12), dpi=200)\n",
    "fig, ax = plt.subplots( layout = 'constrained')\n",
    "ax.plot(df['freq'], df['S11_ADS'], label ='ADS')\n",
    "ax.plot(df['freq'], df['S11_CST'], label ='CST')\n",
    "ax.plot(df['freq'], df['S11_Meas1'], '--',label ='Measured',)\n",
    "ax.axhline(y=-10, ls=':', color = 'r')\n",
    "\n",
    "\n",
    "plt.axhline(y=-10, ls=':', c='r') #Horizontal Line\n",
    "plt.xticks(range(0, 19*10**9, 1*10**9)) #x scale\n",
    "ax.set_xlabel('Frequency')  # Add an x-label to the axes.\n",
    "ax.set_ylabel('S(1,1) [dB]')  # Add a y-label to the axes.\n",
    "ax.set_title('S11_Analysis')  # Add a title to the axes.\n",
    "ax.set(xlim=(0, highest_freq), ylim=(-40, 0))\n",
    "ax.grid()\n",
    "ax.legend()"
   ]
  },
  {
   "cell_type": "code",
   "execution_count": null,
   "metadata": {},
   "outputs": [
    {
     "name": "stdout",
     "output_type": "stream",
     "text": [
      "Sierpinski_simetric\n",
      "Sierp_Patch_3rd\n",
      "Sierp_Patch_2rd\n",
      "MLIN_Slot_Circular\n",
      "MLIN_Disc_Monopole\n",
      "MLIN_Disc_Monopole_FEM\n",
      "MLIN_Cardioid_Monopole\n",
      "Log_P_Koch_Param_1\n",
      "Koch_simetric\n",
      "fit_67\n",
      "CPW_Disc_Monopole\n",
      "CPW_Disc_Monopole_FEM\n",
      "CPW_Cardioid_Monopole\n",
      "Bowtie_import\n",
      "Planilha1\n"
     ]
    }
   ],
   "source": [
    "xl = pd.ExcelFile('S11_ADS.xlsx')\n",
    "sh_names = xl.sheet_names\n",
    "\n",
    "for name in sh_names:\n",
    "    print (name)"
   ]
  }
 ],
 "metadata": {
  "kernelspec": {
   "display_name": "Python 3.9.12",
   "language": "python",
   "name": "python3"
  },
  "language_info": {
   "codemirror_mode": {
    "name": "ipython",
    "version": 3
   },
   "file_extension": ".py",
   "mimetype": "text/x-python",
   "name": "python",
   "nbconvert_exporter": "python",
   "pygments_lexer": "ipython3",
   "version": "3.9.12"
  },
  "orig_nbformat": 4,
  "vscode": {
   "interpreter": {
    "hash": "ad2bdc8ecc057115af97d19610ffacc2b4e99fae6737bb82f5d7fb13d2f2c186"
   }
  }
 },
 "nbformat": 4,
 "nbformat_minor": 2
}
