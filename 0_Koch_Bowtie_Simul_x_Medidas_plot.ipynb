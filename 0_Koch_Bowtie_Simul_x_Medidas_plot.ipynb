{
 "cells": [
  {
   "cell_type": "code",
   "execution_count": 35,
   "metadata": {},
   "outputs": [],
   "source": [
    "import matplotlib.pyplot as plt\n",
    "from matplotlib.pyplot import figure\n",
    "import pandas as pd\n",
    "import numpy as np\n",
    "from scipy import interpolate"
   ]
  },
  {
   "cell_type": "code",
   "execution_count": 2,
   "metadata": {},
   "outputs": [
    {
     "data": {
      "text/plain": [
       "freq            float64\n",
       "S11_MeasSKY1    float64\n",
       "dtype: object"
      ]
     },
     "execution_count": 2,
     "metadata": {},
     "output_type": "execute_result"
    }
   ],
   "source": [
    "\n",
    "df_medida1 = pd.read_excel('Simul X Medidas\\Koch_Bowtie\\Koch_Bowtie.xlsx', 'Koch_Bowtie_1_Medida_SKY', decimal=',')\n",
    "df_medida1.dtypes\n",
    "df_medida1.rename(columns = {'Frequency': 'freq', ' Formatted Data':'S11_MeasSKY1'}, inplace = True)\n",
    "\n",
    "df_medida1['freq'] = df_medida1['freq'].astype(float)\n",
    "\n",
    "\n",
    "df_medida1.dtypes"
   ]
  },
  {
   "cell_type": "code",
   "execution_count": 22,
   "metadata": {},
   "outputs": [
    {
     "data": {
      "text/html": [
       "<div>\n",
       "<style scoped>\n",
       "    .dataframe tbody tr th:only-of-type {\n",
       "        vertical-align: middle;\n",
       "    }\n",
       "\n",
       "    .dataframe tbody tr th {\n",
       "        vertical-align: top;\n",
       "    }\n",
       "\n",
       "    .dataframe thead th {\n",
       "        text-align: right;\n",
       "    }\n",
       "</style>\n",
       "<table border=\"1\" class=\"dataframe\">\n",
       "  <thead>\n",
       "    <tr style=\"text-align: right;\">\n",
       "      <th></th>\n",
       "      <th>freq</th>\n",
       "      <th>S11_MeasINPE</th>\n",
       "    </tr>\n",
       "  </thead>\n",
       "  <tbody>\n",
       "    <tr>\n",
       "      <th>0</th>\n",
       "      <td>3.000000e+09</td>\n",
       "      <td>-7.730083</td>\n",
       "    </tr>\n",
       "    <tr>\n",
       "      <th>1</th>\n",
       "      <td>3.001000e+09</td>\n",
       "      <td>-7.752378</td>\n",
       "    </tr>\n",
       "    <tr>\n",
       "      <th>2</th>\n",
       "      <td>3.002000e+09</td>\n",
       "      <td>-7.774058</td>\n",
       "    </tr>\n",
       "    <tr>\n",
       "      <th>3</th>\n",
       "      <td>3.003000e+09</td>\n",
       "      <td>-7.796854</td>\n",
       "    </tr>\n",
       "    <tr>\n",
       "      <th>4</th>\n",
       "      <td>3.004000e+09</td>\n",
       "      <td>-7.820727</td>\n",
       "    </tr>\n",
       "    <tr>\n",
       "      <th>...</th>\n",
       "      <td>...</td>\n",
       "      <td>...</td>\n",
       "    </tr>\n",
       "    <tr>\n",
       "      <th>14996</th>\n",
       "      <td>1.799600e+10</td>\n",
       "      <td>-7.903945</td>\n",
       "    </tr>\n",
       "    <tr>\n",
       "      <th>14997</th>\n",
       "      <td>1.799700e+10</td>\n",
       "      <td>-7.937569</td>\n",
       "    </tr>\n",
       "    <tr>\n",
       "      <th>14998</th>\n",
       "      <td>1.799800e+10</td>\n",
       "      <td>-7.927970</td>\n",
       "    </tr>\n",
       "    <tr>\n",
       "      <th>14999</th>\n",
       "      <td>1.799900e+10</td>\n",
       "      <td>-7.935424</td>\n",
       "    </tr>\n",
       "    <tr>\n",
       "      <th>15000</th>\n",
       "      <td>1.800000e+10</td>\n",
       "      <td>-7.923366</td>\n",
       "    </tr>\n",
       "  </tbody>\n",
       "</table>\n",
       "<p>15001 rows × 2 columns</p>\n",
       "</div>"
      ],
      "text/plain": [
       "               freq  S11_MeasINPE\n",
       "0      3.000000e+09     -7.730083\n",
       "1      3.001000e+09     -7.752378\n",
       "2      3.002000e+09     -7.774058\n",
       "3      3.003000e+09     -7.796854\n",
       "4      3.004000e+09     -7.820727\n",
       "...             ...           ...\n",
       "14996  1.799600e+10     -7.903945\n",
       "14997  1.799700e+10     -7.937569\n",
       "14998  1.799800e+10     -7.927970\n",
       "14999  1.799900e+10     -7.935424\n",
       "15000  1.800000e+10     -7.923366\n",
       "\n",
       "[15001 rows x 2 columns]"
      ]
     },
     "execution_count": 22,
     "metadata": {},
     "output_type": "execute_result"
    }
   ],
   "source": [
    "\n",
    "df_medida1 = pd.read_excel('Simul X Medidas\\Koch_Bowtie\\Koch_Bowtie.xlsx', 'INPE', decimal=',')\n",
    "df_medida1.dtypes\n",
    "df_medida1.rename(columns = {'Frequency (Hz)': 'freq', 'dB':'S11_MeasINPE'}, inplace = True)\n",
    "\n",
    "df_medida1['freq'] = df_medida1['freq'].astype(float)\n",
    "\n",
    "\n",
    "df_medida1"
   ]
  },
  {
   "cell_type": "code",
   "execution_count": 8,
   "metadata": {},
   "outputs": [
    {
     "data": {
      "text/plain": [
       "freq            float64\n",
       "S11_MeasSKY2    float64\n",
       "dtype: object"
      ]
     },
     "execution_count": 8,
     "metadata": {},
     "output_type": "execute_result"
    }
   ],
   "source": [
    "df_medida2 = pd.read_excel('Simul X Medidas\\Koch_Bowtie\\Koch_Bowtie.xlsx', 'Koch_Bowtie_2_Medida_SKY', decimal=',')\n",
    "df_medida2.dtypes\n",
    "df_medida2.rename(columns = {'Frequency': 'freq', ' Formatted Data':'S11_MeasSKY2'}, inplace = True)\n",
    "\n",
    "df_medida2['freq'] = df_medida2['freq'].astype(float)\n",
    "\n",
    "\n",
    "df_medida2.dtypes"
   ]
  },
  {
   "cell_type": "code",
   "execution_count": 3,
   "metadata": {},
   "outputs": [
    {
     "data": {
      "text/plain": [
       "freq            float64\n",
       "S11_MeasUSP1    float64\n",
       "dtype: object"
      ]
     },
     "execution_count": 3,
     "metadata": {},
     "output_type": "execute_result"
    }
   ],
   "source": [
    "df_medida3 = pd.read_excel('Simul X Medidas\\Koch_Bowtie\\Koch_Bowtie.xlsx', 'Koch_Bowtie_1_Medida_USP', decimal=',')\n",
    "df_medida3.dtypes\n",
    "df_medida3.rename(columns = {'Hz': 'freq', 'S':'S11_MeasUSP1'}, inplace = True)\n",
    "df_medida3 = df_medida3.drop(['R'], axis= 1)\n",
    "\n",
    "df_medida3['freq'] = df_medida3['freq'].astype(float)\n",
    "\n",
    "\n",
    "df_medida3.dtypes"
   ]
  },
  {
   "cell_type": "code",
   "execution_count": 65,
   "metadata": {},
   "outputs": [
    {
     "data": {
      "text/html": [
       "<div>\n",
       "<style scoped>\n",
       "    .dataframe tbody tr th:only-of-type {\n",
       "        vertical-align: middle;\n",
       "    }\n",
       "\n",
       "    .dataframe tbody tr th {\n",
       "        vertical-align: top;\n",
       "    }\n",
       "\n",
       "    .dataframe thead th {\n",
       "        text-align: right;\n",
       "    }\n",
       "</style>\n",
       "<table border=\"1\" class=\"dataframe\">\n",
       "  <thead>\n",
       "    <tr style=\"text-align: right;\">\n",
       "      <th></th>\n",
       "      <th>freq</th>\n",
       "      <th>S11_MeasUSP2</th>\n",
       "    </tr>\n",
       "  </thead>\n",
       "  <tbody>\n",
       "    <tr>\n",
       "      <th>0</th>\n",
       "      <td>1.000000e+08</td>\n",
       "      <td>0.000211</td>\n",
       "    </tr>\n",
       "    <tr>\n",
       "      <th>1</th>\n",
       "      <td>1.082500e+08</td>\n",
       "      <td>0.001368</td>\n",
       "    </tr>\n",
       "    <tr>\n",
       "      <th>2</th>\n",
       "      <td>1.165000e+08</td>\n",
       "      <td>0.000773</td>\n",
       "    </tr>\n",
       "    <tr>\n",
       "      <th>3</th>\n",
       "      <td>1.247500e+08</td>\n",
       "      <td>0.002081</td>\n",
       "    </tr>\n",
       "    <tr>\n",
       "      <th>4</th>\n",
       "      <td>1.330000e+08</td>\n",
       "      <td>-0.001950</td>\n",
       "    </tr>\n",
       "    <tr>\n",
       "      <th>...</th>\n",
       "      <td>...</td>\n",
       "      <td>...</td>\n",
       "    </tr>\n",
       "    <tr>\n",
       "      <th>3196</th>\n",
       "      <td>2.646700e+10</td>\n",
       "      <td>-14.239793</td>\n",
       "    </tr>\n",
       "    <tr>\n",
       "      <th>3197</th>\n",
       "      <td>2.647525e+10</td>\n",
       "      <td>-14.348256</td>\n",
       "    </tr>\n",
       "    <tr>\n",
       "      <th>3198</th>\n",
       "      <td>2.648350e+10</td>\n",
       "      <td>-14.473680</td>\n",
       "    </tr>\n",
       "    <tr>\n",
       "      <th>3199</th>\n",
       "      <td>2.649175e+10</td>\n",
       "      <td>-14.606821</td>\n",
       "    </tr>\n",
       "    <tr>\n",
       "      <th>3200</th>\n",
       "      <td>2.650000e+10</td>\n",
       "      <td>-14.752868</td>\n",
       "    </tr>\n",
       "  </tbody>\n",
       "</table>\n",
       "<p>3201 rows × 2 columns</p>\n",
       "</div>"
      ],
      "text/plain": [
       "              freq  S11_MeasUSP2\n",
       "0     1.000000e+08      0.000211\n",
       "1     1.082500e+08      0.001368\n",
       "2     1.165000e+08      0.000773\n",
       "3     1.247500e+08      0.002081\n",
       "4     1.330000e+08     -0.001950\n",
       "...            ...           ...\n",
       "3196  2.646700e+10    -14.239793\n",
       "3197  2.647525e+10    -14.348256\n",
       "3198  2.648350e+10    -14.473680\n",
       "3199  2.649175e+10    -14.606821\n",
       "3200  2.650000e+10    -14.752868\n",
       "\n",
       "[3201 rows x 2 columns]"
      ]
     },
     "execution_count": 65,
     "metadata": {},
     "output_type": "execute_result"
    }
   ],
   "source": [
    "df_medida4 = pd.read_excel('Simul X Medidas\\Koch_Bowtie\\Koch_Bowtie.xlsx', 'Medida_USP_26G5', decimal=',')\n",
    "df_medida4.dtypes\n",
    "df_medida4.rename(columns = {'Hz': 'freq', 'S':'S11_MeasUSP2'}, inplace = True)\n",
    "\n",
    "\n",
    "df_medida4['freq'] = df_medida4['freq'].astype(float)\n",
    "\n",
    "\n",
    "df_medida4"
   ]
  },
  {
   "cell_type": "code",
   "execution_count": 5,
   "metadata": {},
   "outputs": [
    {
     "data": {
      "text/plain": [
       "freq       float64\n",
       "S11_ADS    float64\n",
       "dtype: object"
      ]
     },
     "execution_count": 5,
     "metadata": {},
     "output_type": "execute_result"
    }
   ],
   "source": [
    "df_ads = pd.read_excel('Simul X Medidas\\Koch_Bowtie\\Koch_Bowtie.xlsx', 'Koch_Bowtie_ADS', decimal=',')\n",
    "df_ads.dtypes\n",
    "df_ads.rename(columns = {'Frequency / GHz':'freq', 'dB(S11_fitted)':'S11_ADS'}, inplace = True)\n",
    "\n",
    "# df_ads['freq'] = round(df_cst['freq'],2)*10**9\n",
    "df_ads.dtypes\n",
    "# df_ads['S11_ADS']"
   ]
  },
  {
   "cell_type": "code",
   "execution_count": 32,
   "metadata": {},
   "outputs": [
    {
     "data": {
      "text/plain": [
       "0       1.000000e+08\n",
       "1       1.100000e+08\n",
       "2       1.300000e+08\n",
       "3       1.400000e+08\n",
       "4       1.600000e+08\n",
       "            ...     \n",
       "996     1.494000e+10\n",
       "997     1.496000e+10\n",
       "998     1.497000e+10\n",
       "999     1.499000e+10\n",
       "1000    1.500000e+10\n",
       "Name: freq, Length: 1001, dtype: float64"
      ]
     },
     "execution_count": 32,
     "metadata": {},
     "output_type": "execute_result"
    }
   ],
   "source": [
    "df_cst = pd.read_excel('Simul X Medidas\\Koch_Bowtie\\Koch_Bowtie.xlsx', 'S11 - Koch_simetric_CST', decimal=',')\n",
    "df_cst.dtypes\n",
    "df_cst.rename(columns = {'Frequency / GHz':'freq', 'S1,1/abs,dB':'S11_CST'}, inplace = True)\n",
    "\n",
    "df_cst['freq'] = round(df_cst['freq'],2)*10**9\n",
    "\n",
    "df_cst['freq']"
   ]
  },
  {
   "cell_type": "code",
   "execution_count": 52,
   "metadata": {},
   "outputs": [
    {
     "data": {
      "text/plain": [
       "0       1.000000e+08\n",
       "1       1.400000e+08\n",
       "2       1.800000e+08\n",
       "3       2.200000e+08\n",
       "4       2.600000e+08\n",
       "            ...     \n",
       "996     3.984000e+10\n",
       "997     3.988000e+10\n",
       "998     3.992000e+10\n",
       "999     3.996000e+10\n",
       "1000    4.000000e+10\n",
       "Name: freq, Length: 1001, dtype: float64"
      ]
     },
     "execution_count": 52,
     "metadata": {},
     "output_type": "execute_result"
    }
   ],
   "source": [
    "df_cst = pd.read_excel('Simul X Medidas\\Koch_Bowtie\\Koch_Bowtie.xlsx', 'CST_40', decimal=',')\n",
    "df_cst.dtypes\n",
    "df_cst.rename(columns = {'Frequency / GHz':'freq', 'S1,1/abs,dB':'S11_CST'}, inplace = True)\n",
    "\n",
    "df_cst['freq'] = round(df_cst['freq'],2)*10**9\n",
    "\n",
    "df_cst['freq']"
   ]
  },
  {
   "cell_type": "code",
   "execution_count": 57,
   "metadata": {},
   "outputs": [
    {
     "data": {
      "text/html": [
       "<div>\n",
       "<style scoped>\n",
       "    .dataframe tbody tr th:only-of-type {\n",
       "        vertical-align: middle;\n",
       "    }\n",
       "\n",
       "    .dataframe tbody tr th {\n",
       "        vertical-align: top;\n",
       "    }\n",
       "\n",
       "    .dataframe thead th {\n",
       "        text-align: right;\n",
       "    }\n",
       "</style>\n",
       "<table border=\"1\" class=\"dataframe\">\n",
       "  <thead>\n",
       "    <tr style=\"text-align: right;\">\n",
       "      <th></th>\n",
       "      <th>freq</th>\n",
       "      <th>S11_MeasUSP2</th>\n",
       "      <th>S11_CST</th>\n",
       "    </tr>\n",
       "  </thead>\n",
       "  <tbody>\n",
       "    <tr>\n",
       "      <th>0</th>\n",
       "      <td>1.000000e+08</td>\n",
       "      <td>-13.851162</td>\n",
       "      <td>-0.395645</td>\n",
       "    </tr>\n",
       "    <tr>\n",
       "      <th>1</th>\n",
       "      <td>1.082500e+08</td>\n",
       "      <td>-14.999712</td>\n",
       "      <td>NaN</td>\n",
       "    </tr>\n",
       "    <tr>\n",
       "      <th>2</th>\n",
       "      <td>1.165000e+08</td>\n",
       "      <td>-16.157202</td>\n",
       "      <td>NaN</td>\n",
       "    </tr>\n",
       "    <tr>\n",
       "      <th>3</th>\n",
       "      <td>1.247500e+08</td>\n",
       "      <td>-17.308411</td>\n",
       "      <td>NaN</td>\n",
       "    </tr>\n",
       "    <tr>\n",
       "      <th>4</th>\n",
       "      <td>1.330000e+08</td>\n",
       "      <td>-18.458578</td>\n",
       "      <td>NaN</td>\n",
       "    </tr>\n",
       "    <tr>\n",
       "      <th>...</th>\n",
       "      <td>...</td>\n",
       "      <td>...</td>\n",
       "      <td>...</td>\n",
       "    </tr>\n",
       "    <tr>\n",
       "      <th>3842</th>\n",
       "      <td>2.647000e+10</td>\n",
       "      <td>NaN</td>\n",
       "      <td>-14.933917</td>\n",
       "    </tr>\n",
       "    <tr>\n",
       "      <th>3197</th>\n",
       "      <td>2.647525e+10</td>\n",
       "      <td>-152.774830</td>\n",
       "      <td>NaN</td>\n",
       "    </tr>\n",
       "    <tr>\n",
       "      <th>3198</th>\n",
       "      <td>2.648350e+10</td>\n",
       "      <td>-153.946610</td>\n",
       "      <td>NaN</td>\n",
       "    </tr>\n",
       "    <tr>\n",
       "      <th>3199</th>\n",
       "      <td>2.649175e+10</td>\n",
       "      <td>-155.280910</td>\n",
       "      <td>NaN</td>\n",
       "    </tr>\n",
       "    <tr>\n",
       "      <th>3200</th>\n",
       "      <td>2.650000e+10</td>\n",
       "      <td>-156.454420</td>\n",
       "      <td>NaN</td>\n",
       "    </tr>\n",
       "  </tbody>\n",
       "</table>\n",
       "<p>3843 rows × 3 columns</p>\n",
       "</div>"
      ],
      "text/plain": [
       "              freq  S11_MeasUSP2    S11_CST\n",
       "0     1.000000e+08    -13.851162  -0.395645\n",
       "1     1.082500e+08    -14.999712        NaN\n",
       "2     1.165000e+08    -16.157202        NaN\n",
       "3     1.247500e+08    -17.308411        NaN\n",
       "4     1.330000e+08    -18.458578        NaN\n",
       "...            ...           ...        ...\n",
       "3842  2.647000e+10           NaN -14.933917\n",
       "3197  2.647525e+10   -152.774830        NaN\n",
       "3198  2.648350e+10   -153.946610        NaN\n",
       "3199  2.649175e+10   -155.280910        NaN\n",
       "3200  2.650000e+10   -156.454420        NaN\n",
       "\n",
       "[3843 rows x 3 columns]"
      ]
     },
     "execution_count": 57,
     "metadata": {},
     "output_type": "execute_result"
    }
   ],
   "source": [
    "# df = pd.merge_ordered(df_cst, df_ads, on='freq')\n",
    "\n",
    "# df1 = df_ads.merge(df_cst, how= 'outer', on='freq')\n",
    "# df2 = df_medida2.merge(df_medida1, how= 'outer', on='freq')\n",
    "# df3 = df_medida3.merge(df_medida4, how= 'outer', on='freq')\n",
    "# df = df1.merge(df2, how= 'outer', on='freq')\n",
    "# df = df.merge(df3, how= 'outer', on='freq')\n",
    "\n",
    "df = df_medida4.merge(df_cst, how = 'outer', on='freq')\n",
    "df.sort_values(by='freq', inplace=True)\n",
    "\n",
    "df= df.loc[df['freq']<=26.5e9]\n",
    "\n",
    "df"
   ]
  },
  {
   "cell_type": "code",
   "execution_count": 24,
   "metadata": {},
   "outputs": [],
   "source": [
    "nfreq = np.arange(30E9, 18E9, 10E6) # % desejada\n",
    "\n",
    "# f= interpolate.interp1d(df_ads['freq'], df_ads['S11_ADS'])\n",
    "\n",
    "# y_ads = f(nfreq)\n",
    "\n",
    "# y_ads"
   ]
  },
  {
   "cell_type": "code",
   "execution_count": 25,
   "metadata": {},
   "outputs": [
    {
     "data": {
      "text/plain": [
       "array([], dtype=float64)"
      ]
     },
     "execution_count": 25,
     "metadata": {},
     "output_type": "execute_result"
    }
   ],
   "source": [
    "f= interpolate.interp1d(df_cst['freq'], df_cst['S11_CST'])\n",
    "\n",
    "y_cst = f(nfreq)\n",
    "\n",
    "y_cst"
   ]
  },
  {
   "cell_type": "code",
   "execution_count": 12,
   "metadata": {},
   "outputs": [
    {
     "data": {
      "text/plain": [
       "array([-7.730083, -7.938804, -8.104391, ..., -4.790687, -4.772244,\n",
       "       -4.715075])"
      ]
     },
     "execution_count": 12,
     "metadata": {},
     "output_type": "execute_result"
    }
   ],
   "source": [
    "f= interpolate.interp1d(df_medida1['freq'], df_medida1['S11_MeasINPE'])\n",
    "\n",
    "y_med1 = f(nfreq)\n",
    "\n",
    "y_med1"
   ]
  },
  {
   "cell_type": "code",
   "execution_count": 13,
   "metadata": {},
   "outputs": [
    {
     "data": {
      "text/plain": [
       "array([-9.09680731, -9.22015764, -9.34350797, ..., -8.1661981 ,\n",
       "       -8.17045242, -8.17470674])"
      ]
     },
     "execution_count": 13,
     "metadata": {},
     "output_type": "execute_result"
    }
   ],
   "source": [
    "f= interpolate.interp1d(df_medida2['freq'], df_medida2['S11_MeasSKY2'])\n",
    "\n",
    "y_med2 = f(nfreq)\n",
    "\n",
    "y_med2"
   ]
  },
  {
   "cell_type": "code",
   "execution_count": 14,
   "metadata": {},
   "outputs": [
    {
     "data": {
      "text/plain": [
       "array([-8.39979861, -8.48697709, -8.61592983, ..., -4.82766418,\n",
       "       -4.803111  , -4.77246305])"
      ]
     },
     "execution_count": 14,
     "metadata": {},
     "output_type": "execute_result"
    }
   ],
   "source": [
    "f= interpolate.interp1d(df_medida3['freq'], df_medida3['S11_MeasUSP1'])\n",
    "\n",
    "y_med3 = f(nfreq)\n",
    "\n",
    "y_med3"
   ]
  },
  {
   "cell_type": "code",
   "execution_count": 15,
   "metadata": {},
   "outputs": [
    {
     "data": {
      "text/plain": [
       "array([-8.08611656, -8.20720253, -8.32500431, ..., -5.01776128,\n",
       "       -4.98286753, -4.96046485])"
      ]
     },
     "execution_count": 15,
     "metadata": {},
     "output_type": "execute_result"
    }
   ],
   "source": [
    "f= interpolate.interp1d(df_medida4['freq'], df_medida4['S11_MeasUSP2'])\n",
    "\n",
    "y_med4 = f(nfreq)\n",
    "\n",
    "y_med4"
   ]
  },
  {
   "cell_type": "code",
   "execution_count": 16,
   "metadata": {},
   "outputs": [
    {
     "data": {
      "text/html": [
       "<div>\n",
       "<style scoped>\n",
       "    .dataframe tbody tr th:only-of-type {\n",
       "        vertical-align: middle;\n",
       "    }\n",
       "\n",
       "    .dataframe tbody tr th {\n",
       "        vertical-align: top;\n",
       "    }\n",
       "\n",
       "    .dataframe thead th {\n",
       "        text-align: right;\n",
       "    }\n",
       "</style>\n",
       "<table border=\"1\" class=\"dataframe\">\n",
       "  <thead>\n",
       "    <tr style=\"text-align: right;\">\n",
       "      <th></th>\n",
       "      <th>S11_ADS</th>\n",
       "      <th>S11_CST</th>\n",
       "      <th>S11_MeasINPE</th>\n",
       "      <th>S11_MeasUSP</th>\n",
       "    </tr>\n",
       "  </thead>\n",
       "  <tbody>\n",
       "    <tr>\n",
       "      <th>S11_ADS</th>\n",
       "      <td>1.000000</td>\n",
       "      <td>0.838127</td>\n",
       "      <td>0.563764</td>\n",
       "      <td>0.616717</td>\n",
       "    </tr>\n",
       "    <tr>\n",
       "      <th>S11_CST</th>\n",
       "      <td>0.838127</td>\n",
       "      <td>1.000000</td>\n",
       "      <td>0.705637</td>\n",
       "      <td>0.787342</td>\n",
       "    </tr>\n",
       "    <tr>\n",
       "      <th>S11_MeasINPE</th>\n",
       "      <td>0.563764</td>\n",
       "      <td>0.705637</td>\n",
       "      <td>1.000000</td>\n",
       "      <td>0.947664</td>\n",
       "    </tr>\n",
       "    <tr>\n",
       "      <th>S11_MeasUSP</th>\n",
       "      <td>0.616717</td>\n",
       "      <td>0.787342</td>\n",
       "      <td>0.947664</td>\n",
       "      <td>1.000000</td>\n",
       "    </tr>\n",
       "  </tbody>\n",
       "</table>\n",
       "</div>"
      ],
      "text/plain": [
       "               S11_ADS   S11_CST  S11_MeasINPE  S11_MeasUSP\n",
       "S11_ADS       1.000000  0.838127      0.563764     0.616717\n",
       "S11_CST       0.838127  1.000000      0.705637     0.787342\n",
       "S11_MeasINPE  0.563764  0.705637      1.000000     0.947664\n",
       "S11_MeasUSP   0.616717  0.787342      0.947664     1.000000"
      ]
     },
     "execution_count": 16,
     "metadata": {},
     "output_type": "execute_result"
    }
   ],
   "source": [
    "# d= {'freq': nfreq, 'S11_ADS':y_ads,'S11_CST':y_cst, 'S11_MeasSKY1':y_med1, 'S11_MeasSKY2':y_med2, 'S11_MeasUSP1':y_med3, 'S11_MeasUSP2':y_med4}\n",
    "\n",
    "d= { 'S11_ADS':y_ads,'S11_CST':y_cst, 'S11_MeasINPE':y_med1, 'S11_MeasUSP':y_med4}\n",
    "\n",
    "df = pd.DataFrame(d)\n",
    "corr_pearson = df.corr(method='pearson')\n",
    "corr_kendall = df.corr(method='kendall')\n",
    "corr_spearman = df.corr(method='spearman')\n",
    "\n",
    "corr_pearson"
   ]
  },
  {
   "cell_type": "code",
   "execution_count": 69,
   "metadata": {},
   "outputs": [
    {
     "data": {
      "text/plain": [
       "<matplotlib.legend.Legend at 0x13e08ae7a00>"
      ]
     },
     "execution_count": 69,
     "metadata": {},
     "output_type": "execute_result"
    },
    {
     "data": {
      "image/png": "[encoded data removed]",
      "text/plain": [
       "<Figure size 921.6x691.2 with 1 Axes>"
      ]
     },
     "metadata": {
      "needs_background": "light"
     },
     "output_type": "display_data"
    }
   ],
   "source": [
    "# highest_freq = max([max(df_cst['freq']),max(df_ads['freq'])])\n",
    "\n",
    "\n",
    "\n",
    "fig, ax = plt.subplots( layout = 'constrained', figsize=(6.4*2,4.8*2))\n",
    "# ax.plot(df_ads['freq'], df_ads['S11_ADS'], label ='ADS')\n",
    "ax.plot(df_cst['freq'], df_cst['S11_CST'], label ='Simulated')\n",
    "# ax.plot(nfreq, y, label ='Med1_inter')\n",
    "ax.plot(df_medida4['freq'], df_medida4['S11_MeasUSP2'], '--',label ='Measured', color = 'red')\n",
    "# ax.plot(df_medida2['freq'], df_medida2['S11_MeasSKY2'], label ='SKY 2')\n",
    "# ax.plot(df_medida3['freq'], df_medida3['S11_MeasUSP1'], '--',label ='USP 1',)\n",
    "# ax.plot(df_medida4['freq'], df_medida4['S11_MeasUSP2'],'--', label ='USP')\n",
    "\n",
    "\n",
    "plt.axhline(y=-10, ls=':', c='#000000') #Horizontal Line\n",
    "plt.ticklabel_format(axis='x', style='sci', scilimits=(9,9))\n",
    "plt.xticks(range(0, 27*10**9, 1*10**9)) #x scale\n",
    "ax.set_xlabel('Frequency')  # Add an x-label to the axes.\n",
    "ax.set_ylabel('S(1,1) [dB]')  # Add a y-label to the axes.\n",
    "# ax.set_title('S11_Analysis')  # Add a title to the axes.\n",
    "ax.set(xlim=(0, 26.5*10**9), ylim=(-40, 0))\n",
    "ax.grid()\n",
    "ax.legend()"
   ]
  },
  {
   "cell_type": "code",
   "execution_count": 43,
   "metadata": {},
   "outputs": [
    {
     "data": {
      "text/plain": [
       "449"
      ]
     },
     "execution_count": 43,
     "metadata": {},
     "output_type": "execute_result"
    }
   ],
   "source": [
    "len(df_cst['S11_CST'])"
   ]
  },
  {
   "cell_type": "code",
   "execution_count": 60,
   "metadata": {},
   "outputs": [
    {
     "data": {
      "text/plain": [
       "<matplotlib.legend.Legend at 0x13e153e0ac0>"
      ]
     },
     "execution_count": 60,
     "metadata": {},
     "output_type": "execute_result"
    },
    {
     "data": {
      "text/plain": [
       "<Figure size 3000x2400 with 0 Axes>"
      ]
     },
     "metadata": {},
     "output_type": "display_data"
    },
    {
     "data": {
      "image/png": "[encoded data removed]",
      "text/plain": [
       "<Figure size 432x288 with 1 Axes>"
      ]
     },
     "metadata": {
      "needs_background": "light"
     },
     "output_type": "display_data"
    }
   ],
   "source": [
    "# highest_freq = max(df_cst['freq'])\n",
    "\n",
    "\n",
    "figure(figsize=(15, 12), dpi=200)\n",
    "fig, ax = plt.subplots( layout = 'constrained')\n",
    "ax.plot(df['freq'], df['S11_CST'], label ='CST')\n",
    "ax.plot(df['freq'], df['S11_MeasUSP2'], '--',label ='Measured')\n",
    "ax.axhline(y=-10, ls=':', color = 'r')\n",
    "\n",
    "\n",
    "\n",
    "ax.set_xlabel('Frequency')  # Add an x-label to the axes.\n",
    "ax.set_ylabel('S(1,1) [dB]')  # Add a y-label to the axes.\n",
    "ax.set_title('S11_Analysis')  # Add a title to the axes.\n",
    "ax.set(xlim=(0, 18*10**9), ylim=(-40, 0))\n",
    "ax.grid()\n",
    "ax.legend()"
   ]
  },
  {
   "cell_type": "code",
   "execution_count": null,
   "metadata": {},
   "outputs": [
    {
     "name": "stdout",
     "output_type": "stream",
     "text": [
      "Sierpinski_simetric\n",
      "Sierp_Patch_3rd\n",
      "Sierp_Patch_2rd\n",
      "MLIN_Slot_Circular_MoM\n",
      "MLIN_Disc_Monopole_MoM\n",
      "MLIN_Disc_Monopole_FEM\n",
      "MLIN_Cardioid_Monopole_MoM\n",
      "Log_P_Koch_Param_1\n",
      "Koch_simetric\n",
      "fit_67\n",
      "CPW_Disc_Monopole_MoM\n",
      "CPW_Disc_Monopole_FEM\n",
      "CPW_Cardioid_Monopole_MoM\n",
      "Bowtie_import\n",
      "Planilha1\n"
     ]
    }
   ],
   "source": [
    "xl = pd.ExcelFile('S11_ADS.xlsx')\n",
    "sh_names = xl.sheet_names\n",
    "\n",
    "for name in sh_names:\n",
    "    print (name)"
   ]
  }
 ],
 "metadata": {
  "kernelspec": {
   "display_name": "Python 3",
   "language": "python",
   "name": "python3"
  },
  "language_info": {
   "codemirror_mode": {
    "name": "ipython",
    "version": 3
   },
   "file_extension": ".py",
   "mimetype": "text/x-python",
   "name": "python",
   "nbconvert_exporter": "python",
   "pygments_lexer": "ipython3",
   "version": "3.10.1"
  },
  "orig_nbformat": 4
 },
 "nbformat": 4,
 "nbformat_minor": 2
}
