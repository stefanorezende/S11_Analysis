{
 "cells": [
  {
   "cell_type": "code",
   "execution_count": 1,
   "metadata": {},
   "outputs": [],
   "source": [
    "import matplotlib.pyplot as plt\n",
    "from matplotlib.pyplot import figure\n",
    "import pandas as pd\n",
    "import numpy as np\n",
    "from scipy import interpolate"
   ]
  },
  {
   "cell_type": "code",
   "execution_count": 2,
   "metadata": {},
   "outputs": [
    {
     "data": {
      "text/plain": [
       "freq            float64\n",
       "S11_MeasSKY1    float64\n",
       "dtype: object"
      ]
     },
     "execution_count": 2,
     "metadata": {},
     "output_type": "execute_result"
    }
   ],
   "source": [
    "\n",
    "df_medida1 = pd.read_excel('Simul X Medidas\\Koch_Bowtie\\Koch_Bowtie.xlsx', 'Koch_Bowtie_1_Medida_SKY', decimal=',')\n",
    "df_medida1.dtypes\n",
    "df_medida1.rename(columns = {'Frequency': 'freq', ' Formatted Data':'S11_MeasSKY1'}, inplace = True)\n",
    "\n",
    "df_medida1['freq'] = df_medida1['freq'].astype(float)\n",
    "\n",
    "\n",
    "df_medida1.dtypes"
   ]
  },
  {
   "cell_type": "code",
   "execution_count": 10,
   "metadata": {},
   "outputs": [
    {
     "data": {
      "text/plain": [
       "freq              int64\n",
       "S11_MeasINPE    float64\n",
       "dtype: object"
      ]
     },
     "execution_count": 10,
     "metadata": {},
     "output_type": "execute_result"
    }
   ],
   "source": [
    "\n",
    "df_medida1 = pd.read_excel('Simul X Medidas\\Koch_Bowtie\\Koch_Bowtie.xlsx', 'INPE', decimal=',')\n",
    "df_medida1.dtypes\n",
    "df_medida1.rename(columns = {'Frequency (Hz)': 'freq', 'dB':'S11_MeasINPE'}, inplace = True)\n",
    "\n",
    "# df_medida1['freq'] = df_medida1['freq'].astype(float)\n",
    "\n",
    "\n",
    "df_medida1.dtypes"
   ]
  },
  {
   "cell_type": "code",
   "execution_count": 7,
   "metadata": {},
   "outputs": [
    {
     "data": {
      "text/plain": [
       "freq            float64\n",
       "S11_MeasSKY2    float64\n",
       "dtype: object"
      ]
     },
     "execution_count": 7,
     "metadata": {},
     "output_type": "execute_result"
    }
   ],
   "source": [
    "df_medida2 = pd.read_excel('Simul X Medidas\\Koch_Bowtie\\Koch_Bowtie.xlsx', 'Koch_Bowtie_2_Medida_SKY', decimal=',')\n",
    "df_medida2.dtypes\n",
    "df_medida2.rename(columns = {'Frequency': 'freq', ' Formatted Data':'S11_MeasSKY2'}, inplace = True)\n",
    "\n",
    "df_medida2['freq'] = df_medida2['freq'].astype(float)\n",
    "\n",
    "\n",
    "df_medida2.dtypes"
   ]
  },
  {
   "cell_type": "code",
   "execution_count": 8,
   "metadata": {},
   "outputs": [
    {
     "data": {
      "text/plain": [
       "freq            float64\n",
       "S11_MeasUSP1    float64\n",
       "dtype: object"
      ]
     },
     "execution_count": 8,
     "metadata": {},
     "output_type": "execute_result"
    }
   ],
   "source": [
    "df_medida3 = pd.read_excel('Simul X Medidas\\Koch_Bowtie\\Koch_Bowtie.xlsx', 'Koch_Bowtie_1_Medida_USP', decimal=',')\n",
    "df_medida3.dtypes\n",
    "df_medida3.rename(columns = {'Hz': 'freq', 'S':'S11_MeasUSP1'}, inplace = True)\n",
    "df_medida3 = df_medida3.drop(['R'], axis= 1)\n",
    "\n",
    "df_medida3['freq'] = df_medida3['freq'].astype(float)\n",
    "\n",
    "\n",
    "df_medida3.dtypes"
   ]
  },
  {
   "cell_type": "code",
   "execution_count": 4,
   "metadata": {},
   "outputs": [
    {
     "data": {
      "text/plain": [
       "freq            float64\n",
       "S11_MeasUSP2    float64\n",
       "dtype: object"
      ]
     },
     "execution_count": 4,
     "metadata": {},
     "output_type": "execute_result"
    }
   ],
   "source": [
    "df_medida4 = pd.read_excel('Simul X Medidas\\Koch_Bowtie\\Koch_Bowtie.xlsx', 'Koch_Bowtie_2_Medida_USP', decimal=',')\n",
    "df_medida4.dtypes\n",
    "df_medida4.rename(columns = {'Hz': 'freq', 'S':'S11_MeasUSP2'}, inplace = True)\n",
    "df_medida4 = df_medida4.drop(['R'], axis= 1)\n",
    "\n",
    "df_medida4['freq'] = df_medida4['freq'].astype(float)\n",
    "\n",
    "\n",
    "df_medida4.dtypes"
   ]
  },
  {
   "cell_type": "code",
   "execution_count": 5,
   "metadata": {},
   "outputs": [
    {
     "data": {
      "text/plain": [
       "freq       float64\n",
       "S11_ADS    float64\n",
       "dtype: object"
      ]
     },
     "execution_count": 5,
     "metadata": {},
     "output_type": "execute_result"
    }
   ],
   "source": [
    "df_ads = pd.read_excel('Simul X Medidas\\Koch_Bowtie\\Koch_Bowtie.xlsx', 'Koch_Bowtie_ADS', decimal=',')\n",
    "df_ads.dtypes\n",
    "df_ads.rename(columns = {'Frequency / GHz':'freq', 'dB(S11_fitted)':'S11_ADS'}, inplace = True)\n",
    "\n",
    "# df_ads['freq'] = round(df_cst['freq'],2)*10**9\n",
    "df_ads.dtypes\n",
    "# df_ads['S11_ADS']"
   ]
  },
  {
   "cell_type": "code",
   "execution_count": 6,
   "metadata": {},
   "outputs": [
    {
     "data": {
      "text/plain": [
       "0       1.000000e+08\n",
       "1       1.100000e+08\n",
       "2       1.300000e+08\n",
       "3       1.400000e+08\n",
       "4       1.600000e+08\n",
       "            ...     \n",
       "996     1.494000e+10\n",
       "997     1.496000e+10\n",
       "998     1.497000e+10\n",
       "999     1.499000e+10\n",
       "1000    1.500000e+10\n",
       "Name: freq, Length: 1001, dtype: float64"
      ]
     },
     "execution_count": 6,
     "metadata": {},
     "output_type": "execute_result"
    }
   ],
   "source": [
    "df_cst = pd.read_excel('Simul X Medidas\\Koch_Bowtie\\Koch_Bowtie.xlsx', 'S11 - Koch_simetric_CST', decimal=',')\n",
    "df_cst.dtypes\n",
    "df_cst.rename(columns = {'Frequency / GHz':'freq', 'S1,1/abs,dB':'S11_CST'}, inplace = True)\n",
    "\n",
    "df_cst['freq'] = round(df_cst['freq'],2)*10**9\n",
    "\n",
    "df_cst['freq']"
   ]
  },
  {
   "cell_type": "code",
   "execution_count": 11,
   "metadata": {},
   "outputs": [
    {
     "data": {
      "text/html": [
       "<div>\n",
       "<style scoped>\n",
       "    .dataframe tbody tr th:only-of-type {\n",
       "        vertical-align: middle;\n",
       "    }\n",
       "\n",
       "    .dataframe tbody tr th {\n",
       "        vertical-align: top;\n",
       "    }\n",
       "\n",
       "    .dataframe thead th {\n",
       "        text-align: right;\n",
       "    }\n",
       "</style>\n",
       "<table border=\"1\" class=\"dataframe\">\n",
       "  <thead>\n",
       "    <tr style=\"text-align: right;\">\n",
       "      <th></th>\n",
       "      <th>freq</th>\n",
       "      <th>S11_ADS</th>\n",
       "      <th>S11_CST</th>\n",
       "      <th>S11_MeasSKY2</th>\n",
       "      <th>S11_MeasINPE</th>\n",
       "      <th>S11_MeasUSP1</th>\n",
       "      <th>S11_MeasUSP2</th>\n",
       "    </tr>\n",
       "  </thead>\n",
       "  <tbody>\n",
       "    <tr>\n",
       "      <th>0</th>\n",
       "      <td>0.000000e+00</td>\n",
       "      <td>-4.532339e-14</td>\n",
       "      <td>NaN</td>\n",
       "      <td>NaN</td>\n",
       "      <td>NaN</td>\n",
       "      <td>NaN</td>\n",
       "      <td>NaN</td>\n",
       "    </tr>\n",
       "    <tr>\n",
       "      <th>1</th>\n",
       "      <td>9.286484e+00</td>\n",
       "      <td>-4.339474e-14</td>\n",
       "      <td>NaN</td>\n",
       "      <td>NaN</td>\n",
       "      <td>NaN</td>\n",
       "      <td>NaN</td>\n",
       "      <td>NaN</td>\n",
       "    </tr>\n",
       "    <tr>\n",
       "      <th>2</th>\n",
       "      <td>9.286484e+01</td>\n",
       "      <td>-6.075263e-14</td>\n",
       "      <td>NaN</td>\n",
       "      <td>NaN</td>\n",
       "      <td>NaN</td>\n",
       "      <td>NaN</td>\n",
       "      <td>NaN</td>\n",
       "    </tr>\n",
       "    <tr>\n",
       "      <th>3</th>\n",
       "      <td>9.286484e+02</td>\n",
       "      <td>-5.371304e-13</td>\n",
       "      <td>NaN</td>\n",
       "      <td>NaN</td>\n",
       "      <td>NaN</td>\n",
       "      <td>NaN</td>\n",
       "      <td>NaN</td>\n",
       "    </tr>\n",
       "    <tr>\n",
       "      <th>4</th>\n",
       "      <td>9.286484e+03</td>\n",
       "      <td>-4.878533e-11</td>\n",
       "      <td>NaN</td>\n",
       "      <td>NaN</td>\n",
       "      <td>NaN</td>\n",
       "      <td>NaN</td>\n",
       "      <td>NaN</td>\n",
       "    </tr>\n",
       "    <tr>\n",
       "      <th>...</th>\n",
       "      <td>...</td>\n",
       "      <td>...</td>\n",
       "      <td>...</td>\n",
       "      <td>...</td>\n",
       "      <td>...</td>\n",
       "      <td>...</td>\n",
       "      <td>...</td>\n",
       "    </tr>\n",
       "    <tr>\n",
       "      <th>15937</th>\n",
       "      <td>1.799600e+10</td>\n",
       "      <td>NaN</td>\n",
       "      <td>NaN</td>\n",
       "      <td>NaN</td>\n",
       "      <td>-7.903945</td>\n",
       "      <td>NaN</td>\n",
       "      <td>NaN</td>\n",
       "    </tr>\n",
       "    <tr>\n",
       "      <th>15938</th>\n",
       "      <td>1.799700e+10</td>\n",
       "      <td>NaN</td>\n",
       "      <td>NaN</td>\n",
       "      <td>NaN</td>\n",
       "      <td>-7.937569</td>\n",
       "      <td>NaN</td>\n",
       "      <td>NaN</td>\n",
       "    </tr>\n",
       "    <tr>\n",
       "      <th>15939</th>\n",
       "      <td>1.799800e+10</td>\n",
       "      <td>NaN</td>\n",
       "      <td>NaN</td>\n",
       "      <td>NaN</td>\n",
       "      <td>-7.927970</td>\n",
       "      <td>NaN</td>\n",
       "      <td>NaN</td>\n",
       "    </tr>\n",
       "    <tr>\n",
       "      <th>15940</th>\n",
       "      <td>1.799900e+10</td>\n",
       "      <td>NaN</td>\n",
       "      <td>NaN</td>\n",
       "      <td>NaN</td>\n",
       "      <td>-7.935424</td>\n",
       "      <td>NaN</td>\n",
       "      <td>NaN</td>\n",
       "    </tr>\n",
       "    <tr>\n",
       "      <th>1722</th>\n",
       "      <td>1.800000e+10</td>\n",
       "      <td>NaN</td>\n",
       "      <td>NaN</td>\n",
       "      <td>-15.519385</td>\n",
       "      <td>-7.923366</td>\n",
       "      <td>NaN</td>\n",
       "      <td>-8.282953</td>\n",
       "    </tr>\n",
       "  </tbody>\n",
       "</table>\n",
       "<p>17455 rows × 7 columns</p>\n",
       "</div>"
      ],
      "text/plain": [
       "               freq       S11_ADS  S11_CST  S11_MeasSKY2  S11_MeasINPE  \\\n",
       "0      0.000000e+00 -4.532339e-14      NaN           NaN           NaN   \n",
       "1      9.286484e+00 -4.339474e-14      NaN           NaN           NaN   \n",
       "2      9.286484e+01 -6.075263e-14      NaN           NaN           NaN   \n",
       "3      9.286484e+02 -5.371304e-13      NaN           NaN           NaN   \n",
       "4      9.286484e+03 -4.878533e-11      NaN           NaN           NaN   \n",
       "...             ...           ...      ...           ...           ...   \n",
       "15937  1.799600e+10           NaN      NaN           NaN     -7.903945   \n",
       "15938  1.799700e+10           NaN      NaN           NaN     -7.937569   \n",
       "15939  1.799800e+10           NaN      NaN           NaN     -7.927970   \n",
       "15940  1.799900e+10           NaN      NaN           NaN     -7.935424   \n",
       "1722   1.800000e+10           NaN      NaN    -15.519385     -7.923366   \n",
       "\n",
       "       S11_MeasUSP1  S11_MeasUSP2  \n",
       "0               NaN           NaN  \n",
       "1               NaN           NaN  \n",
       "2               NaN           NaN  \n",
       "3               NaN           NaN  \n",
       "4               NaN           NaN  \n",
       "...             ...           ...  \n",
       "15937           NaN           NaN  \n",
       "15938           NaN           NaN  \n",
       "15939           NaN           NaN  \n",
       "15940           NaN           NaN  \n",
       "1722            NaN     -8.282953  \n",
       "\n",
       "[17455 rows x 7 columns]"
      ]
     },
     "execution_count": 11,
     "metadata": {},
     "output_type": "execute_result"
    }
   ],
   "source": [
    "# df = pd.merge_ordered(df_cst, df_ads, on='freq')\n",
    "\n",
    "df1 = df_ads.merge(df_cst, how= 'outer', on='freq')\n",
    "df2 = df_medida2.merge(df_medida1, how= 'outer', on='freq')\n",
    "df3 = df_medida3.merge(df_medida4, how= 'outer', on='freq')\n",
    "df = df1.merge(df2, how= 'outer', on='freq')\n",
    "df = df.merge(df3, how= 'outer', on='freq')\n",
    "df.sort_values(by='freq', inplace=True)\n",
    "\n",
    "# df= df.loc[df['freq']<=15e9]\n",
    "\n",
    "df"
   ]
  },
  {
   "cell_type": "code",
   "execution_count": 12,
   "metadata": {},
   "outputs": [
    {
     "data": {
      "text/plain": [
       "array([-5.47204897, -5.65784077, -5.8461126 , ..., -5.16004606,\n",
       "       -5.15999494, -5.15994382])"
      ]
     },
     "execution_count": 12,
     "metadata": {},
     "output_type": "execute_result"
    }
   ],
   "source": [
    "nfreq = np.arange(3E9, 15E9, 10E6) # % desejada\n",
    "\n",
    "f= interpolate.interp1d(df_ads['freq'], df_ads['S11_ADS'])\n",
    "\n",
    "y_ads = f(nfreq)\n",
    "\n",
    "y_ads"
   ]
  },
  {
   "cell_type": "code",
   "execution_count": 13,
   "metadata": {},
   "outputs": [
    {
     "data": {
      "text/plain": [
       "array([-9.72488625, -9.7638172 , -9.8384617 , ..., -6.9227192 ,\n",
       "       -6.93643075, -6.9501423 ])"
      ]
     },
     "execution_count": 13,
     "metadata": {},
     "output_type": "execute_result"
    }
   ],
   "source": [
    "f= interpolate.interp1d(df_cst['freq'], df_cst['S11_CST'])\n",
    "\n",
    "y_cst = f(nfreq)\n",
    "\n",
    "y_cst"
   ]
  },
  {
   "cell_type": "code",
   "execution_count": 14,
   "metadata": {},
   "outputs": [
    {
     "data": {
      "text/plain": [
       "array([-7.730083, -7.938804, -8.104391, ..., -4.790687, -4.772244,\n",
       "       -4.715075])"
      ]
     },
     "execution_count": 14,
     "metadata": {},
     "output_type": "execute_result"
    }
   ],
   "source": [
    "f= interpolate.interp1d(df_medida1['freq'], df_medida1['S11_MeasINPE'])\n",
    "\n",
    "y_med1 = f(nfreq)\n",
    "\n",
    "y_med1"
   ]
  },
  {
   "cell_type": "code",
   "execution_count": 15,
   "metadata": {},
   "outputs": [
    {
     "data": {
      "text/plain": [
       "array([-9.09680731, -9.22015764, -9.34350797, ..., -8.1661981 ,\n",
       "       -8.17045242, -8.17470674])"
      ]
     },
     "execution_count": 15,
     "metadata": {},
     "output_type": "execute_result"
    }
   ],
   "source": [
    "f= interpolate.interp1d(df_medida2['freq'], df_medida2['S11_MeasSKY2'])\n",
    "\n",
    "y_med2 = f(nfreq)\n",
    "\n",
    "y_med2"
   ]
  },
  {
   "cell_type": "code",
   "execution_count": 16,
   "metadata": {},
   "outputs": [
    {
     "data": {
      "text/plain": [
       "array([-8.39979861, -8.48697709, -8.61592983, ..., -4.82766418,\n",
       "       -4.803111  , -4.77246305])"
      ]
     },
     "execution_count": 16,
     "metadata": {},
     "output_type": "execute_result"
    }
   ],
   "source": [
    "f= interpolate.interp1d(df_medida3['freq'], df_medida3['S11_MeasUSP1'])\n",
    "\n",
    "y_med3 = f(nfreq)\n",
    "\n",
    "y_med3"
   ]
  },
  {
   "cell_type": "code",
   "execution_count": 17,
   "metadata": {},
   "outputs": [
    {
     "data": {
      "text/plain": [
       "array([-8.08611656, -8.20720253, -8.32500431, ..., -5.01776128,\n",
       "       -4.98286753, -4.96046485])"
      ]
     },
     "execution_count": 17,
     "metadata": {},
     "output_type": "execute_result"
    }
   ],
   "source": [
    "f= interpolate.interp1d(df_medida4['freq'], df_medida4['S11_MeasUSP2'])\n",
    "\n",
    "y_med4 = f(nfreq)\n",
    "\n",
    "y_med4"
   ]
  },
  {
   "cell_type": "code",
   "execution_count": 19,
   "metadata": {},
   "outputs": [
    {
     "data": {
      "text/html": [
       "<div>\n",
       "<style scoped>\n",
       "    .dataframe tbody tr th:only-of-type {\n",
       "        vertical-align: middle;\n",
       "    }\n",
       "\n",
       "    .dataframe tbody tr th {\n",
       "        vertical-align: top;\n",
       "    }\n",
       "\n",
       "    .dataframe thead th {\n",
       "        text-align: right;\n",
       "    }\n",
       "</style>\n",
       "<table border=\"1\" class=\"dataframe\">\n",
       "  <thead>\n",
       "    <tr style=\"text-align: right;\">\n",
       "      <th></th>\n",
       "      <th>S11_ADS</th>\n",
       "      <th>S11_CST</th>\n",
       "      <th>S11_MeasINPE</th>\n",
       "      <th>S11_MeasUSP</th>\n",
       "    </tr>\n",
       "  </thead>\n",
       "  <tbody>\n",
       "    <tr>\n",
       "      <th>S11_ADS</th>\n",
       "      <td>1.000000</td>\n",
       "      <td>0.838127</td>\n",
       "      <td>0.563764</td>\n",
       "      <td>0.616717</td>\n",
       "    </tr>\n",
       "    <tr>\n",
       "      <th>S11_CST</th>\n",
       "      <td>0.838127</td>\n",
       "      <td>1.000000</td>\n",
       "      <td>0.705637</td>\n",
       "      <td>0.787342</td>\n",
       "    </tr>\n",
       "    <tr>\n",
       "      <th>S11_MeasINPE</th>\n",
       "      <td>0.563764</td>\n",
       "      <td>0.705637</td>\n",
       "      <td>1.000000</td>\n",
       "      <td>0.947664</td>\n",
       "    </tr>\n",
       "    <tr>\n",
       "      <th>S11_MeasUSP</th>\n",
       "      <td>0.616717</td>\n",
       "      <td>0.787342</td>\n",
       "      <td>0.947664</td>\n",
       "      <td>1.000000</td>\n",
       "    </tr>\n",
       "  </tbody>\n",
       "</table>\n",
       "</div>"
      ],
      "text/plain": [
       "               S11_ADS   S11_CST  S11_MeasINPE  S11_MeasUSP\n",
       "S11_ADS       1.000000  0.838127      0.563764     0.616717\n",
       "S11_CST       0.838127  1.000000      0.705637     0.787342\n",
       "S11_MeasINPE  0.563764  0.705637      1.000000     0.947664\n",
       "S11_MeasUSP   0.616717  0.787342      0.947664     1.000000"
      ]
     },
     "execution_count": 19,
     "metadata": {},
     "output_type": "execute_result"
    }
   ],
   "source": [
    "# d= {'freq': nfreq, 'S11_ADS':y_ads,'S11_CST':y_cst, 'S11_MeasSKY1':y_med1, 'S11_MeasSKY2':y_med2, 'S11_MeasUSP1':y_med3, 'S11_MeasUSP2':y_med4}\n",
    "\n",
    "d= { 'S11_ADS':y_ads,'S11_CST':y_cst, 'S11_MeasINPE':y_med1, 'S11_MeasUSP':y_med4}\n",
    "\n",
    "df = pd.DataFrame(d)\n",
    "corr_pearson = df.corr(method='pearson')\n",
    "corr_kendall = df.corr(method='kendall')\n",
    "corr_spearman = df.corr(method='spearman')\n",
    "\n",
    "corr_pearson"
   ]
  },
  {
   "cell_type": "code",
   "execution_count": 21,
   "metadata": {},
   "outputs": [
    {
     "data": {
      "text/plain": [
       "<matplotlib.legend.Legend at 0x2251f0bde50>"
      ]
     },
     "execution_count": 21,
     "metadata": {},
     "output_type": "execute_result"
    },
    {
     "data": {
      "text/plain": [
       "<Figure size 4500x3600 with 0 Axes>"
      ]
     },
     "metadata": {},
     "output_type": "display_data"
    },
    {
     "data": {
      "image/png": "[encoded data removed]",
      "text/plain": [
       "<Figure size 432x288 with 1 Axes>"
      ]
     },
     "metadata": {
      "needs_background": "light"
     },
     "output_type": "display_data"
    }
   ],
   "source": [
    "highest_freq = max([max(df_cst['freq']),max(df_ads['freq'])])\n",
    "\n",
    "\n",
    "figure(figsize=(15, 12), dpi=300)\n",
    "fig, ax = plt.subplots( layout = 'constrained')\n",
    "ax.plot(df_ads['freq'], df_ads['S11_ADS'], label ='ADS')\n",
    "ax.plot(df_cst['freq'], df_cst['S11_CST'], label ='CST')\n",
    "# ax.plot(nfreq, y, label ='Med1_inter')\n",
    "ax.plot(df_medida1['freq'], df_medida1['S11_MeasINPE'], '--',label ='INPE',)\n",
    "# ax.plot(df_medida2['freq'], df_medida2['S11_MeasSKY2'], label ='SKY 2')\n",
    "# ax.plot(df_medida3['freq'], df_medida3['S11_MeasUSP1'], '--',label ='USP 1',)\n",
    "# ax.plot(df_medida4['freq'], df_medida4['S11_MeasUSP2'],'--', label ='USP')\n",
    "\n",
    "\n",
    "plt.axhline(y=-10, ls=':', c='#000000') #Horizontal Line\n",
    "plt.xticks(range(0, 15*10**9, 1*10**9)) #x scale\n",
    "ax.set_xlabel('Frequency')  # Add an x-label to the axes.\n",
    "ax.set_ylabel('S(1,1) [dB]')  # Add a y-label to the axes.\n",
    "ax.set_title('S11_Analysis')  # Add a title to the axes.\n",
    "ax.set(xlim=(0, highest_freq), ylim=(-40, 0))\n",
    "ax.grid()\n",
    "ax.legend()"
   ]
  },
  {
   "cell_type": "code",
   "execution_count": null,
   "metadata": {},
   "outputs": [
    {
     "data": {
      "text/plain": [
       "<matplotlib.legend.Legend at 0x1f601789160>"
      ]
     },
     "execution_count": 91,
     "metadata": {},
     "output_type": "execute_result"
    },
    {
     "data": {
      "text/plain": [
       "<Figure size 3000x2400 with 0 Axes>"
      ]
     },
     "metadata": {},
     "output_type": "display_data"
    },
    {
     "data": {
      "image/png": "[encoded data removed]",
      "text/plain": [
       "<Figure size 432x288 with 1 Axes>"
      ]
     },
     "metadata": {
      "needs_background": "light"
     },
     "output_type": "display_data"
    }
   ],
   "source": [
    "highest_freq = max([max(df_cst['freq']),max(df_ads['freq'])])\n",
    "\n",
    "\n",
    "figure(figsize=(15, 12), dpi=200)\n",
    "fig, ax = plt.subplots( layout = 'constrained')\n",
    "ax.plot(df['freq'], df['S11_ADS'], label ='ADS')\n",
    "ax.plot(df['freq'], df['S11_CST'], label ='CST')\n",
    "ax.plot(df['freq'], df['S11_Meas1'], '--',label ='Measured',)\n",
    "ax.axhline(y=-10, ls=':', color = 'r')\n",
    "\n",
    "\n",
    "\n",
    "ax.set_xlabel('Frequency')  # Add an x-label to the axes.\n",
    "ax.set_ylabel('S(1,1) [dB]')  # Add a y-label to the axes.\n",
    "ax.set_title('S11_Analysis')  # Add a title to the axes.\n",
    "ax.set(xlim=(0, highest_freq), ylim=(-40, 0))\n",
    "ax.grid()\n",
    "ax.legend()"
   ]
  },
  {
   "cell_type": "code",
   "execution_count": null,
   "metadata": {},
   "outputs": [
    {
     "name": "stdout",
     "output_type": "stream",
     "text": [
      "Sierpinski_simetric\n",
      "Sierp_Patch_3rd\n",
      "Sierp_Patch_2rd\n",
      "MLIN_Slot_Circular_MoM\n",
      "MLIN_Disc_Monopole_MoM\n",
      "MLIN_Disc_Monopole_FEM\n",
      "MLIN_Cardioid_Monopole_MoM\n",
      "Log_P_Koch_Param_1\n",
      "Koch_simetric\n",
      "fit_67\n",
      "CPW_Disc_Monopole_MoM\n",
      "CPW_Disc_Monopole_FEM\n",
      "CPW_Cardioid_Monopole_MoM\n",
      "Bowtie_import\n",
      "Planilha1\n"
     ]
    }
   ],
   "source": [
    "xl = pd.ExcelFile('S11_ADS.xlsx')\n",
    "sh_names = xl.sheet_names\n",
    "\n",
    "for name in sh_names:\n",
    "    print (name)"
   ]
  }
 ],
 "metadata": {
  "kernelspec": {
   "display_name": "Python 3.9.12",
   "language": "python",
   "name": "python3"
  },
  "language_info": {
   "codemirror_mode": {
    "name": "ipython",
    "version": 3
   },
   "file_extension": ".py",
   "mimetype": "text/x-python",
   "name": "python",
   "nbconvert_exporter": "python",
   "pygments_lexer": "ipython3",
   "version": "3.9.12"
  },
  "orig_nbformat": 4,
  "vscode": {
   "interpreter": {
    "hash": "ad2bdc8ecc057115af97d19610ffacc2b4e99fae6737bb82f5d7fb13d2f2c186"
   }
  }
 },
 "nbformat": 4,
 "nbformat_minor": 2
}
