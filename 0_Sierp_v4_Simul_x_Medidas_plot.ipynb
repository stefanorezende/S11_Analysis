{
 "cells": [
  {
   "cell_type": "code",
   "execution_count": 2,
   "metadata": {},
   "outputs": [],
   "source": [
    "import matplotlib.pyplot as plt\n",
    "from matplotlib.pyplot import figure\n",
    "import pandas as pd\n",
    "import numpy as np\n",
    "from scipy import interpolate"
   ]
  },
  {
   "cell_type": "code",
   "execution_count": 3,
   "metadata": {},
   "outputs": [
    {
     "data": {
      "text/plain": [
       "freq           float64\n",
       "S11_MeasSKY    float64\n",
       "dtype: object"
      ]
     },
     "execution_count": 3,
     "metadata": {},
     "output_type": "execute_result"
    }
   ],
   "source": [
    "\n",
    "df_medida = pd.read_excel('Simul X Medidas\\Sierpinski_Half_v4\\Sierpinski_v4.xlsx', 'Medida', decimal=',')\n",
    "df_medida.dtypes\n",
    "df_medida.rename(columns = {'Frequency': 'freq', ' Formatted Data':'S11_MeasSKY'}, inplace = True)\n",
    "\n",
    "df_medida['freq'] = df_medida['freq'].astype(float)\n",
    "\n",
    "\n",
    "df_medida.dtypes"
   ]
  },
  {
   "cell_type": "code",
   "execution_count": 6,
   "metadata": {},
   "outputs": [
    {
     "data": {
      "text/plain": [
       "freq              int64\n",
       "S11_MeasINPE    float64\n",
       "dtype: object"
      ]
     },
     "execution_count": 6,
     "metadata": {},
     "output_type": "execute_result"
    }
   ],
   "source": [
    "df_medida = pd.read_excel('Simul X Medidas\\Sierpinski_Half_v4\\Sierpinski_v4.xlsx', 'INPE', decimal=',')\n",
    "df_medida.dtypes\n",
    "df_medida.rename(columns = {'Frequency (Hz)': 'freq', 'dB':'S11_MeasINPE'}, inplace = True)\n",
    "\n",
    "# df_medida['freq'] = df_medida['freq'].astype(float)\n",
    "\n",
    "\n",
    "df_medida.dtypes"
   ]
  },
  {
   "cell_type": "code",
   "execution_count": 7,
   "metadata": {},
   "outputs": [
    {
     "data": {
      "text/plain": [
       "freq       float64\n",
       "S11_ADS    float64\n",
       "dtype: object"
      ]
     },
     "execution_count": 7,
     "metadata": {},
     "output_type": "execute_result"
    }
   ],
   "source": [
    "df_ads = pd.read_excel('Simul X Medidas\\Sierpinski_Half_v4\\Sierpinski_v4.xlsx', 'ADS', decimal=',')\n",
    "df_ads.dtypes\n",
    "df_ads.rename(columns = {'Frequency / GHz':'freq', 'dB(S11_fitted)':'S11_ADS'}, inplace = True)\n",
    "\n",
    "# df_ads['freq'] = round(df_cst['freq'],2)*10**9\n",
    "df_ads.dtypes\n",
    "# df_ads['S11_ADS']"
   ]
  },
  {
   "cell_type": "code",
   "execution_count": 8,
   "metadata": {},
   "outputs": [
    {
     "data": {
      "text/plain": [
       "0       1.000000e+08\n",
       "1       1.200000e+08\n",
       "2       1.400000e+08\n",
       "3       1.500000e+08\n",
       "4       1.700000e+08\n",
       "            ...     \n",
       "996     1.793000e+10\n",
       "997     1.795000e+10\n",
       "998     1.796000e+10\n",
       "999     1.798000e+10\n",
       "1000    1.800000e+10\n",
       "Name: freq, Length: 1001, dtype: float64"
      ]
     },
     "execution_count": 8,
     "metadata": {},
     "output_type": "execute_result"
    }
   ],
   "source": [
    "df_cst = pd.read_excel('Simul X Medidas\\Sierpinski_Half_v4\\Sierpinski_v4.xlsx', 'CST', decimal=',')\n",
    "df_cst.dtypes\n",
    "df_cst.rename(columns = {'Frequency':'freq', 'S1;1':'S11_CST'}, inplace = True)\n",
    "\n",
    "df_cst['freq'] = round(df_cst['freq'],2)*10**9\n",
    "\n",
    "df_cst['freq']"
   ]
  },
  {
   "cell_type": "code",
   "execution_count": 9,
   "metadata": {},
   "outputs": [
    {
     "data": {
      "text/plain": [
       "freq            float64\n",
       "S11_MeasUSP1    float64\n",
       "dtype: object"
      ]
     },
     "execution_count": 9,
     "metadata": {},
     "output_type": "execute_result"
    }
   ],
   "source": [
    "df_medida2 = pd.read_excel('Simul X Medidas\\Sierpinski_Half_v4\\Sierpinski_v4.xlsx', 'USP1', decimal=',')\n",
    "df_medida2.dtypes\n",
    "df_medida2.rename(columns = {'Hz': 'freq', 'S':'S11_MeasUSP1'}, inplace = True)\n",
    "df_medida2 = df_medida2.drop(['R'], axis= 1)\n",
    "\n",
    "df_medida2['freq'] = df_medida2['freq'].astype(float)\n",
    "\n",
    "\n",
    "df_medida2.dtypes"
   ]
  },
  {
   "cell_type": "code",
   "execution_count": 10,
   "metadata": {},
   "outputs": [
    {
     "data": {
      "text/plain": [
       "freq            float64\n",
       "S11_MeasUSP2    float64\n",
       "dtype: object"
      ]
     },
     "execution_count": 10,
     "metadata": {},
     "output_type": "execute_result"
    }
   ],
   "source": [
    "df_medida3 = pd.read_excel('Simul X Medidas\\Sierpinski_Half_v4\\Sierpinski_v4.xlsx', 'USP2', decimal=',')\n",
    "df_medida3.dtypes\n",
    "df_medida3.rename(columns = {'Hz': 'freq', 'S':'S11_MeasUSP2'}, inplace = True)\n",
    "df_medida3 = df_medida3.drop(['R'], axis= 1)\n",
    "\n",
    "df_medida3['freq'] = df_medida3['freq'].astype(float)\n",
    "\n",
    "\n",
    "df_medida3.dtypes"
   ]
  },
  {
   "cell_type": "code",
   "execution_count": 11,
   "metadata": {},
   "outputs": [
    {
     "data": {
      "text/plain": [
       "freq            float64\n",
       "S11_MeasUSP3    float64\n",
       "dtype: object"
      ]
     },
     "execution_count": 11,
     "metadata": {},
     "output_type": "execute_result"
    }
   ],
   "source": [
    "df_medida4 = pd.read_excel('Simul X Medidas\\Sierpinski_Half_v4\\Sierpinski_v4.xlsx', 'USP3', decimal=',')\n",
    "df_medida4.dtypes\n",
    "df_medida4.rename(columns = {'Hz': 'freq', 'S':'S11_MeasUSP3'}, inplace = True)\n",
    "df_medida4 = df_medida4.drop(['R'], axis= 1)\n",
    "\n",
    "df_medida4['freq'] = df_medida4['freq'].astype(float)\n",
    "\n",
    "\n",
    "df_medida4.dtypes"
   ]
  },
  {
   "cell_type": "code",
   "execution_count": 12,
   "metadata": {},
   "outputs": [
    {
     "name": "stderr",
     "output_type": "stream",
     "text": [
      "c:\\ProgramData\\Anaconda3\\lib\\site-packages\\pandas\\core\\reshape\\merge.py:1205: UserWarning: You are merging on int and float columns where the float values are not equal to their int representation.\n",
      "  warnings.warn(\n"
     ]
    },
    {
     "data": {
      "text/html": [
       "<div>\n",
       "<style scoped>\n",
       "    .dataframe tbody tr th:only-of-type {\n",
       "        vertical-align: middle;\n",
       "    }\n",
       "\n",
       "    .dataframe tbody tr th {\n",
       "        vertical-align: top;\n",
       "    }\n",
       "\n",
       "    .dataframe thead th {\n",
       "        text-align: right;\n",
       "    }\n",
       "</style>\n",
       "<table border=\"1\" class=\"dataframe\">\n",
       "  <thead>\n",
       "    <tr style=\"text-align: right;\">\n",
       "      <th></th>\n",
       "      <th>freq</th>\n",
       "      <th>S11_ADS</th>\n",
       "      <th>S11_CST</th>\n",
       "      <th>S11_MeasINPE</th>\n",
       "    </tr>\n",
       "  </thead>\n",
       "  <tbody>\n",
       "    <tr>\n",
       "      <th>0</th>\n",
       "      <td>0.000000e+00</td>\n",
       "      <td>-3.182281e-14</td>\n",
       "      <td>NaN</td>\n",
       "      <td>NaN</td>\n",
       "    </tr>\n",
       "    <tr>\n",
       "      <th>1</th>\n",
       "      <td>8.274252e+00</td>\n",
       "      <td>-4.435906e-14</td>\n",
       "      <td>NaN</td>\n",
       "      <td>NaN</td>\n",
       "    </tr>\n",
       "    <tr>\n",
       "      <th>2</th>\n",
       "      <td>8.274252e+01</td>\n",
       "      <td>-7.328889e-14</td>\n",
       "      <td>NaN</td>\n",
       "      <td>NaN</td>\n",
       "    </tr>\n",
       "    <tr>\n",
       "      <th>3</th>\n",
       "      <td>8.274252e+02</td>\n",
       "      <td>-1.205409e-12</td>\n",
       "      <td>NaN</td>\n",
       "      <td>NaN</td>\n",
       "    </tr>\n",
       "    <tr>\n",
       "      <th>4</th>\n",
       "      <td>8.274252e+03</td>\n",
       "      <td>-1.158485e-10</td>\n",
       "      <td>NaN</td>\n",
       "      <td>NaN</td>\n",
       "    </tr>\n",
       "    <tr>\n",
       "      <th>...</th>\n",
       "      <td>...</td>\n",
       "      <td>...</td>\n",
       "      <td>...</td>\n",
       "      <td>...</td>\n",
       "    </tr>\n",
       "    <tr>\n",
       "      <th>15694</th>\n",
       "      <td>1.799600e+10</td>\n",
       "      <td>NaN</td>\n",
       "      <td>NaN</td>\n",
       "      <td>-5.518620</td>\n",
       "    </tr>\n",
       "    <tr>\n",
       "      <th>15695</th>\n",
       "      <td>1.799700e+10</td>\n",
       "      <td>NaN</td>\n",
       "      <td>NaN</td>\n",
       "      <td>-5.521069</td>\n",
       "    </tr>\n",
       "    <tr>\n",
       "      <th>15696</th>\n",
       "      <td>1.799800e+10</td>\n",
       "      <td>NaN</td>\n",
       "      <td>NaN</td>\n",
       "      <td>-5.541224</td>\n",
       "    </tr>\n",
       "    <tr>\n",
       "      <th>15697</th>\n",
       "      <td>1.799900e+10</td>\n",
       "      <td>NaN</td>\n",
       "      <td>NaN</td>\n",
       "      <td>-5.524965</td>\n",
       "    </tr>\n",
       "    <tr>\n",
       "      <th>527</th>\n",
       "      <td>1.800000e+10</td>\n",
       "      <td>-5.307323e+00</td>\n",
       "      <td>-7.951654</td>\n",
       "      <td>-5.532002</td>\n",
       "    </tr>\n",
       "  </tbody>\n",
       "</table>\n",
       "<p>15698 rows × 4 columns</p>\n",
       "</div>"
      ],
      "text/plain": [
       "               freq       S11_ADS   S11_CST  S11_MeasINPE\n",
       "0      0.000000e+00 -3.182281e-14       NaN           NaN\n",
       "1      8.274252e+00 -4.435906e-14       NaN           NaN\n",
       "2      8.274252e+01 -7.328889e-14       NaN           NaN\n",
       "3      8.274252e+02 -1.205409e-12       NaN           NaN\n",
       "4      8.274252e+03 -1.158485e-10       NaN           NaN\n",
       "...             ...           ...       ...           ...\n",
       "15694  1.799600e+10           NaN       NaN     -5.518620\n",
       "15695  1.799700e+10           NaN       NaN     -5.521069\n",
       "15696  1.799800e+10           NaN       NaN     -5.541224\n",
       "15697  1.799900e+10           NaN       NaN     -5.524965\n",
       "527    1.800000e+10 -5.307323e+00 -7.951654     -5.532002\n",
       "\n",
       "[15698 rows x 4 columns]"
      ]
     },
     "execution_count": 12,
     "metadata": {},
     "output_type": "execute_result"
    }
   ],
   "source": [
    "# df = pd.merge_ordered(df_cst, df_ads, on='freq')\n",
    "\n",
    "df1 = df_ads.merge(df_cst, how= 'outer', on='freq')\n",
    "df = df1.merge(df_medida, how= 'outer', on='freq')\n",
    "df.sort_values(by='freq', inplace=True)\n",
    "\n",
    "# df= df.loc[df['freq']<=15e9]\n",
    "\n",
    "df"
   ]
  },
  {
   "cell_type": "code",
   "execution_count": 13,
   "metadata": {},
   "outputs": [
    {
     "data": {
      "text/plain": [
       "array([-3.64790018, -3.70225   , -3.75671225, ..., -5.22571528,\n",
       "       -5.25291797, -5.28012066])"
      ]
     },
     "execution_count": 13,
     "metadata": {},
     "output_type": "execute_result"
    }
   ],
   "source": [
    "nfreq = np.arange(3E9, 18E9, 10E6) # % desejada\n",
    "\n",
    "f= interpolate.interp1d(df_ads['freq'], df_ads['S11_ADS'])\n",
    "\n",
    "y_ads = f(nfreq)\n",
    "\n",
    "y_ads"
   ]
  },
  {
   "cell_type": "code",
   "execution_count": 14,
   "metadata": {},
   "outputs": [
    {
     "data": {
      "text/plain": [
       "array([-2.7046966 , -2.74243475, -2.7801729 , ..., -7.8232436 ,\n",
       "       -7.8663908 , -7.90902245])"
      ]
     },
     "execution_count": 14,
     "metadata": {},
     "output_type": "execute_result"
    }
   ],
   "source": [
    "f= interpolate.interp1d(df_cst['freq'], df_cst['S11_CST'])\n",
    "\n",
    "y_cst = f(nfreq)\n",
    "\n",
    "y_cst"
   ]
  },
  {
   "cell_type": "code",
   "execution_count": 15,
   "metadata": {},
   "outputs": [
    {
     "data": {
      "text/plain": [
       "array([-1.078093, -1.092551, -1.093247, ..., -5.364766, -5.432005,\n",
       "       -5.491497])"
      ]
     },
     "execution_count": 15,
     "metadata": {},
     "output_type": "execute_result"
    }
   ],
   "source": [
    "f= interpolate.interp1d(df_medida['freq'], df_medida['S11_MeasINPE'])\n",
    "\n",
    "y_med1 = f(nfreq)\n",
    "\n",
    "y_med1"
   ]
  },
  {
   "cell_type": "code",
   "execution_count": 16,
   "metadata": {},
   "outputs": [
    {
     "data": {
      "text/plain": [
       "array([-1.28890732, -1.30338085, -1.31437549, ..., -5.52045534,\n",
       "       -5.53305568, -5.54893504])"
      ]
     },
     "execution_count": 16,
     "metadata": {},
     "output_type": "execute_result"
    }
   ],
   "source": [
    "f= interpolate.interp1d(df_medida2['freq'], df_medida2['S11_MeasUSP1'])\n",
    "\n",
    "y_med2 = f(nfreq)\n",
    "\n",
    "y_med2"
   ]
  },
  {
   "cell_type": "code",
   "execution_count": 17,
   "metadata": {},
   "outputs": [
    {
     "data": {
      "text/plain": [
       "array([-1.35831133, -1.35325446, -1.35558254, ..., -5.8450813 ,\n",
       "       -5.8705652 , -5.88891736])"
      ]
     },
     "execution_count": 17,
     "metadata": {},
     "output_type": "execute_result"
    }
   ],
   "source": [
    "f= interpolate.interp1d(df_medida3['freq'], df_medida3['S11_MeasUSP2'])\n",
    "\n",
    "y_med3 = f(nfreq)\n",
    "\n",
    "y_med3"
   ]
  },
  {
   "cell_type": "code",
   "execution_count": 18,
   "metadata": {},
   "outputs": [
    {
     "data": {
      "text/plain": [
       "array([-1.65541569, -1.72339675, -1.7727466 , ..., -5.87711689,\n",
       "       -5.88845774, -5.89891056])"
      ]
     },
     "execution_count": 18,
     "metadata": {},
     "output_type": "execute_result"
    }
   ],
   "source": [
    "f= interpolate.interp1d(df_medida4['freq'], df_medida4['S11_MeasUSP3'])\n",
    "\n",
    "y_med4 = f(nfreq)\n",
    "\n",
    "y_med4"
   ]
  },
  {
   "cell_type": "code",
   "execution_count": 19,
   "metadata": {},
   "outputs": [
    {
     "data": {
      "text/html": [
       "<div>\n",
       "<style scoped>\n",
       "    .dataframe tbody tr th:only-of-type {\n",
       "        vertical-align: middle;\n",
       "    }\n",
       "\n",
       "    .dataframe tbody tr th {\n",
       "        vertical-align: top;\n",
       "    }\n",
       "\n",
       "    .dataframe thead th {\n",
       "        text-align: right;\n",
       "    }\n",
       "</style>\n",
       "<table border=\"1\" class=\"dataframe\">\n",
       "  <thead>\n",
       "    <tr style=\"text-align: right;\">\n",
       "      <th></th>\n",
       "      <th>S11_ADS</th>\n",
       "      <th>S11_CST</th>\n",
       "      <th>S11_MeasINPE</th>\n",
       "      <th>S11_MeasUSP3</th>\n",
       "    </tr>\n",
       "  </thead>\n",
       "  <tbody>\n",
       "    <tr>\n",
       "      <th>S11_ADS</th>\n",
       "      <td>1.000000</td>\n",
       "      <td>0.597111</td>\n",
       "      <td>0.661016</td>\n",
       "      <td>0.688516</td>\n",
       "    </tr>\n",
       "    <tr>\n",
       "      <th>S11_CST</th>\n",
       "      <td>0.597111</td>\n",
       "      <td>1.000000</td>\n",
       "      <td>0.929930</td>\n",
       "      <td>0.944757</td>\n",
       "    </tr>\n",
       "    <tr>\n",
       "      <th>S11_MeasINPE</th>\n",
       "      <td>0.661016</td>\n",
       "      <td>0.929930</td>\n",
       "      <td>1.000000</td>\n",
       "      <td>0.983594</td>\n",
       "    </tr>\n",
       "    <tr>\n",
       "      <th>S11_MeasUSP3</th>\n",
       "      <td>0.688516</td>\n",
       "      <td>0.944757</td>\n",
       "      <td>0.983594</td>\n",
       "      <td>1.000000</td>\n",
       "    </tr>\n",
       "  </tbody>\n",
       "</table>\n",
       "</div>"
      ],
      "text/plain": [
       "               S11_ADS   S11_CST  S11_MeasINPE  S11_MeasUSP3\n",
       "S11_ADS       1.000000  0.597111      0.661016      0.688516\n",
       "S11_CST       0.597111  1.000000      0.929930      0.944757\n",
       "S11_MeasINPE  0.661016  0.929930      1.000000      0.983594\n",
       "S11_MeasUSP3  0.688516  0.944757      0.983594      1.000000"
      ]
     },
     "execution_count": 19,
     "metadata": {},
     "output_type": "execute_result"
    }
   ],
   "source": [
    "# d= {'freq': nfreq, 'S11_ADS':y_ads,'S11_CST':y_cst, 'S11_MeasSKY':y_med1,'S11_MeasUSP1':y_med2, 'S11_MeasUSP2':y_med3, 'S11_MeasUSP3':y_med4}\n",
    "\n",
    "d= { 'S11_ADS':y_ads,'S11_CST':y_cst, 'S11_MeasINPE':y_med1, 'S11_MeasUSP3':y_med4}\n",
    "\n",
    "df = pd.DataFrame(d)\n",
    "corr_pearson = df.corr(method='pearson')\n",
    "corr_kendall = df.corr(method='kendall')\n",
    "corr_spearman = df.corr(method='spearman')\n",
    "\n",
    "corr_pearson"
   ]
  },
  {
   "cell_type": "code",
   "execution_count": 20,
   "metadata": {},
   "outputs": [
    {
     "data": {
      "text/plain": [
       "<matplotlib.legend.Legend at 0x276f1ba3430>"
      ]
     },
     "execution_count": 20,
     "metadata": {},
     "output_type": "execute_result"
    },
    {
     "data": {
      "text/plain": [
       "<Figure size 4500x3600 with 0 Axes>"
      ]
     },
     "metadata": {},
     "output_type": "display_data"
    },
    {
     "data": {
      "image/png": "[encoded data removed]",
      "text/plain": [
       "<Figure size 432x288 with 1 Axes>"
      ]
     },
     "metadata": {
      "needs_background": "light"
     },
     "output_type": "display_data"
    }
   ],
   "source": [
    "highest_freq = max([max(df_cst['freq']),max(df_ads['freq'])])\n",
    "\n",
    "\n",
    "figure(figsize=(15, 12), dpi=300)\n",
    "fig, ax = plt.subplots( layout = 'constrained')\n",
    "# ax.plot(df_ads['freq'], df_ads['S11_ADS'], label ='ADS')\n",
    "ax.plot(df_cst['freq'], df_cst['S11_CST'], label ='CST')\n",
    "ax.plot(df_medida['freq'], df_medida['S11_MeasINPE'], '--',label ='INPE',)\n",
    "# ax.plot(df_medida2['freq'], df_medida2['S11_Meas2'], label ='Medida 2')\n",
    "ax.plot(df_medida4['freq'], df_medida4['S11_MeasUSP3'],'--', label ='USP')\n",
    "\n",
    "plt.axhline(y=-10, ls=':', c='r') #Horizontal Line\n",
    "plt.xticks(range(0, 19*10**9, 1*10**9)) #x scale\n",
    "ax.set_xlabel('Frequency')  # Add an x-label to the axes.\n",
    "ax.set_ylabel('S(1,1) [dB]')  # Add a y-label to the axes.\n",
    "ax.set_title('S11_Analysis')  # Add a title to the axes.\n",
    "ax.set(xlim=(0, highest_freq), ylim=(-40, 0))\n",
    "ax.grid()\n",
    "ax.legend()"
   ]
  }
 ],
 "metadata": {
  "kernelspec": {
   "display_name": "Python 3.9.12",
   "language": "python",
   "name": "python3"
  },
  "language_info": {
   "codemirror_mode": {
    "name": "ipython",
    "version": 3
   },
   "file_extension": ".py",
   "mimetype": "text/x-python",
   "name": "python",
   "nbconvert_exporter": "python",
   "pygments_lexer": "ipython3",
   "version": "3.9.12"
  },
  "orig_nbformat": 4,
  "vscode": {
   "interpreter": {
    "hash": "ad2bdc8ecc057115af97d19610ffacc2b4e99fae6737bb82f5d7fb13d2f2c186"
   }
  }
 },
 "nbformat": 4,
 "nbformat_minor": 2
}
